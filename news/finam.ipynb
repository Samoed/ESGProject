{
 "cells": [
  {
   "cell_type": "code",
   "execution_count": 5,
   "id": "7487c9a8",
   "metadata": {},
   "outputs": [],
   "source": [
    "from selenium.webdriver.common.by import By\n",
    "import time\n",
    "from tqdm.autonotebook import tqdm\n",
    "import pandas as pd"
   ]
  },
  {
   "cell_type": "code",
   "execution_count": 2,
   "id": "306b5a4e",
   "metadata": {},
   "outputs": [],
   "source": [
    "from selenium import webdriver\n",
    "from selenium.webdriver.chrome.service import Service as ChromiumService\n",
    "from webdriver_manager.chrome import ChromeDriverManager\n",
    "from webdriver_manager.core.os_manager import ChromeType\n",
    "\n",
    "driver = webdriver.Chrome(service=ChromiumService(ChromeDriverManager(chrome_type=ChromeType.CHROMIUM).install()))"
   ]
  },
  {
   "cell_type": "code",
   "execution_count": 17,
   "id": "51ef35fe",
   "metadata": {},
   "outputs": [],
   "source": [
    "driver.get(\"https://www.finam.ru/quote/moex-akcii/mmk/publications/date/2023-06-01/2023-07-31/\")"
   ]
  },
  {
   "cell_type": "code",
   "execution_count": 18,
   "id": "02f351b0",
   "metadata": {},
   "outputs": [],
   "source": [
    "while (\n",
    "    driver.find_element(\n",
    "        By.XPATH, '//*[@id=\"finfin-local-plugin-block-item-publication-list-filter-date-showMore-container\"]'\n",
    "    ).value_of_css_property(\"display\")\n",
    "    != \"none\"\n",
    "):\n",
    "    button = driver.find_element(\n",
    "        By.CSS_SELECTOR, \"#finfin-local-plugin-block-item-publication-list-filter-date-showMore-container > span\"\n",
    "    )\n",
    "    try:\n",
    "        button.click()\n",
    "    except Exception as e:\n",
    "        print(e)\n",
    "    time.sleep(1)"
   ]
  },
  {
   "cell_type": "code",
   "execution_count": 19,
   "id": "780a5879",
   "metadata": {},
   "outputs": [],
   "source": [
    "links = []\n",
    "for elem in driver.find_elements(\n",
    "    By.CSS_SELECTOR, \"#finfin-local-plugin-block-item-publication-list-filter-date-content > a\"\n",
    "):\n",
    "    links.append(elem.get_attribute(\"href\"))"
   ]
  },
  {
   "cell_type": "code",
   "execution_count": 20,
   "id": "bb56d22f",
   "metadata": {},
   "outputs": [
    {
     "name": "stderr",
     "output_type": "stream",
     "text": [
      "100%|██████████| 28/28 [03:12<00:00,  6.88s/it]\n"
     ]
    }
   ],
   "source": [
    "texts = []\n",
    "for link in tqdm(links):\n",
    "    driver.get(link)\n",
    "    if link.find(\"www.finam.ru\") != -1:\n",
    "        texts_html = driver.find_elements(By.XPATH, \"/html/body/div[1]/div/div[2]/div/div[4]/div[1]/div[3]/div[2]\")\n",
    "    else:\n",
    "        texts_html = driver.find_elements(By.CSS_SELECTOR, \"#content-block > dl:nth-child(4) > dd:nth-child(1) > p\")\n",
    "    text = \" \".join(elem.text for elem in texts_html)\n",
    "    texts.append({\"url\": link, \"text\": text})\n",
    "    time.sleep(1)"
   ]
  },
  {
   "cell_type": "code",
   "execution_count": 21,
   "id": "2f5d1fc4",
   "metadata": {},
   "outputs": [],
   "source": [
    "pd.DataFrame(texts).to_csv(\"mmk_news.csv\")"
   ]
  },
  {
   "cell_type": "code",
   "execution_count": 23,
   "id": "f7f3a11a",
   "metadata": {},
   "outputs": [
    {
     "data": {
      "text/plain": [
       "(151, 3)"
      ]
     },
     "execution_count": 23,
     "metadata": {},
     "output_type": "execute_result"
    }
   ],
   "source": [
    "gazprom = pd.read_csv(\"gazprom_news.csv\", index_col=0)\n",
    "gazprom[\"company\"] = \"gazprom\"\n",
    "mmk = pd.read_csv(\"mmk_news.csv\", index_col=0)\n",
    "mmk[\"company\"] = \"mmk\"\n",
    "news = pd.concat([gazprom, mmk])\n",
    "news.shape"
   ]
  },
  {
   "cell_type": "code",
   "execution_count": 24,
   "id": "7bbe82dd",
   "metadata": {},
   "outputs": [],
   "source": [
    "news.to_csv(\"news.csv.zip\")"
   ]
  },
  {
   "cell_type": "code",
   "execution_count": null,
   "id": "d7369406",
   "metadata": {},
   "outputs": [],
   "source": []
  }
 ],
 "metadata": {
  "kernelspec": {
   "display_name": "Python 3 (ipykernel)",
   "language": "python",
   "name": "python3"
  },
  "language_info": {
   "codemirror_mode": {
    "name": "ipython",
    "version": 3
   },
   "file_extension": ".py",
   "mimetype": "text/x-python",
   "name": "python",
   "nbconvert_exporter": "python",
   "pygments_lexer": "ipython3",
   "version": "3.10.4"
  }
 },
 "nbformat": 4,
 "nbformat_minor": 5
}
