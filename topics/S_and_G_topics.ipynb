{
 "cells": [
  {
   "cell_type": "code",
   "execution_count": 1,
   "id": "2763119b-8289-4286-ac58-01bb07428d1e",
   "metadata": {},
   "outputs": [
    {
     "name": "stderr",
     "output_type": "stream",
     "text": [
      "/tmp/ipykernel_194135/4032043441.py:3: TqdmExperimentalWarning: Using `tqdm.autonotebook.tqdm` in notebook mode. Use `tqdm.tqdm` instead to force console mode (e.g. in jupyter console)\n",
      "  from tqdm.autonotebook import tqdm\n"
     ]
    }
   ],
   "source": [
    "import pandas as pd\n",
    "import re\n",
    "from tqdm.autonotebook import tqdm\n",
    "from sklearn.metrics.pairwise import cosine_similarity\n",
    "import copy"
   ]
  },
  {
   "cell_type": "code",
   "execution_count": 7,
   "id": "e8ffe006-6984-4d1b-86ef-bd4274417741",
   "metadata": {},
   "outputs": [],
   "source": [
    "excel = pd.ExcelFile(\"./Рейтинг ESG - Отчеты компаний.xlsx\")\n",
    "sheets = {}\n",
    "for sheet_name in [\"E топики\", \"G топики\", \"S топики\"]:\n",
    "    sheets[sheet_name] = pd.read_excel(excel, sheet_name=sheet_name)"
   ]
  },
  {
   "cell_type": "code",
   "execution_count": 74,
   "id": "fb3eb48e-089c-4a80-b335-58e4d7c0e309",
   "metadata": {},
   "outputs": [
    {
     "data": {
      "text/plain": [
       "УНИВЕРСАЛЬНЫЕ ТОПИКИ\n",
       "Безопасность и охрана труда          безопасность, охрана, пасность, работник, труд...\n",
       "Безопасность продукта                кредитование, опасность, финансовыи, риска, ри...\n",
       "Благотворительность                  областнои, волонтерство, фонд, спонсорство, фо...\n",
       "Инвестиции и капитальные вложения    стратегическии, стратегически, инвестиция, лид...\n",
       "Налоги                               налогообложение, налог, налоговыи, бюджетныи, ...\n",
       "Обучение и развитие                  образование, выпускник, образоваться, диплом, ...\n",
       "Оплата труда                         пенсия, пенсионныи, пенсионер, льготныи, работ...\n",
       "Отношения  потребителями             маркетинг, маркетинговыи, демографическии, дет...\n",
       "Отношения с потребителями            потребитель, потребительскии, клиент, клиентск...\n",
       "Отношения с работниками              компенсация, компенсационныи, уплата, выплата,...\n",
       "Охрана здоровья                      медицина, поликлиника, диспансеризация, медици...\n",
       "Профсоюзы и коллективные договоры    профсоюз, электропрофсоюз, профсоюзныи, всесою...\n",
       "Трудовые отношения                   работник, персонал, сотрудник, кадровыи, зарпл...\n",
       "Name: topic_words, dtype: object"
      ]
     },
     "execution_count": 74,
     "metadata": {},
     "output_type": "execute_result"
    }
   ],
   "source": [
    "words = {}\n",
    "words[\"G\"] = sheets[\"G топики\"].groupby(\"УНИВЕРСАЛЬНЫЕ ТОПИКИ\")[\"topic_words\"].apply(\", \".join)\n",
    "words[\"S\"] = sheets[\"S топики\"].groupby(\"УНИВЕРСАЛЬНЫЕ ТОПИКИ\")[\"topic_words\"].apply(\", \".join)\n",
    "words[\"G\"]"
   ]
  },
  {
   "cell_type": "code",
   "execution_count": 75,
   "id": "79606ce5-90d7-40b6-988a-3aec3df1cad0",
   "metadata": {},
   "outputs": [],
   "source": [
    "words[\"G\"] = words[\"G\"].str.split(\", \").apply(set).apply(list)\n",
    "words[\"S\"] = words[\"S\"].str.split(\", \").apply(set).apply(list)"
   ]
  },
  {
   "cell_type": "code",
   "execution_count": 76,
   "id": "3d0ec581-c8e8-47d8-aef4-3bd717b9e6d8",
   "metadata": {},
   "outputs": [
    {
     "data": {
      "text/plain": [
       "УНИВЕРСАЛЬНЫЕ ТОПИКИ\n",
       "Антикоррупция                         [нарушать, круг, политик, ликвидность, вправе,...\n",
       "Дивиденды и акционеры                 [одобрение, атомфлот, зачисление, внешнеторгов...\n",
       "Инновации                             [изобретатель, лицензия, ресурсныи, идентифика...\n",
       "Лидерство                             [менеджерскии, лицевои, репо, протокол, репута...\n",
       "Отчетность и прозрачность             [полнота, экспортер, реа, репутационныи, полит...\n",
       "Предотвращение коррупции              [менеджерскии, внешнеторговыи, повреждение, ад...\n",
       "Управление рисками                    [банковскии, надежно, предполагаться, недвижим...\n",
       "Эффективность и производительность    [производство, производитель, экономическии, п...\n",
       "Name: topic_words, dtype: object"
      ]
     },
     "execution_count": 76,
     "metadata": {},
     "output_type": "execute_result"
    }
   ],
   "source": [
    "words[\"S\"]"
   ]
  },
  {
   "cell_type": "code",
   "execution_count": 77,
   "id": "669ac123-e8f3-46d5-aa9b-3fb2827ad701",
   "metadata": {},
   "outputs": [],
   "source": [
    "re_dict = {}\n",
    "sheets_dict = {}\n",
    "base_dict = {}\n",
    "\n",
    "for idx, row in words[\"S\"].items():\n",
    "    sheets_dict[idx] = {r: 1 for r in row}\n",
    "    base_dict[idx] = {r: 0 for r in row}\n",
    "    re_dict[idx] = re.compile(\"(\" + \"(?!\\w)|\".join(row) + \"(?!\\w))\")"
   ]
  },
  {
   "cell_type": "code",
   "execution_count": 68,
   "id": "15b05e08-dc37-4c84-9818-6ff81638881e",
   "metadata": {},
   "outputs": [
    {
     "name": "stderr",
     "output_type": "stream",
     "text": [
      "/tmp/ipykernel_3299/177660427.py:1: DtypeWarning: Columns (7) have mixed types. Specify dtype option on import or set low_memory=False.\n",
      "  df = pd.read_csv(\"../parsing/paragraphs.csv.zip\", usecols=[\"cleaned_text\"])\n"
     ]
    },
    {
     "data": {
      "text/html": [
       "<div>\n",
       "<style scoped>\n",
       "    .dataframe tbody tr th:only-of-type {\n",
       "        vertical-align: middle;\n",
       "    }\n",
       "\n",
       "    .dataframe tbody tr th {\n",
       "        vertical-align: top;\n",
       "    }\n",
       "\n",
       "    .dataframe thead th {\n",
       "        text-align: right;\n",
       "    }\n",
       "</style>\n",
       "<table border=\"1\" class=\"dataframe\">\n",
       "  <thead>\n",
       "    <tr style=\"text-align: right;\">\n",
       "      <th></th>\n",
       "      <th>cleaned_text</th>\n",
       "    </tr>\n",
       "  </thead>\n",
       "  <tbody>\n",
       "    <tr>\n",
       "      <th>0</th>\n",
       "      <td>ммк</td>\n",
       "    </tr>\n",
       "    <tr>\n",
       "      <th>1</th>\n",
       "      <td>социальный отчёт ммк за год магнитогорский мет...</td>\n",
       "    </tr>\n",
       "    <tr>\n",
       "      <th>3</th>\n",
       "      <td>содержание</td>\n",
       "    </tr>\n",
       "    <tr>\n",
       "      <th>4</th>\n",
       "      <td>обращение председатель совет директор параметр...</td>\n",
       "    </tr>\n",
       "    <tr>\n",
       "      <th>5</th>\n",
       "      <td>ммк</td>\n",
       "    </tr>\n",
       "  </tbody>\n",
       "</table>\n",
       "</div>"
      ],
      "text/plain": [
       "                                        cleaned_text\n",
       "0                                                ммк\n",
       "1  социальный отчёт ммк за год магнитогорский мет...\n",
       "3                                         содержание\n",
       "4  обращение председатель совет директор параметр...\n",
       "5                                                ммк"
      ]
     },
     "execution_count": 68,
     "metadata": {},
     "output_type": "execute_result"
    }
   ],
   "source": [
    "df = pd.read_csv(\"../parsing/paragraphs.csv.zip\", usecols=[\"cleaned_text\"])\n",
    "df = df.dropna()\n",
    "df.head()"
   ]
  },
  {
   "cell_type": "code",
   "execution_count": 78,
   "id": "e8249421-705a-4a3a-bc75-b294ea632ed5",
   "metadata": {},
   "outputs": [
    {
     "data": {
      "application/json": {
       "ascii": false,
       "bar_format": null,
       "colour": null,
       "elapsed": 0.004034280776977539,
       "initial": 0,
       "n": 0,
       "ncols": null,
       "nrows": 24,
       "postfix": null,
       "prefix": "",
       "rate": null,
       "total": 2309485,
       "unit": "it",
       "unit_divisor": 1000,
       "unit_scale": false
      },
      "application/vnd.jupyter.widget-view+json": {
       "model_id": "036b4877480043419c6b45b56810b010",
       "version_major": 2,
       "version_minor": 0
      },
      "text/plain": [
       "  0%|          | 0/2309485 [00:00<?, ?it/s]"
      ]
     },
     "metadata": {},
     "output_type": "display_data"
    }
   ],
   "source": [
    "topics = []\n",
    "for text in tqdm(df[\"cleaned_text\"].tolist()):\n",
    "    paragraph_dict = copy.deepcopy(base_dict)\n",
    "    found_words = False\n",
    "    for key, regex in re_dict.items():\n",
    "        words = regex.findall(text)\n",
    "        for word in words:\n",
    "            paragraph_dict[key][word] = 1\n",
    "            found_words = True\n",
    "    res = {}\n",
    "    if not found_words:\n",
    "        res = {key: 0 for key in sheets_dict}\n",
    "        topics.append(res | {\"max_score\": None, \"max_topic\": None})\n",
    "        continue\n",
    "    for key, vector in sheets_dict.items():\n",
    "        sim = cosine_similarity(X=[list(vector.values())], Y=[list(paragraph_dict[key].values())])[0][0]\n",
    "        res[key] = sim\n",
    "    \n",
    "    topics.append(res | {\"max_score\": max(res.values()), \"max_topic\": max(res, key=lambda k: res[k])})"
   ]
  },
  {
   "cell_type": "code",
   "execution_count": 79,
   "id": "b3f64588-0695-4a0a-ac7b-fcc96b8db4f0",
   "metadata": {},
   "outputs": [
    {
     "data": {
      "text/plain": [
       "Управление рисками                    319196\n",
       "Эффективность и производительность    287344\n",
       "Антикоррупция                         217183\n",
       "Дивиденды и акционеры                 194232\n",
       "Лидерство                             155653\n",
       "Предотвращение коррупции              152598\n",
       "Инновации                              94243\n",
       "Отчетность и прозрачность              91518\n",
       "Name: max_topic, dtype: int64"
      ]
     },
     "execution_count": 79,
     "metadata": {},
     "output_type": "execute_result"
    }
   ],
   "source": [
    "df_topic = pd.DataFrame(topics) \n",
    "df_topic[\"max_topic\"].value_counts()"
   ]
  },
  {
   "cell_type": "code",
   "execution_count": 80,
   "id": "4f5ba6ad-d196-4bff-ba17-fdd4f46bea02",
   "metadata": {},
   "outputs": [],
   "source": [
    "df_topic.to_csv(\"./topics.csv.zip\", index=False)"
   ]
  },
  {
   "cell_type": "code",
   "execution_count": 2,
   "id": "26c79d92-b704-4788-a4d8-a077dcf5e1ec",
   "metadata": {},
   "outputs": [
    {
     "name": "stderr",
     "output_type": "stream",
     "text": [
      "/tmp/ipykernel_194135/2681922716.py:1: DtypeWarning: Columns (0,1,2,3,4,6,7) have mixed types. Specify dtype option on import or set low_memory=False.\n",
      "  df = pd.read_csv(\"../parsing/paragraphs.csv.zip\", index_col=0)\n"
     ]
    }
   ],
   "source": [
    "df = pd.read_csv(\"../parsing/paragraphs.csv.zip\", index_col=0)\n",
    "df = df.dropna()\n",
    "topics_e = pd.read_csv(\"topicsE.csv.zip\")\n",
    "topics_s = pd.read_csv(\"topicsS.csv.zip\")\n",
    "topics_g = pd.read_csv(\"topicsG.csv.zip\")"
   ]
  },
  {
   "cell_type": "code",
   "execution_count": 3,
   "id": "c40e12f5-2af8-4efb-8a07-98cefd6d9193",
   "metadata": {},
   "outputs": [
    {
     "data": {
      "text/html": [
       "<div>\n",
       "<style scoped>\n",
       "    .dataframe tbody tr th:only-of-type {\n",
       "        vertical-align: middle;\n",
       "    }\n",
       "\n",
       "    .dataframe tbody tr th {\n",
       "        vertical-align: top;\n",
       "    }\n",
       "\n",
       "    .dataframe thead th {\n",
       "        text-align: right;\n",
       "    }\n",
       "</style>\n",
       "<table border=\"1\" class=\"dataframe\">\n",
       "  <thead>\n",
       "    <tr style=\"text-align: right;\">\n",
       "      <th></th>\n",
       "      <th>company</th>\n",
       "      <th>year</th>\n",
       "      <th>sector</th>\n",
       "      <th>report_type</th>\n",
       "      <th>paragraph</th>\n",
       "      <th>original_text</th>\n",
       "      <th>cleaned_text</th>\n",
       "      <th>Экология</th>\n",
       "      <th>Климат</th>\n",
       "      <th>Энергия</th>\n",
       "      <th>...</th>\n",
       "      <th>Обучение и развитие</th>\n",
       "      <th>Оплата труда</th>\n",
       "      <th>Отношения  потребителями</th>\n",
       "      <th>Отношения с потребителями</th>\n",
       "      <th>Отношения с работниками</th>\n",
       "      <th>Охрана здоровья</th>\n",
       "      <th>Профсоюзы и коллективные договоры</th>\n",
       "      <th>Трудовые отношения</th>\n",
       "      <th>max_scoreG</th>\n",
       "      <th>max_topicG</th>\n",
       "    </tr>\n",
       "  </thead>\n",
       "  <tbody>\n",
       "    <tr>\n",
       "      <th>0</th>\n",
       "      <td>ПАО «ММК»</td>\n",
       "      <td>2014</td>\n",
       "      <td>Металлургическая и горнодобывающая</td>\n",
       "      <td>СО</td>\n",
       "      <td>0.0</td>\n",
       "      <td>1 ММК</td>\n",
       "      <td>ммк</td>\n",
       "      <td>0.000000</td>\n",
       "      <td>0.000000</td>\n",
       "      <td>0.0</td>\n",
       "      <td>...</td>\n",
       "      <td>0.0</td>\n",
       "      <td>0.00000</td>\n",
       "      <td>0.000000</td>\n",
       "      <td>0.000000</td>\n",
       "      <td>0.000000</td>\n",
       "      <td>0.0</td>\n",
       "      <td>0.000000</td>\n",
       "      <td>0.000000</td>\n",
       "      <td>NaN</td>\n",
       "      <td>NaN</td>\n",
       "    </tr>\n",
       "    <tr>\n",
       "      <th>1</th>\n",
       "      <td>ПАО «ММК»</td>\n",
       "      <td>2014</td>\n",
       "      <td>Металлургическая и горнодобывающая</td>\n",
       "      <td>СО</td>\n",
       "      <td>1.0</td>\n",
       "      <td>СОЦИАЛЬНЫЙ ОТЧЕТ ММК ЗА 2014 ГОД МАГНИТОГОРСКИ...</td>\n",
       "      <td>социальный отчёт ммк за год магнитогорский мет...</td>\n",
       "      <td>0.260378</td>\n",
       "      <td>0.160128</td>\n",
       "      <td>0.0</td>\n",
       "      <td>...</td>\n",
       "      <td>0.0</td>\n",
       "      <td>0.08737</td>\n",
       "      <td>0.000000</td>\n",
       "      <td>0.000000</td>\n",
       "      <td>0.000000</td>\n",
       "      <td>0.0</td>\n",
       "      <td>0.000000</td>\n",
       "      <td>0.000000</td>\n",
       "      <td>0.087370</td>\n",
       "      <td>Оплата труда</td>\n",
       "    </tr>\n",
       "    <tr>\n",
       "      <th>3</th>\n",
       "      <td>ПАО «ММК»</td>\n",
       "      <td>2014</td>\n",
       "      <td>Металлургическая и горнодобывающая</td>\n",
       "      <td>СО</td>\n",
       "      <td>3.0</td>\n",
       "      <td>СОДЕРЖАНИЕ</td>\n",
       "      <td>содержание</td>\n",
       "      <td>0.130189</td>\n",
       "      <td>0.000000</td>\n",
       "      <td>0.0</td>\n",
       "      <td>...</td>\n",
       "      <td>0.0</td>\n",
       "      <td>0.15133</td>\n",
       "      <td>0.141421</td>\n",
       "      <td>0.145095</td>\n",
       "      <td>0.188982</td>\n",
       "      <td>0.0</td>\n",
       "      <td>0.179605</td>\n",
       "      <td>0.178743</td>\n",
       "      <td>0.200000</td>\n",
       "      <td>Безопасность продукта</td>\n",
       "    </tr>\n",
       "    <tr>\n",
       "      <th>4</th>\n",
       "      <td>ПАО «ММК»</td>\n",
       "      <td>2014</td>\n",
       "      <td>Металлургическая и горнодобывающая</td>\n",
       "      <td>СО</td>\n",
       "      <td>4.0</td>\n",
       "      <td>Обращение председателя совета директоров.........</td>\n",
       "      <td>обращение председатель совет директор параметр...</td>\n",
       "      <td>0.000000</td>\n",
       "      <td>0.000000</td>\n",
       "      <td>0.0</td>\n",
       "      <td>...</td>\n",
       "      <td>0.0</td>\n",
       "      <td>0.00000</td>\n",
       "      <td>0.000000</td>\n",
       "      <td>0.000000</td>\n",
       "      <td>0.000000</td>\n",
       "      <td>0.0</td>\n",
       "      <td>0.000000</td>\n",
       "      <td>0.000000</td>\n",
       "      <td>NaN</td>\n",
       "      <td>NaN</td>\n",
       "    </tr>\n",
       "    <tr>\n",
       "      <th>5</th>\n",
       "      <td>ПАО «ММК»</td>\n",
       "      <td>2014</td>\n",
       "      <td>Металлургическая и горнодобывающая</td>\n",
       "      <td>СО</td>\n",
       "      <td>5.0</td>\n",
       "      <td>3 ММК</td>\n",
       "      <td>ммк</td>\n",
       "      <td>0.000000</td>\n",
       "      <td>0.000000</td>\n",
       "      <td>0.0</td>\n",
       "      <td>...</td>\n",
       "      <td>0.0</td>\n",
       "      <td>0.00000</td>\n",
       "      <td>0.000000</td>\n",
       "      <td>0.102598</td>\n",
       "      <td>0.000000</td>\n",
       "      <td>0.0</td>\n",
       "      <td>0.000000</td>\n",
       "      <td>0.079936</td>\n",
       "      <td>0.102598</td>\n",
       "      <td>Отношения с потребителями</td>\n",
       "    </tr>\n",
       "  </tbody>\n",
       "</table>\n",
       "<p>5 rows × 42 columns</p>\n",
       "</div>"
      ],
      "text/plain": [
       "      company  year                              sector report_type  \\\n",
       "0  ПАО «ММК»   2014  Металлургическая и горнодобывающая          СО   \n",
       "1  ПАО «ММК»   2014  Металлургическая и горнодобывающая          СО   \n",
       "3  ПАО «ММК»   2014  Металлургическая и горнодобывающая          СО   \n",
       "4  ПАО «ММК»   2014  Металлургическая и горнодобывающая          СО   \n",
       "5  ПАО «ММК»   2014  Металлургическая и горнодобывающая          СО   \n",
       "\n",
       "   paragraph                                      original_text  \\\n",
       "0        0.0                                              1 ММК   \n",
       "1        1.0  СОЦИАЛЬНЫЙ ОТЧЕТ ММК ЗА 2014 ГОД МАГНИТОГОРСКИ...   \n",
       "3        3.0                                        \n",
       "СОДЕРЖАНИЕ   \n",
       "4        4.0  Обращение председателя совета директоров.........   \n",
       "5        5.0                                              3 ММК   \n",
       "\n",
       "                                        cleaned_text  Экология    Климат  \\\n",
       "0                                                ммк  0.000000  0.000000   \n",
       "1  социальный отчёт ммк за год магнитогорский мет...  0.260378  0.160128   \n",
       "3                                         содержание  0.130189  0.000000   \n",
       "4  обращение председатель совет директор параметр...  0.000000  0.000000   \n",
       "5                                                ммк  0.000000  0.000000   \n",
       "\n",
       "   Энергия  ...  Обучение и развитие  Оплата труда  Отношения  потребителями  \\\n",
       "0      0.0  ...                  0.0       0.00000                  0.000000   \n",
       "1      0.0  ...                  0.0       0.08737                  0.000000   \n",
       "3      0.0  ...                  0.0       0.15133                  0.141421   \n",
       "4      0.0  ...                  0.0       0.00000                  0.000000   \n",
       "5      0.0  ...                  0.0       0.00000                  0.000000   \n",
       "\n",
       "   Отношения с потребителями  Отношения с работниками  Охрана здоровья  \\\n",
       "0                   0.000000                 0.000000              0.0   \n",
       "1                   0.000000                 0.000000              0.0   \n",
       "3                   0.145095                 0.188982              0.0   \n",
       "4                   0.000000                 0.000000              0.0   \n",
       "5                   0.102598                 0.000000              0.0   \n",
       "\n",
       "  Профсоюзы и коллективные договоры  Трудовые отношения  max_scoreG  \\\n",
       "0                          0.000000            0.000000         NaN   \n",
       "1                          0.000000            0.000000    0.087370   \n",
       "3                          0.179605            0.178743    0.200000   \n",
       "4                          0.000000            0.000000         NaN   \n",
       "5                          0.000000            0.079936    0.102598   \n",
       "\n",
       "                  max_topicG  \n",
       "0                        NaN  \n",
       "1               Оплата труда  \n",
       "3      Безопасность продукта  \n",
       "4                        NaN  \n",
       "5  Отношения с потребителями  \n",
       "\n",
       "[5 rows x 42 columns]"
      ]
     },
     "execution_count": 3,
     "metadata": {},
     "output_type": "execute_result"
    }
   ],
   "source": [
    "test = df.join(topics_e, rsuffix=\"E\").join(topics_s, rsuffix=\"S\").join(topics_g, rsuffix=\"G\")\n",
    "test.head()"
   ]
  },
  {
   "cell_type": "code",
   "execution_count": 5,
   "id": "9f7bd7b5-d1df-43f9-948b-eb5486788c9e",
   "metadata": {},
   "outputs": [],
   "source": [
    "test.to_csv(\"paragrapgs_with_topics.csv.zip\")"
   ]
  },
  {
   "cell_type": "code",
   "execution_count": null,
   "id": "5e8d9320-d410-414f-ac3b-2049ae7eaea7",
   "metadata": {},
   "outputs": [],
   "source": []
  }
 ],
 "metadata": {
  "kernelspec": {
   "display_name": "Python 3 (ipykernel)",
   "language": "python",
   "name": "python3"
  },
  "language_info": {
   "codemirror_mode": {
    "name": "ipython",
    "version": 3
   },
   "file_extension": ".py",
   "mimetype": "text/x-python",
   "name": "python",
   "nbconvert_exporter": "python",
   "pygments_lexer": "ipython3",
   "version": "3.10.4"
  }
 },
 "nbformat": 4,
 "nbformat_minor": 5
}
