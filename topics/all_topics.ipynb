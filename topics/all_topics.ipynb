{
 "cells": [
  {
   "cell_type": "code",
   "execution_count": 1,
   "metadata": {},
   "outputs": [],
   "source": [
    "import pandas as pd\n",
    "import re\n",
    "from tqdm import tqdm\n",
    "from sklearn.metrics.pairwise import cosine_similarity\n",
    "import copy\n",
    "from collections import defaultdict"
   ]
  },
  {
   "cell_type": "code",
   "execution_count": 2,
   "metadata": {},
   "outputs": [
    {
     "data": {
      "text/html": [
       "<div>\n",
       "<style scoped>\n",
       "    .dataframe tbody tr th:only-of-type {\n",
       "        vertical-align: middle;\n",
       "    }\n",
       "\n",
       "    .dataframe tbody tr th {\n",
       "        vertical-align: top;\n",
       "    }\n",
       "\n",
       "    .dataframe thead th {\n",
       "        text-align: right;\n",
       "    }\n",
       "</style>\n",
       "<table border=\"1\" class=\"dataframe\">\n",
       "  <thead>\n",
       "    <tr style=\"text-align: right;\">\n",
       "      <th></th>\n",
       "      <th>topic</th>\n",
       "      <th>word</th>\n",
       "      <th>type</th>\n",
       "    </tr>\n",
       "  </thead>\n",
       "  <tbody>\n",
       "    <tr>\n",
       "      <th>0</th>\n",
       "      <td>Экология</td>\n",
       "      <td>аудит системы</td>\n",
       "      <td>1</td>\n",
       "    </tr>\n",
       "    <tr>\n",
       "      <th>1</th>\n",
       "      <td>Экология</td>\n",
       "      <td>взаимодействие</td>\n",
       "      <td>1</td>\n",
       "    </tr>\n",
       "    <tr>\n",
       "      <th>2</th>\n",
       "      <td>Экология</td>\n",
       "      <td>внедрение</td>\n",
       "      <td>1</td>\n",
       "    </tr>\n",
       "    <tr>\n",
       "      <th>3</th>\n",
       "      <td>Экология</td>\n",
       "      <td>воздействие</td>\n",
       "      <td>1</td>\n",
       "    </tr>\n",
       "    <tr>\n",
       "      <th>4</th>\n",
       "      <td>Экология</td>\n",
       "      <td>восстановительные мероприятия</td>\n",
       "      <td>1</td>\n",
       "    </tr>\n",
       "  </tbody>\n",
       "</table>\n",
       "</div>"
      ],
      "text/plain": [
       "      topic                           word  type\n",
       "0  Экология                  аудит системы     1\n",
       "1  Экология                 взаимодействие     1\n",
       "2  Экология                      внедрение     1\n",
       "3  Экология                    воздействие     1\n",
       "4  Экология  восстановительные мероприятия     1"
      ]
     },
     "execution_count": 2,
     "metadata": {},
     "output_type": "execute_result"
    }
   ],
   "source": [
    "e_topics = pd.read_csv(\"e_topic.csv.zip\")\n",
    "s_topics = pd.read_csv(\"s_topic.csv.zip\")\n",
    "g_topics = pd.read_csv(\"g_topic.csv.zip\")\n",
    "e_topics.head()"
   ]
  },
  {
   "cell_type": "code",
   "execution_count": 3,
   "metadata": {},
   "outputs": [
    {
     "data": {
      "text/plain": [
       "Отчетность и прозрачность             530\n",
       "Лидерство                             371\n",
       "Инвестиции и капитальные вложения     370\n",
       "Безопасность и охрана труда           349\n",
       "Эффективность и производительность    319\n",
       "Трудовые отношения                    313\n",
       "Дивиденды и акционеры                 306\n",
       "Благотворительность                   259\n",
       "Управление рисками                    214\n",
       "Оплата труда                          131\n",
       "Климат                                119\n",
       "Инновации                             104\n",
       "Отношения с потребителями              95\n",
       "Профсоюзы и коллективные договоры      93\n",
       "Предотвращение коррупции               92\n",
       "Отношения с работниками                84\n",
       "Налоги                                 81\n",
       "Вода                                   69\n",
       "Энергия                                63\n",
       "Экология                               59\n",
       "Отходы                                 51\n",
       "Обучение и развитие                    50\n",
       "Безопасность продукта                  50\n",
       "Отношения  потребителями               50\n",
       "Охрана здоровья                        50\n",
       "Антикоррупция                          50\n",
       "Биоразнообразие                        47\n",
       "Воздух                                 42\n",
       "Социально-культурное воздействи         3\n",
       "Name: topic, dtype: int64"
      ]
     },
     "execution_count": 3,
     "metadata": {},
     "output_type": "execute_result"
    }
   ],
   "source": [
    "df = pd.concat([e_topics, s_topics, g_topics])\n",
    "df[\"topic\"].value_counts()"
   ]
  },
  {
   "cell_type": "code",
   "execution_count": 4,
   "metadata": {},
   "outputs": [],
   "source": [
    "re_dict = {}\n",
    "sheets_dict = {}\n",
    "base_dict = {}\n",
    "\n",
    "for idx, row in df.iterrows():\n",
    "    if not sheets_dict.get(row[\"topic\"], False):\n",
    "        sheets_dict[row[\"topic\"]] = {}\n",
    "        base_dict[row[\"topic\"]] = {}\n",
    "    sheets_dict[row[\"topic\"]][row[\"word\"]] = row[\"type\"]\n",
    "    base_dict[row[\"topic\"]][row[\"word\"]] = 0"
   ]
  },
  {
   "cell_type": "code",
   "execution_count": 5,
   "metadata": {},
   "outputs": [],
   "source": [
    "for key, val in sheets_dict.items():\n",
    "    re_dict[key] = re.compile(\"(\" + \"(?!\\w)|\".join(val.keys()) + \"(?!\\w))\")"
   ]
  },
  {
   "cell_type": "code",
   "execution_count": 6,
   "metadata": {},
   "outputs": [
    {
     "name": "stdout",
     "output_type": "stream",
     "text": [
      "Экология []\n",
      "Климат ['политика']\n",
      "Энергия []\n",
      "Воздух []\n",
      "Вода []\n",
      "Отходы []\n",
      "Биоразнообразие []\n",
      "Социально-культурное воздействи []\n",
      "Антикоррупция ['политика']\n",
      "Дивиденды и акционеры []\n",
      "Инновации []\n",
      "Лидерство ['политика', 'показатель']\n",
      "Отчетность и прозрачность ['политика']\n",
      "Предотвращение коррупции ['политика']\n",
      "Управление рисками ['ность', 'ность']\n",
      "Эффективность и производительность ['показатель', 'ция']\n",
      "Безопасность и охрана труда ['политика', 'информация']\n",
      "Безопасность продукта []\n",
      "Благотворительность []\n",
      "Инвестиции и капитальные вложения ['политика']\n",
      "Налоги []\n",
      "Обучение и развитие []\n",
      "Оплата труда []\n",
      "Отношения  потребителями []\n",
      "Отношения с потребителями []\n",
      "Отношения с работниками []\n",
      "Охрана здоровья []\n",
      "Профсоюзы и коллективные договоры []\n",
      "Трудовые отношения ['показатель']\n"
     ]
    }
   ],
   "source": [
    "text = \"социальный отчёт полностью охватывать социальный политика оао ммк дальнейший расширение возможно часть увеличение показатель деятельность случай выявление заинтересованность пользователь информация общество\"\n",
    "\n",
    "for key, regex in re_dict.items():\n",
    "    print(key, regex.findall(text))"
   ]
  },
  {
   "cell_type": "code",
   "execution_count": 7,
   "metadata": {
    "scrolled": true
   },
   "outputs": [
    {
     "name": "stderr",
     "output_type": "stream",
     "text": [
      "<ipython-input-7-f512ae0502ff>:1: DtypeWarning: Columns (0,1,2,3,4,6,7) have mixed types. Specify dtype option on import or set low_memory=False.\n",
      "  df = pd.read_csv(\"paragraphs.csv.zip\") # , usecols=[\"cleaned_text\"]\n"
     ]
    },
    {
     "data": {
      "text/plain": [
       "(2309485, 8)"
      ]
     },
     "execution_count": 7,
     "metadata": {},
     "output_type": "execute_result"
    }
   ],
   "source": [
    "df = pd.read_csv(\"paragraphs.csv.zip\") # , usecols=[\"cleaned_text\"]\n",
    "df = df.dropna()\n",
    "# df = df[df[\"cleaned_text\"].apply(lambda x: len(x.split()) > 1)]\n",
    "# df = df.reset_index(drop=True)\n",
    "df.shape"
   ]
  },
  {
   "cell_type": "code",
   "execution_count": 11,
   "metadata": {},
   "outputs": [
    {
     "name": "stderr",
     "output_type": "stream",
     "text": [
      "100%|██████████| 2309485/2309485 [9:17:55<00:00, 68.99it/s]   \n"
     ]
    }
   ],
   "source": [
    "topics = []\n",
    "for text in tqdm(df[\"cleaned_text\"].tolist()):\n",
    "    paragraph_dict = copy.deepcopy(base_dict)\n",
    "    found_words = False\n",
    "    for key, regex in re_dict.items():\n",
    "        words = regex.findall(text)\n",
    "        for word in words:\n",
    "            paragraph_dict[key][word] = 1\n",
    "            found_words = True\n",
    "    res = {}\n",
    "    if not found_words:\n",
    "        res = {key: 0 for key in sheets_dict}\n",
    "        topics.append({**res, **{\"max_score\": None, \"max_topic\": None}})\n",
    "        continue\n",
    "    for key, vector in sheets_dict.items():\n",
    "        sim = cosine_similarity(X=[list(vector.values())], Y=[list(paragraph_dict[key].values())])[0][0]\n",
    "        res[key] = sim\n",
    "    \n",
    "    topics.append({**res, **{\"max_score\": max(res.values()), \"max_topic\": max(res, key=lambda k: res[k])}})"
   ]
  },
  {
   "cell_type": "code",
   "execution_count": 12,
   "metadata": {},
   "outputs": [],
   "source": [
    "import pickle\n",
    "\n",
    "with open(\"topics.pkl\", \"wb\") as fp:   #Pickling\n",
    "    pickle.dump(topics, fp)"
   ]
  },
  {
   "cell_type": "code",
   "execution_count": 13,
   "metadata": {},
   "outputs": [],
   "source": [
    "topics = pd.DataFrame(topics)\n",
    "topics.to_csv(\"all_topics.csv.zip\")"
   ]
  },
  {
   "cell_type": "code",
   "execution_count": 14,
   "metadata": {},
   "outputs": [],
   "source": [
    "df = df.join(topics)\n",
    "df.to_csv(\"paragrapghs_with_topisc.csv.zip\")"
   ]
  },
  {
   "cell_type": "code",
   "execution_count": 17,
   "metadata": {},
   "outputs": [
    {
     "data": {
      "text/plain": [
       "Антикоррупция                         39950\n",
       "Управление рисками                    38209\n",
       "Безопасность продукта                 33122\n",
       "Отношения с работниками               32046\n",
       "Отношения с потребителями             30135\n",
       "Экология                              29904\n",
       "Налоги                                29683\n",
       "Дивиденды и акционеры                 23461\n",
       "Лидерство                             20550\n",
       "Эффективность и производительность    18737\n",
       "Обучение и развитие                   17817\n",
       "Отношения  потребителями              16615\n",
       "Предотвращение коррупции              14611\n",
       "Энергия                               13266\n",
       "Отчетность и прозрачность             12888\n",
       "Климат                                12041\n",
       "Инвестиции и капитальные вложения     12027\n",
       "Профсоюзы и коллективные договоры     10916\n",
       "Благотворительность                   10653\n",
       "Инновации                              9400\n",
       "Трудовые отношения                     9082\n",
       "Отходы                                 8627\n",
       "Вода                                   7397\n",
       "Оплата труда                           4718\n",
       "Охрана здоровья                        4601\n",
       "Безопасность и охрана труда            4230\n",
       "Воздух                                 1831\n",
       "Биоразнообразие                        1700\n",
       "Name: max_topic, dtype: int64"
      ]
     },
     "execution_count": 17,
     "metadata": {},
     "output_type": "execute_result"
    }
   ],
   "source": [
    "df[\"max_topic\"].value_counts()"
   ]
  },
  {
   "cell_type": "code",
   "execution_count": 44,
   "metadata": {},
   "outputs": [
    {
     "data": {
      "text/html": [
       "<div>\n",
       "<style scoped>\n",
       "    .dataframe tbody tr th:only-of-type {\n",
       "        vertical-align: middle;\n",
       "    }\n",
       "\n",
       "    .dataframe tbody tr th {\n",
       "        vertical-align: top;\n",
       "    }\n",
       "\n",
       "    .dataframe thead th {\n",
       "        text-align: right;\n",
       "    }\n",
       "</style>\n",
       "<table border=\"1\" class=\"dataframe\">\n",
       "  <thead>\n",
       "    <tr style=\"text-align: right;\">\n",
       "      <th></th>\n",
       "      <th></th>\n",
       "      <th></th>\n",
       "      <th>cleaned_text</th>\n",
       "    </tr>\n",
       "    <tr>\n",
       "      <th>company</th>\n",
       "      <th>year</th>\n",
       "      <th>max_topic</th>\n",
       "      <th></th>\n",
       "    </tr>\n",
       "  </thead>\n",
       "  <tbody>\n",
       "    <tr>\n",
       "      <th rowspan=\"5\" valign=\"top\">Alcoa, Inc.</th>\n",
       "      <th rowspan=\"5\" valign=\"top\">2004</th>\n",
       "      <th>Антикоррупция</th>\n",
       "      <td>москва белый калитва восток московский офис са...</td>\n",
       "    </tr>\n",
       "    <tr>\n",
       "      <th>Безопасность и охрана труда</th>\n",
       "      <td>доход европа процент общий доход компания</td>\n",
       "    </tr>\n",
       "    <tr>\n",
       "      <th>Безопасность продукта</th>\n",
       "      <td>я очень приятно представить ваш внимание первы...</td>\n",
       "    </tr>\n",
       "    <tr>\n",
       "      <th>Благотворительность</th>\n",
       "      <td>лос летучий органический соединение в тысяча м...</td>\n",
       "    </tr>\n",
       "    <tr>\n",
       "      <th>Налоги</th>\n",
       "      <td>возрастание выброс происходить связь применени...</td>\n",
       "    </tr>\n",
       "  </tbody>\n",
       "</table>\n",
       "</div>"
      ],
      "text/plain": [
       "                                                                                   cleaned_text\n",
       "company     year max_topic                                                                     \n",
       "Alcoa, Inc. 2004 Антикоррупция                москва белый калитва восток московский офис са...\n",
       "                 Безопасность и охрана труда          доход европа процент общий доход компания\n",
       "                 Безопасность продукта        я очень приятно представить ваш внимание первы...\n",
       "                 Благотворительность          лос летучий органический соединение в тысяча м...\n",
       "                 Налоги                       возрастание выброс происходить связь применени..."
      ]
     },
     "execution_count": 44,
     "metadata": {},
     "output_type": "execute_result"
    }
   ],
   "source": [
    "grouped = pd.DataFrame(df.groupby([\"company\", \"year\", \"max_topic\"])[\"cleaned_text\"].agg(' '.join))\n",
    "grouped.head()"
   ]
  },
  {
   "cell_type": "code",
   "execution_count": 45,
   "metadata": {},
   "outputs": [
    {
     "name": "stderr",
     "output_type": "stream",
     "text": [
      "100%|██████████| 4414/4414 [00:00<00:00, 19458.61it/s]\n"
     ]
    }
   ],
   "source": [
    "from collections import defaultdict\n",
    "\n",
    "topics_df = pd.concat([e_topics, s_topics, g_topics])\n",
    "len_topics = defaultdict(dict)\n",
    "\n",
    "for idx, row in tqdm(topics_df.iterrows(), total=topics_df.shape[0]):\n",
    "    if not len_topics[row[\"topic\"]].get(row[\"type\"], False):\n",
    "        len_topics[row[\"topic\"]][row[\"type\"]] = 0\n",
    "    len_topics[row[\"topic\"]][row[\"type\"]] += 1"
   ]
  },
  {
   "cell_type": "code",
   "execution_count": 46,
   "metadata": {},
   "outputs": [
    {
     "data": {
      "text/plain": [
       "defaultdict(dict,\n",
       "            {'Экология': {1: 51, 2: 8},\n",
       "             'Климат': {1: 95, 2: 24},\n",
       "             'Энергия': {1: 52, 2: 11},\n",
       "             'Воздух': {1: 42},\n",
       "             'Вода': {1: 61, 2: 8},\n",
       "             'Отходы': {1: 41, 2: 10},\n",
       "             'Биоразнообразие': {1: 47},\n",
       "             'Социально-культурное воздействи': {1: 3},\n",
       "             'Антикоррупция': {1: 50},\n",
       "             'Дивиденды и акционеры': {1: 306},\n",
       "             'Инновации': {1: 104},\n",
       "             'Лидерство': {1: 371},\n",
       "             'Отчетность и прозрачность': {1: 530},\n",
       "             'Предотвращение коррупции': {1: 92},\n",
       "             'Управление рисками': {1: 214},\n",
       "             'Эффективность и производительность': {1: 319},\n",
       "             'Безопасность и охрана труда': {1: 349},\n",
       "             'Безопасность продукта': {1: 50},\n",
       "             'Благотворительность': {1: 259},\n",
       "             'Инвестиции и капитальные вложения': {1: 370},\n",
       "             'Налоги': {1: 81},\n",
       "             'Обучение и развитие': {1: 50},\n",
       "             'Оплата труда': {1: 131},\n",
       "             'Отношения  потребителями': {1: 50},\n",
       "             'Отношения с потребителями': {1: 95},\n",
       "             'Отношения с работниками': {1: 84},\n",
       "             'Охрана здоровья': {1: 50},\n",
       "             'Профсоюзы и коллективные договоры': {1: 93},\n",
       "             'Трудовые отношения': {1: 313}})"
      ]
     },
     "execution_count": 46,
     "metadata": {},
     "output_type": "execute_result"
    }
   ],
   "source": [
    "len_topics"
   ]
  },
  {
   "cell_type": "code",
   "execution_count": 47,
   "metadata": {},
   "outputs": [],
   "source": [
    "from __future__ import annotations\n",
    "\n",
    "def get_score(words: dict[str, int], topic: str) -> int:\n",
    "    count_words = {key: 0 for key in len_topics[topic]}\n",
    "    for word in words:\n",
    "        count_words[sheets_dict[topic][word]] += 1\n",
    "    base_percent = count_words[1] / len_topics[topic][1]\n",
    "    advanced_percent =  count_words[2] / len_topics[topic][2] if count_words.get(2, False) else 0\n",
    "    if base_percent < 0.20:\n",
    "        return 1\n",
    "    elif base_percent < 0.40:\n",
    "        return 2\n",
    "    elif base_percent < 0.60:\n",
    "        return 3\n",
    "    elif base_percent < 0.80:\n",
    "        return 4\n",
    "    elif base_percent <= 1 and advanced_percent == 0:\n",
    "        return 5\n",
    "    elif base_percent <= 1 and advanced_percent < 0.40:\n",
    "        return 6\n",
    "    elif base_percent <= 1 and advanced_percent < 0.80:\n",
    "        return 7\n",
    "    elif base_percent <= 1 and advanced_percent <= 1:\n",
    "        return 7\n",
    "    else:\n",
    "        return 0"
   ]
  },
  {
   "cell_type": "code",
   "execution_count": 55,
   "metadata": {},
   "outputs": [
    {
     "name": "stderr",
     "output_type": "stream",
     "text": [
      "100%|██████████| 8788/8788 [01:05<00:00, 135.19it/s]\n"
     ]
    }
   ],
   "source": [
    "scores = []\n",
    "\n",
    "for (company, year, topic), row in tqdm(grouped.iterrows(), total=grouped.shape[0]):\n",
    "    paragraph_dict = copy.deepcopy(base_dict)[topic]\n",
    "    text = row[\"cleaned_text\"]\n",
    "    words = re_dict[topic].findall(text)\n",
    "    for word in words:\n",
    "        paragraph_dict[word] = 1\n",
    "    scores.append(get_score(paragraph_dict, topic))"
   ]
  },
  {
   "cell_type": "code",
   "execution_count": 57,
   "metadata": {},
   "outputs": [
    {
     "data": {
      "text/html": [
       "<div>\n",
       "<style scoped>\n",
       "    .dataframe tbody tr th:only-of-type {\n",
       "        vertical-align: middle;\n",
       "    }\n",
       "\n",
       "    .dataframe tbody tr th {\n",
       "        vertical-align: top;\n",
       "    }\n",
       "\n",
       "    .dataframe thead th {\n",
       "        text-align: right;\n",
       "    }\n",
       "</style>\n",
       "<table border=\"1\" class=\"dataframe\">\n",
       "  <thead>\n",
       "    <tr style=\"text-align: right;\">\n",
       "      <th></th>\n",
       "      <th></th>\n",
       "      <th></th>\n",
       "      <th>cleaned_text</th>\n",
       "      <th>score</th>\n",
       "    </tr>\n",
       "    <tr>\n",
       "      <th>company</th>\n",
       "      <th>year</th>\n",
       "      <th>max_topic</th>\n",
       "      <th></th>\n",
       "      <th></th>\n",
       "    </tr>\n",
       "  </thead>\n",
       "  <tbody>\n",
       "    <tr>\n",
       "      <th rowspan=\"11\" valign=\"top\">Alcoa, Inc.</th>\n",
       "      <th rowspan=\"11\" valign=\"top\">2004</th>\n",
       "      <th>Антикоррупция</th>\n",
       "      <td>москва белый калитва восток московский офис са...</td>\n",
       "      <td>5</td>\n",
       "    </tr>\n",
       "    <tr>\n",
       "      <th>Безопасность и охрана труда</th>\n",
       "      <td>доход европа процент общий доход компания</td>\n",
       "      <td>5</td>\n",
       "    </tr>\n",
       "    <tr>\n",
       "      <th>Безопасность продукта</th>\n",
       "      <td>я очень приятно представить ваш внимание первы...</td>\n",
       "      <td>5</td>\n",
       "    </tr>\n",
       "    <tr>\n",
       "      <th>Благотворительность</th>\n",
       "      <td>лос летучий органический соединение в тысяча м...</td>\n",
       "      <td>5</td>\n",
       "    </tr>\n",
       "    <tr>\n",
       "      <th>Налоги</th>\n",
       "      <td>возрастание выброс происходить связь применени...</td>\n",
       "      <td>5</td>\n",
       "    </tr>\n",
       "    <tr>\n",
       "      <th>Отношения с потребителями</th>\n",
       "      <td>белый калитва любучан восток москва самара</td>\n",
       "      <td>5</td>\n",
       "    </tr>\n",
       "    <tr>\n",
       "      <th>Отношения с работниками</th>\n",
       "      <td>вступление выброс загрязнять вещество атмосфер...</td>\n",
       "      <td>5</td>\n",
       "    </tr>\n",
       "    <tr>\n",
       "      <th>Отходы</th>\n",
       "      <td>показатель здоровье работник безопасность труд...</td>\n",
       "      <td>7</td>\n",
       "    </tr>\n",
       "    <tr>\n",
       "      <th>Предотвращение коррупции</th>\n",
       "      <td>наш преимущество заключаться производить очень...</td>\n",
       "      <td>5</td>\n",
       "    </tr>\n",
       "    <tr>\n",
       "      <th>Профсоюзы и коллективные договоры</th>\n",
       "      <td>показатель экологический безопасность для комп...</td>\n",
       "      <td>5</td>\n",
       "    </tr>\n",
       "    <tr>\n",
       "      <th>Управление рисками</th>\n",
       "      <td>отчёт устойчивый развитие год отчёт ход выполн...</td>\n",
       "      <td>5</td>\n",
       "    </tr>\n",
       "    <tr>\n",
       "      <th rowspan=\"9\" valign=\"top\">BIOCAD</th>\n",
       "      <th rowspan=\"9\" valign=\"top\">2019, 2018</th>\n",
       "      <th>Антикоррупция</th>\n",
       "      <td>соответствие отчёт руководство прямой речь пре...</td>\n",
       "      <td>5</td>\n",
       "    </tr>\n",
       "    <tr>\n",
       "      <th>Безопасность и охрана труда</th>\n",
       "      <td>экопроект павел яко вл быть в ранний разработк...</td>\n",
       "      <td>5</td>\n",
       "    </tr>\n",
       "    <tr>\n",
       "      <th>Безопасность продукта</th>\n",
       "      <td>содержание устойчивый развитие стратегия приор...</td>\n",
       "      <td>5</td>\n",
       "    </tr>\n",
       "    <tr>\n",
       "      <th>Благотворительность</th>\n",
       "      <td>август россия мир уровень вовлечённость сотруд...</td>\n",
       "      <td>5</td>\n",
       "    </tr>\n",
       "    <tr>\n",
       "      <th>Вода</th>\n",
       "      <td>характер собственность форма существенный изме...</td>\n",
       "      <td>7</td>\n",
       "    </tr>\n",
       "    <tr>\n",
       "      <th>Дивиденды и акционеры</th>\n",
       "      <td>сокращать отход производство упаковка снижать ...</td>\n",
       "      <td>5</td>\n",
       "    </tr>\n",
       "    <tr>\n",
       "      <th>Инвестиции и капитальные вложения</th>\n",
       "      <td>самый продавать препарат одержать победа суд п...</td>\n",
       "      <td>5</td>\n",
       "    </tr>\n",
       "    <tr>\n",
       "      <th>Инновации</th>\n",
       "      <td>генферон® ацеллбия® альгерон® эфлейра® млн руб...</td>\n",
       "      <td>5</td>\n",
       "    </tr>\n",
       "    <tr>\n",
       "      <th>Климат</th>\n",
       "      <td>о компания отход удаться ускорить синтезирован...</td>\n",
       "      <td>7</td>\n",
       "    </tr>\n",
       "  </tbody>\n",
       "</table>\n",
       "</div>"
      ],
      "text/plain": [
       "                                                                                               cleaned_text  \\\n",
       "company     year       max_topic                                                                              \n",
       "Alcoa, Inc. 2004       Антикоррупция                      москва белый калитва восток московский офис са...   \n",
       "                       Безопасность и охрана труда                доход европа процент общий доход компания   \n",
       "                       Безопасность продукта              я очень приятно представить ваш внимание первы...   \n",
       "                       Благотворительность                лос летучий органический соединение в тысяча м...   \n",
       "                       Налоги                             возрастание выброс происходить связь применени...   \n",
       "                       Отношения с потребителями                 белый калитва любучан восток москва самара   \n",
       "                       Отношения с работниками            вступление выброс загрязнять вещество атмосфер...   \n",
       "                       Отходы                             показатель здоровье работник безопасность труд...   \n",
       "                       Предотвращение коррупции           наш преимущество заключаться производить очень...   \n",
       "                       Профсоюзы и коллективные договоры  показатель экологический безопасность для комп...   \n",
       "                       Управление рисками                 отчёт устойчивый развитие год отчёт ход выполн...   \n",
       "BIOCAD      2019, 2018 Антикоррупция                      соответствие отчёт руководство прямой речь пре...   \n",
       "                       Безопасность и охрана труда        экопроект павел яко вл быть в ранний разработк...   \n",
       "                       Безопасность продукта              содержание устойчивый развитие стратегия приор...   \n",
       "                       Благотворительность                август россия мир уровень вовлечённость сотруд...   \n",
       "                       Вода                               характер собственность форма существенный изме...   \n",
       "                       Дивиденды и акционеры              сокращать отход производство упаковка снижать ...   \n",
       "                       Инвестиции и капитальные вложения  самый продавать препарат одержать победа суд п...   \n",
       "                       Инновации                          генферон® ацеллбия® альгерон® эфлейра® млн руб...   \n",
       "                       Климат                             о компания отход удаться ускорить синтезирован...   \n",
       "\n",
       "                                                          score  \n",
       "company     year       max_topic                                 \n",
       "Alcoa, Inc. 2004       Антикоррупция                          5  \n",
       "                       Безопасность и охрана труда            5  \n",
       "                       Безопасность продукта                  5  \n",
       "                       Благотворительность                    5  \n",
       "                       Налоги                                 5  \n",
       "                       Отношения с потребителями              5  \n",
       "                       Отношения с работниками                5  \n",
       "                       Отходы                                 7  \n",
       "                       Предотвращение коррупции               5  \n",
       "                       Профсоюзы и коллективные договоры      5  \n",
       "                       Управление рисками                     5  \n",
       "BIOCAD      2019, 2018 Антикоррупция                          5  \n",
       "                       Безопасность и охрана труда            5  \n",
       "                       Безопасность продукта                  5  \n",
       "                       Благотворительность                    5  \n",
       "                       Вода                                   7  \n",
       "                       Дивиденды и акционеры                  5  \n",
       "                       Инвестиции и капитальные вложения      5  \n",
       "                       Инновации                              5  \n",
       "                       Климат                                 7  "
      ]
     },
     "execution_count": 57,
     "metadata": {},
     "output_type": "execute_result"
    }
   ],
   "source": [
    "grouped[\"score\"] = scores\n",
    "grouped.head(20)"
   ]
  },
  {
   "cell_type": "code",
   "execution_count": 58,
   "metadata": {},
   "outputs": [],
   "source": [
    "grouped.to_csv(\"grouped_paragraphs.csv.zip\")"
   ]
  },
  {
   "cell_type": "code",
   "execution_count": null,
   "metadata": {},
   "outputs": [],
   "source": []
  }
 ],
 "metadata": {
  "kernelspec": {
   "display_name": "Python [conda env:jupyterbase]",
   "language": "python",
   "name": "conda-env-jupyterbase-py"
  },
  "language_info": {
   "codemirror_mode": {
    "name": "ipython",
    "version": 3
   },
   "file_extension": ".py",
   "mimetype": "text/x-python",
   "name": "python",
   "nbconvert_exporter": "python",
   "pygments_lexer": "ipython3",
   "version": "3.8.8"
  }
 },
 "nbformat": 4,
 "nbformat_minor": 5
}
