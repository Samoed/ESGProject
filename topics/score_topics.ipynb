{
 "cells": [
  {
   "cell_type": "code",
   "execution_count": 1,
   "metadata": {},
   "outputs": [
    {
     "name": "stderr",
     "output_type": "stream",
     "text": [
      "/tmp/ipykernel_195630/3235371013.py:2: TqdmExperimentalWarning: Using `tqdm.autonotebook.tqdm` in notebook mode. Use `tqdm.tqdm` instead to force console mode (e.g. in jupyter console)\n",
      "  from tqdm.autonotebook import tqdm\n"
     ]
    }
   ],
   "source": [
    "import pandas as pd\n",
    "from tqdm.autonotebook import tqdm\n",
    "import re"
   ]
  },
  {
   "cell_type": "code",
   "execution_count": 2,
   "metadata": {},
   "outputs": [
    {
     "name": "stderr",
     "output_type": "stream",
     "text": [
      "/tmp/ipykernel_195630/2910252601.py:1: DtypeWarning: Columns (2,17,27,42) have mixed types. Specify dtype option on import or set low_memory=False.\n",
      "  df = pd.read_csv(\"paragrapgs_with_topics.csv.zip\", index_col=0)\n"
     ]
    },
    {
     "data": {
      "text/html": [
       "<div>\n",
       "<style scoped>\n",
       "    .dataframe tbody tr th:only-of-type {\n",
       "        vertical-align: middle;\n",
       "    }\n",
       "\n",
       "    .dataframe tbody tr th {\n",
       "        vertical-align: top;\n",
       "    }\n",
       "\n",
       "    .dataframe thead th {\n",
       "        text-align: right;\n",
       "    }\n",
       "</style>\n",
       "<table border=\"1\" class=\"dataframe\">\n",
       "  <thead>\n",
       "    <tr style=\"text-align: right;\">\n",
       "      <th></th>\n",
       "      <th>company</th>\n",
       "      <th>year</th>\n",
       "      <th>sector</th>\n",
       "      <th>report_type</th>\n",
       "      <th>paragraph</th>\n",
       "      <th>original_text</th>\n",
       "      <th>cleaned_text</th>\n",
       "      <th>Экология</th>\n",
       "      <th>Климат</th>\n",
       "      <th>Энергия</th>\n",
       "      <th>...</th>\n",
       "      <th>Обучение и развитие</th>\n",
       "      <th>Оплата труда</th>\n",
       "      <th>Отношения  потребителями</th>\n",
       "      <th>Отношения с потребителями</th>\n",
       "      <th>Отношения с работниками</th>\n",
       "      <th>Охрана здоровья</th>\n",
       "      <th>Профсоюзы и коллективные договоры</th>\n",
       "      <th>Трудовые отношения</th>\n",
       "      <th>max_scoreG</th>\n",
       "      <th>max_topicG</th>\n",
       "    </tr>\n",
       "  </thead>\n",
       "  <tbody>\n",
       "    <tr>\n",
       "      <th>0</th>\n",
       "      <td>ПАО «ММК»</td>\n",
       "      <td>2014</td>\n",
       "      <td>Металлургическая и горнодобывающая</td>\n",
       "      <td>СО</td>\n",
       "      <td>9.0</td>\n",
       "      <td>Виктор ФИЛИПпОВИЧ Рашников, председатель совет...</td>\n",
       "      <td>виктор филиппович рашник председатель совет ди...</td>\n",
       "      <td>0.130189</td>\n",
       "      <td>0.092450</td>\n",
       "      <td>0.0</td>\n",
       "      <td>...</td>\n",
       "      <td>0.0</td>\n",
       "      <td>0.00000</td>\n",
       "      <td>0.000000</td>\n",
       "      <td>0.000000</td>\n",
       "      <td>0.000000</td>\n",
       "      <td>0.0</td>\n",
       "      <td>0.0</td>\n",
       "      <td>0.000000</td>\n",
       "      <td>0.051988</td>\n",
       "      <td>Инвестиции и капитальные вложения</td>\n",
       "    </tr>\n",
       "    <tr>\n",
       "      <th>1</th>\n",
       "      <td>ПАО «ММК»</td>\n",
       "      <td>2014</td>\n",
       "      <td>Металлургическая и горнодобывающая</td>\n",
       "      <td>СО</td>\n",
       "      <td>11.0</td>\n",
       "      <td>Минувший 2014 год предъявил всем отраслям росс...</td>\n",
       "      <td>минувший год предъявить весь отрасль российски...</td>\n",
       "      <td>0.000000</td>\n",
       "      <td>0.092450</td>\n",
       "      <td>0.0</td>\n",
       "      <td>...</td>\n",
       "      <td>0.0</td>\n",
       "      <td>0.08737</td>\n",
       "      <td>0.000000</td>\n",
       "      <td>0.145095</td>\n",
       "      <td>0.000000</td>\n",
       "      <td>0.0</td>\n",
       "      <td>0.0</td>\n",
       "      <td>0.000000</td>\n",
       "      <td>0.145095</td>\n",
       "      <td>Отношения с потребителями</td>\n",
       "    </tr>\n",
       "    <tr>\n",
       "      <th>2</th>\n",
       "      <td>ПАО «ММК»</td>\n",
       "      <td>2014</td>\n",
       "      <td>Металлургическая и горнодобывающая</td>\n",
       "      <td>СО</td>\n",
       "      <td>12.0</td>\n",
       "      <td>Для Магнитогорского металлургического комбинат...</td>\n",
       "      <td>для магнитогорский металлургический комбинат г...</td>\n",
       "      <td>0.000000</td>\n",
       "      <td>0.130744</td>\n",
       "      <td>0.0</td>\n",
       "      <td>...</td>\n",
       "      <td>0.0</td>\n",
       "      <td>0.00000</td>\n",
       "      <td>0.141421</td>\n",
       "      <td>0.102598</td>\n",
       "      <td>0.109109</td>\n",
       "      <td>0.0</td>\n",
       "      <td>0.0</td>\n",
       "      <td>0.056523</td>\n",
       "      <td>0.141421</td>\n",
       "      <td>Отношения  потребителями</td>\n",
       "    </tr>\n",
       "    <tr>\n",
       "      <th>3</th>\n",
       "      <td>ПАО «ММК»</td>\n",
       "      <td>2014</td>\n",
       "      <td>Металлургическая и горнодобывающая</td>\n",
       "      <td>СО</td>\n",
       "      <td>13.0</td>\n",
       "      <td>В 2014 году ММК укрепил свои позиции ведущего ...</td>\n",
       "      <td>в год ммк укрепить свой позиция ведущий постав...</td>\n",
       "      <td>0.130189</td>\n",
       "      <td>0.092450</td>\n",
       "      <td>0.0</td>\n",
       "      <td>...</td>\n",
       "      <td>0.0</td>\n",
       "      <td>0.00000</td>\n",
       "      <td>0.000000</td>\n",
       "      <td>0.102598</td>\n",
       "      <td>0.000000</td>\n",
       "      <td>0.0</td>\n",
       "      <td>0.0</td>\n",
       "      <td>0.000000</td>\n",
       "      <td>0.157135</td>\n",
       "      <td>Налоги</td>\n",
       "    </tr>\n",
       "    <tr>\n",
       "      <th>4</th>\n",
       "      <td>ПАО «ММК»</td>\n",
       "      <td>2014</td>\n",
       "      <td>Металлургическая и горнодобывающая</td>\n",
       "      <td>СО</td>\n",
       "      <td>14.0</td>\n",
       "      <td>Наша компания входит в число российских предпр...</td>\n",
       "      <td>наш компания входить число российский предприя...</td>\n",
       "      <td>0.130189</td>\n",
       "      <td>0.092450</td>\n",
       "      <td>0.0</td>\n",
       "      <td>...</td>\n",
       "      <td>0.0</td>\n",
       "      <td>0.00000</td>\n",
       "      <td>0.000000</td>\n",
       "      <td>0.102598</td>\n",
       "      <td>0.000000</td>\n",
       "      <td>0.0</td>\n",
       "      <td>0.0</td>\n",
       "      <td>0.079936</td>\n",
       "      <td>0.102598</td>\n",
       "      <td>Отношения с потребителями</td>\n",
       "    </tr>\n",
       "  </tbody>\n",
       "</table>\n",
       "<p>5 rows × 42 columns</p>\n",
       "</div>"
      ],
      "text/plain": [
       "      company  year                              sector report_type  \\\n",
       "0  ПАО «ММК»   2014  Металлургическая и горнодобывающая          СО   \n",
       "1  ПАО «ММК»   2014  Металлургическая и горнодобывающая          СО   \n",
       "2  ПАО «ММК»   2014  Металлургическая и горнодобывающая          СО   \n",
       "3  ПАО «ММК»   2014  Металлургическая и горнодобывающая          СО   \n",
       "4  ПАО «ММК»   2014  Металлургическая и горнодобывающая          СО   \n",
       "\n",
       "   paragraph                                      original_text  \\\n",
       "0        9.0  Виктор ФИЛИПпОВИЧ Рашников, председатель совет...   \n",
       "1       11.0  Минувший 2014 год предъявил всем отраслям росс...   \n",
       "2       12.0  Для Магнитогорского металлургического комбинат...   \n",
       "3       13.0  В 2014 году ММК укрепил свои позиции ведущего ...   \n",
       "4       14.0  Наша компания входит в число российских предпр...   \n",
       "\n",
       "                                        cleaned_text  Экология    Климат  \\\n",
       "0  виктор филиппович рашник председатель совет ди...  0.130189  0.092450   \n",
       "1  минувший год предъявить весь отрасль российски...  0.000000  0.092450   \n",
       "2  для магнитогорский металлургический комбинат г...  0.000000  0.130744   \n",
       "3  в год ммк укрепить свой позиция ведущий постав...  0.130189  0.092450   \n",
       "4  наш компания входить число российский предприя...  0.130189  0.092450   \n",
       "\n",
       "   Энергия  ...  Обучение и развитие  Оплата труда  Отношения  потребителями  \\\n",
       "0      0.0  ...                  0.0       0.00000                  0.000000   \n",
       "1      0.0  ...                  0.0       0.08737                  0.000000   \n",
       "2      0.0  ...                  0.0       0.00000                  0.141421   \n",
       "3      0.0  ...                  0.0       0.00000                  0.000000   \n",
       "4      0.0  ...                  0.0       0.00000                  0.000000   \n",
       "\n",
       "   Отношения с потребителями  Отношения с работниками  Охрана здоровья  \\\n",
       "0                   0.000000                 0.000000              0.0   \n",
       "1                   0.145095                 0.000000              0.0   \n",
       "2                   0.102598                 0.109109              0.0   \n",
       "3                   0.102598                 0.000000              0.0   \n",
       "4                   0.102598                 0.000000              0.0   \n",
       "\n",
       "  Профсоюзы и коллективные договоры  Трудовые отношения  max_scoreG  \\\n",
       "0                               0.0            0.000000    0.051988   \n",
       "1                               0.0            0.000000    0.145095   \n",
       "2                               0.0            0.056523    0.141421   \n",
       "3                               0.0            0.000000    0.157135   \n",
       "4                               0.0            0.079936    0.102598   \n",
       "\n",
       "                          max_topicG  \n",
       "0  Инвестиции и капитальные вложения  \n",
       "1          Отношения с потребителями  \n",
       "2           Отношения  потребителями  \n",
       "3                             Налоги  \n",
       "4          Отношения с потребителями  \n",
       "\n",
       "[5 rows x 42 columns]"
      ]
     },
     "execution_count": 2,
     "metadata": {},
     "output_type": "execute_result"
    }
   ],
   "source": [
    "df = pd.read_csv(\"paragrapgs_with_topics.csv.zip\", index_col=0)\n",
    "df = df.dropna()\n",
    "df = df[df[\"cleaned_text\"].apply(lambda x: len(x.split()) > 1)]\n",
    "df = df.reset_index(drop=True)\n",
    "df.head()"
   ]
  },
  {
   "cell_type": "code",
   "execution_count": 3,
   "metadata": {},
   "outputs": [],
   "source": [
    "#df.join(topics).to_csv(\"paragrapgs_with_topics.csv.zip\")"
   ]
  },
  {
   "cell_type": "code",
   "execution_count": 4,
   "metadata": {},
   "outputs": [
    {
     "data": {
      "text/plain": [
       "Экология           70346\n",
       "Климат             51830\n",
       "Энергия            19316\n",
       "Отходы             14381\n",
       "Вода               10253\n",
       "Биоразнообразие     2084\n",
       "Воздух              1839\n",
       "Name: max_topic, dtype: int64"
      ]
     },
     "execution_count": 4,
     "metadata": {},
     "output_type": "execute_result"
    }
   ],
   "source": [
    "df[\"max_topic\"].value_counts()"
   ]
  },
  {
   "cell_type": "code",
   "execution_count": 5,
   "metadata": {},
   "outputs": [
    {
     "data": {
      "text/plain": [
       "Безопасность продукта                22149\n",
       "Отношения с потребителями            21898\n",
       "Отношения с работниками              20946\n",
       "Налоги                               20193\n",
       "Инвестиции и капитальные вложения    18596\n",
       "Трудовые отношения                   17026\n",
       "Безопасность и охрана труда          11619\n",
       "Обучение и развитие                   9530\n",
       "Отношения  потребителями              8550\n",
       "Благотворительность                   8171\n",
       "Профсоюзы и коллективные договоры     6310\n",
       "Оплата труда                          2619\n",
       "Охрана здоровья                       2442\n",
       "Name: max_topicG, dtype: int64"
      ]
     },
     "execution_count": 5,
     "metadata": {},
     "output_type": "execute_result"
    }
   ],
   "source": [
    "df[\"max_topicG\"].value_counts()"
   ]
  },
  {
   "cell_type": "code",
   "execution_count": 6,
   "metadata": {},
   "outputs": [
    {
     "data": {
      "text/plain": [
       "Управление рисками                    34452\n",
       "Эффективность и производительность    33457\n",
       "Антикоррупция                         27487\n",
       "Дивиденды и акционеры                 20185\n",
       "Предотвращение коррупции              19303\n",
       "Лидерство                             16842\n",
       "Инновации                             11849\n",
       "Отчетность и прозрачность              6474\n",
       "Name: max_topicS, dtype: int64"
      ]
     },
     "execution_count": 6,
     "metadata": {},
     "output_type": "execute_result"
    }
   ],
   "source": [
    "df[\"max_topicS\"].value_counts()"
   ]
  },
  {
   "cell_type": "code",
   "execution_count": 8,
   "metadata": {},
   "outputs": [
    {
     "data": {
      "text/plain": [
       "company      year        max_topic      \n",
       "Abbott       2013, 2012  Биоразнообразие    недостаточность питание повышенный потребность...\n",
       "                         Климат             программа проводиться июнь декабрь год направи...\n",
       "                         Отходы             о компания это один крупный многопрофильный ко...\n",
       "                         Экология           молекулярный диагностика детский лечебный пита...\n",
       "Alcoa, Inc.  2004        Воздух                        окисел азот в тысяча метрический тонна\n",
       "Name: cleaned_text, dtype: object"
      ]
     },
     "execution_count": 8,
     "metadata": {},
     "output_type": "execute_result"
    }
   ],
   "source": [
    "grouped = df.groupby([\"company\", \"year\", \"max_topic\"])[\"cleaned_text\"].agg(' '.join)\n",
    "grouped.head()"
   ]
  },
  {
   "cell_type": "code",
   "execution_count": 9,
   "metadata": {},
   "outputs": [
    {
     "name": "stderr",
     "output_type": "stream",
     "text": [
      "/home/samoed/.pyenv/versions/3.10.4/lib/python3.10/site-packages/openpyxl/worksheet/_reader.py:312: UserWarning: Conditional Formatting extension is not supported and will be removed\n",
      "  warn(msg)\n",
      "/home/samoed/.pyenv/versions/3.10.4/lib/python3.10/site-packages/openpyxl/worksheet/_reader.py:312: UserWarning: Conditional Formatting extension is not supported and will be removed\n",
      "  warn(msg)\n"
     ]
    }
   ],
   "source": [
    "from collections import defaultdict\n",
    "\n",
    "sheets_dict = {}\n",
    "base_dict = {}\n",
    "re_dict = {}\n",
    "len_topics = {}\n",
    "\n",
    "excel = pd.ExcelFile(\"./esg_topics.xlsx\")\n",
    "for sheet_name in excel.sheet_names:\n",
    "    sheet_df = pd.read_excel(excel, sheet_name=sheet_name, header=None)\n",
    "    sheets_dict[sheet_name] = {row[0]: row[1] for _, row in sheet_df.iterrows()}\n",
    "    base_dict[sheet_name] = {row[0]: 0 for _, row in sheet_df.iterrows()}\n",
    "    re_dict[sheet_name] = re.compile(\"(\" + \"(?!\\w)|\".join(sheet_df[0].tolist()) + \"(?!\\w))\")\n",
    "    len_topics[sheet_name] = defaultdict(int)\n",
    "    for val in sheets_dict[sheet_name].values():\n",
    "        len_topics[sheet_name][val] += 1"
   ]
  },
  {
   "cell_type": "code",
   "execution_count": 7,
   "metadata": {},
   "outputs": [],
   "source": [
    "excel = pd.ExcelFile(\"./Рейтинг ESG - Отчеты компаний.xlsx\")\n",
    "sheets = {}\n",
    "for sheet_name in [\"E топики\", \"G топики\", \"S топики\"]:\n",
    "    sheets[sheet_name] = pd.read_excel(excel, sheet_name=sheet_name)"
   ]
  },
  {
   "cell_type": "code",
   "execution_count": 12,
   "metadata": {},
   "outputs": [],
   "source": [
    "words = {}\n",
    "words[\"G\"] = sheets[\"G топики\"].groupby(\"УНИВЕРСАЛЬНЫЕ ТОПИКИ\")[\"topic_words\"].apply(\", \".join)\n",
    "words[\"S\"] = sheets[\"S топики\"].groupby(\"УНИВЕРСАЛЬНЫЕ ТОПИКИ\")[\"topic_words\"].apply(\", \".join)\n",
    "words[\"G\"] = words[\"G\"].str.split(\", \").apply(set).apply(list)\n",
    "words[\"S\"] = words[\"S\"].str.split(\", \").apply(set).apply(list)"
   ]
  },
  {
   "cell_type": "code",
   "execution_count": 15,
   "metadata": {},
   "outputs": [],
   "source": [
    "from collections import defaultdict\n",
    "\n",
    "sheets_dict = {}\n",
    "base_dict = {}\n",
    "re_dict = {}\n",
    "len_topics = {}\n",
    "\n",
    "for topic, word in words[\"G\"].items():\n",
    "    sheets_dict[topic] = {row: 1 for row in word}\n",
    "    base_dict[topic] = {row: 0 for row in word}\n",
    "    re_dict[topic] = re.compile(\"(\" + \"(?!\\w)|\".join(word) + \"(?!\\w))\")\n",
    "    len_topics[topic] = defaultdict(int)\n",
    "    for val in sheets_dict[topic].values():\n",
    "        len_topics[topic][val] += 1"
   ]
  },
  {
   "cell_type": "code",
   "execution_count": 16,
   "metadata": {},
   "outputs": [],
   "source": [
    "def get_score(words: dict[str, int], topic: str) -> int:\n",
    "    count_words = {key: 0 for key in len_topics[topic]}\n",
    "    for word in words:\n",
    "        count_words[sheets_dict[topic][word]] += 1\n",
    "    base_percent = count_words[1] / len_topics[topic][1]\n",
    "    advanced_percent =  count_words[2] / len_topics[topic][2] if count_words.get(2, False) else 0\n",
    "    if base_percent < 0.20:\n",
    "        return 1\n",
    "    elif base_percent < 0.40:\n",
    "        return 2\n",
    "    elif base_percent < 0.60:\n",
    "        return 3\n",
    "    elif base_percent < 0.80:\n",
    "        return 4\n",
    "    elif base_percent <= 1 and advanced_percent == 0:\n",
    "        return 5\n",
    "    elif base_percent <= 1 and advanced_percent < 0.40:\n",
    "        return 6\n",
    "    elif base_percent <= 1 and advanced_percent < 0.80:\n",
    "        return 7\n",
    "    elif base_percent <= 1 and advanced_percent <= 1:\n",
    "        return 7\n",
    "    else:\n",
    "        return 0"
   ]
  },
  {
   "cell_type": "code",
   "execution_count": 17,
   "metadata": {},
   "outputs": [
    {
     "data": {
      "text/plain": [
       "company       year  max_topicG                       \n",
       "Alcoa, Inc.   2004  Отношения с потребителями                  белый калитва восток московский офис самара\n",
       "                    Отношения с работниками              природосберегающий использоваться кроме упаков...\n",
       "                    Профсоюзы и коллективные договоры    показатель экологический безопасность для комп...\n",
       "BELUGA GROUP  2020  Безопасность и охрана труда          пао белуга группа общий информация по группа с...\n",
       "                    Безопасность продукта                пао белуга группа общий информация по группа т...\n",
       "Name: cleaned_text, dtype: object"
      ]
     },
     "execution_count": 17,
     "metadata": {},
     "output_type": "execute_result"
    }
   ],
   "source": [
    "grouped = df.groupby([\"company\", \"year\", \"max_topicG\"])[\"cleaned_text\"].agg(' '.join)\n",
    "grouped.head()"
   ]
  },
  {
   "cell_type": "code",
   "execution_count": null,
   "metadata": {},
   "outputs": [
    {
     "data": {
      "application/json": {
       "ascii": false,
       "bar_format": null,
       "colour": null,
       "elapsed": 0.0036127567291259766,
       "initial": 0,
       "n": 0,
       "ncols": null,
       "nrows": 24,
       "postfix": null,
       "prefix": "",
       "rate": null,
       "total": 6971,
       "unit": "it",
       "unit_divisor": 1000,
       "unit_scale": false
      },
      "application/vnd.jupyter.widget-view+json": {
       "model_id": "25982b689bae4bf59ce071ccb9e27406",
       "version_major": 2,
       "version_minor": 0
      },
      "text/plain": [
       "  0%|          | 0/6971 [00:00<?, ?it/s]"
      ]
     },
     "metadata": {},
     "output_type": "display_data"
    }
   ],
   "source": [
    "import copy\n",
    "\n",
    "\n",
    "scores = []\n",
    "percents = []\n",
    "for (company, year, topic), text in tqdm(grouped.items(), total=grouped.shape[0]):\n",
    "    paragraph_dict = copy.deepcopy(base_dict)[topic]\n",
    "    words = re_dict[topic].findall(text)\n",
    "    for word in words:\n",
    "        paragraph_dict[word] = 1\n",
    "    scores.append(get_score(paragraph_dict, topic))"
   ]
  },
  {
   "cell_type": "code",
   "execution_count": null,
   "metadata": {},
   "outputs": [],
   "source": [
    "grouped = pd.DataFrame(grouped) \n",
    "grouped[\"score\"] = scores\n",
    "grouped.head()"
   ]
  },
  {
   "cell_type": "code",
   "execution_count": null,
   "metadata": {},
   "outputs": [],
   "source": [
    "grouped.to_csv(\"grouped_paragraphsG.csv.zip\")"
   ]
  },
  {
   "cell_type": "code",
   "execution_count": 14,
   "metadata": {},
   "outputs": [],
   "source": [
    "grouped = pd.read_csv(\"grouped_paragraphs.csv.zip\")"
   ]
  },
  {
   "cell_type": "code",
   "execution_count": 15,
   "metadata": {},
   "outputs": [
    {
     "data": {
      "text/html": [
       "<div>\n",
       "<style scoped>\n",
       "    .dataframe tbody tr th:only-of-type {\n",
       "        vertical-align: middle;\n",
       "    }\n",
       "\n",
       "    .dataframe tbody tr th {\n",
       "        vertical-align: top;\n",
       "    }\n",
       "\n",
       "    .dataframe thead th {\n",
       "        text-align: right;\n",
       "    }\n",
       "</style>\n",
       "<table border=\"1\" class=\"dataframe\">\n",
       "  <thead>\n",
       "    <tr style=\"text-align: right;\">\n",
       "      <th></th>\n",
       "      <th>company</th>\n",
       "      <th>year</th>\n",
       "      <th>max_topic</th>\n",
       "      <th>cleaned_text</th>\n",
       "      <th>score</th>\n",
       "    </tr>\n",
       "  </thead>\n",
       "  <tbody>\n",
       "    <tr>\n",
       "      <th>0</th>\n",
       "      <td>Abbott</td>\n",
       "      <td>2013, 2012</td>\n",
       "      <td>Биоразнообразие</td>\n",
       "      <td>недостаточность питание повышенный потребность...</td>\n",
       "      <td>5</td>\n",
       "    </tr>\n",
       "    <tr>\n",
       "      <th>1</th>\n",
       "      <td>Abbott</td>\n",
       "      <td>2013, 2012</td>\n",
       "      <td>Климат</td>\n",
       "      <td>программа проводиться июнь декабрь год направи...</td>\n",
       "      <td>7</td>\n",
       "    </tr>\n",
       "    <tr>\n",
       "      <th>2</th>\n",
       "      <td>Abbott</td>\n",
       "      <td>2013, 2012</td>\n",
       "      <td>Отходы</td>\n",
       "      <td>о компания это один крупный многопрофильный ко...</td>\n",
       "      <td>7</td>\n",
       "    </tr>\n",
       "    <tr>\n",
       "      <th>3</th>\n",
       "      <td>Abbott</td>\n",
       "      <td>2013, 2012</td>\n",
       "      <td>Экология</td>\n",
       "      <td>молекулярный диагностика детский лечебный пита...</td>\n",
       "      <td>7</td>\n",
       "    </tr>\n",
       "    <tr>\n",
       "      <th>4</th>\n",
       "      <td>Alcoa, Inc.</td>\n",
       "      <td>2004</td>\n",
       "      <td>Воздух</td>\n",
       "      <td>окисел азот в тысяча метрический тонна</td>\n",
       "      <td>5</td>\n",
       "    </tr>\n",
       "  </tbody>\n",
       "</table>\n",
       "</div>"
      ],
      "text/plain": [
       "       company        year        max_topic  \\\n",
       "0       Abbott  2013, 2012  Биоразнообразие   \n",
       "1       Abbott  2013, 2012           Климат   \n",
       "2       Abbott  2013, 2012           Отходы   \n",
       "3       Abbott  2013, 2012         Экология   \n",
       "4  Alcoa, Inc.        2004           Воздух   \n",
       "\n",
       "                                        cleaned_text  score  \n",
       "0  недостаточность питание повышенный потребность...      5  \n",
       "1  программа проводиться июнь декабрь год направи...      7  \n",
       "2  о компания это один крупный многопрофильный ко...      7  \n",
       "3  молекулярный диагностика детский лечебный пита...      7  \n",
       "4             окисел азот в тысяча метрический тонна      5  "
      ]
     },
     "execution_count": 15,
     "metadata": {},
     "output_type": "execute_result"
    }
   ],
   "source": [
    "grouped.head()"
   ]
  },
  {
   "cell_type": "code",
   "execution_count": null,
   "metadata": {},
   "outputs": [],
   "source": []
  }
 ],
 "metadata": {
  "kernelspec": {
   "display_name": "Python 3 (ipykernel)",
   "language": "python",
   "name": "python3"
  },
  "language_info": {
   "codemirror_mode": {
    "name": "ipython",
    "version": 3
   },
   "file_extension": ".py",
   "mimetype": "text/x-python",
   "name": "python",
   "nbconvert_exporter": "python",
   "pygments_lexer": "ipython3",
   "version": "3.10.4"
  }
 },
 "nbformat": 4,
 "nbformat_minor": 4
}
