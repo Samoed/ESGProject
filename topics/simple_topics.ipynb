{
 "cells": [
  {
   "cell_type": "code",
   "execution_count": 1,
   "metadata": {},
   "outputs": [
    {
     "name": "stderr",
     "output_type": "stream",
     "text": [
      "/tmp/ipykernel_202033/286499899.py:2: TqdmExperimentalWarning: Using `tqdm.autonotebook.tqdm` in notebook mode. Use `tqdm.tqdm` instead to force console mode (e.g. in jupyter console)\n",
      "  from tqdm.autonotebook import tqdm\n"
     ]
    }
   ],
   "source": [
    "import pandas as pd\n",
    "from tqdm.autonotebook import tqdm\n",
    "import re\n",
    "from sklearn.metrics.pairwise import cosine_similarity"
   ]
  },
  {
   "cell_type": "code",
   "execution_count": 2,
   "metadata": {},
   "outputs": [
    {
     "name": "stderr",
     "output_type": "stream",
     "text": [
      "/tmp/ipykernel_58135/177660427.py:1: DtypeWarning: Columns (7) have mixed types. Specify dtype option on import or set low_memory=False.\n",
      "  df = pd.read_csv(\"../parsing/paragraphs.csv.zip\", usecols=[\"cleaned_text\"])\n"
     ]
    },
    {
     "data": {
      "text/html": [
       "<div>\n",
       "<style scoped>\n",
       "    .dataframe tbody tr th:only-of-type {\n",
       "        vertical-align: middle;\n",
       "    }\n",
       "\n",
       "    .dataframe tbody tr th {\n",
       "        vertical-align: top;\n",
       "    }\n",
       "\n",
       "    .dataframe thead th {\n",
       "        text-align: right;\n",
       "    }\n",
       "</style>\n",
       "<table border=\"1\" class=\"dataframe\">\n",
       "  <thead>\n",
       "    <tr style=\"text-align: right;\">\n",
       "      <th></th>\n",
       "      <th>cleaned_text</th>\n",
       "    </tr>\n",
       "  </thead>\n",
       "  <tbody>\n",
       "    <tr>\n",
       "      <th>0</th>\n",
       "      <td>ммк</td>\n",
       "    </tr>\n",
       "    <tr>\n",
       "      <th>1</th>\n",
       "      <td>социальный отчёт ммк за год магнитогорский мет...</td>\n",
       "    </tr>\n",
       "    <tr>\n",
       "      <th>3</th>\n",
       "      <td>содержание</td>\n",
       "    </tr>\n",
       "    <tr>\n",
       "      <th>4</th>\n",
       "      <td>обращение председатель совет директор параметр...</td>\n",
       "    </tr>\n",
       "    <tr>\n",
       "      <th>5</th>\n",
       "      <td>ммк</td>\n",
       "    </tr>\n",
       "  </tbody>\n",
       "</table>\n",
       "</div>"
      ],
      "text/plain": [
       "                                        cleaned_text\n",
       "0                                                ммк\n",
       "1  социальный отчёт ммк за год магнитогорский мет...\n",
       "3                                         содержание\n",
       "4  обращение председатель совет директор параметр...\n",
       "5                                                ммк"
      ]
     },
     "execution_count": 2,
     "metadata": {},
     "output_type": "execute_result"
    }
   ],
   "source": [
    "df = pd.read_csv(\"../parsing/paragraphs.csv.zip\", usecols=[\"cleaned_text\"])\n",
    "df = df.dropna()\n",
    "df.head()"
   ]
  },
  {
   "cell_type": "code",
   "execution_count": 3,
   "metadata": {},
   "outputs": [
    {
     "data": {
      "text/plain": [
       "(2309485, 1)"
      ]
     },
     "execution_count": 3,
     "metadata": {},
     "output_type": "execute_result"
    }
   ],
   "source": [
    "df.shape"
   ]
  },
  {
   "cell_type": "code",
   "execution_count": 4,
   "metadata": {},
   "outputs": [
    {
     "data": {
      "text/plain": [
       "(1963163, 1)"
      ]
     },
     "execution_count": 4,
     "metadata": {},
     "output_type": "execute_result"
    }
   ],
   "source": [
    "df = df[df[\"cleaned_text\"].apply(lambda x: len(x.split()) > 1)]\n",
    "df = df.reset_index(drop=True)\n",
    "df.shape"
   ]
  },
  {
   "cell_type": "code",
   "execution_count": 8,
   "metadata": {},
   "outputs": [
    {
     "name": "stderr",
     "output_type": "stream",
     "text": [
      "/home/samoed/.pyenv/versions/3.10.4/lib/python3.10/site-packages/openpyxl/worksheet/_reader.py:312: UserWarning: Conditional Formatting extension is not supported and will be removed\n",
      "  warn(msg)\n",
      "/home/samoed/.pyenv/versions/3.10.4/lib/python3.10/site-packages/openpyxl/worksheet/_reader.py:312: UserWarning: Conditional Formatting extension is not supported and will be removed\n",
      "  warn(msg)\n"
     ]
    }
   ],
   "source": [
    "sheets_dict = {}\n",
    "base_dict = {}\n",
    "re_dict = {}\n",
    "word_list = []\n",
    "\n",
    "excel = pd.ExcelFile(\"./esg_topics.xlsx\")\n",
    "for sheet_name in excel.sheet_names:\n",
    "    sheet_df = pd.read_excel(excel, sheet_name=sheet_name, header=None)\n",
    "    word_list.extend([{\"topic\": sheet_name, \"word\": row[0], \"type\": row[1]} for _, row in sheet_df.iterrows()])\n",
    "    sheets_dict[sheet_name] = {row[0]: 1 for _, row in sheet_df.iterrows()}\n",
    "    base_dict[sheet_name] = {row[0]: 0 for _, row in sheet_df.iterrows()}\n",
    "    # In this updated pattern, (?!\\w) is a negative lookahead assertion that ensures \"le\" is not followed by a word character. This will correctly match \"simple example\" but will not match the standalone \"le\" in \"easy\" or \"alone.\" Now, the regex should produce the desired output with only \"simple example\" being matched.\n",
    "    re_dict[sheet_name] = re.compile(\"(\" + \"(?!\\w)|\".join(sheet_df[0].tolist()) + \"(?!\\w))\")"
   ]
  },
  {
   "cell_type": "code",
   "execution_count": 14,
   "metadata": {},
   "outputs": [],
   "source": [
    "pd.DataFrame(word_list).to_csv(\"e_topic.csv.zip\", index=False)"
   ]
  },
  {
   "cell_type": "code",
   "execution_count": 3,
   "metadata": {},
   "outputs": [
    {
     "name": "stdout",
     "output_type": "stream",
     "text": [
      "Экология []\n",
      "Климат ['политика']\n",
      "Энергия []\n",
      "Воздух []\n",
      "Вода []\n",
      "Отходы []\n",
      "Биоразнообразие []\n",
      "Социально-культурное воздействи []\n"
     ]
    }
   ],
   "source": [
    "text = \"социальный отчёт полностью охватывать социальный политика оао ммк дальнейший расширение возможно часть увеличение показатель деятельность случай выявление заинтересованность пользователь информация общество\"\n",
    "\n",
    "for key, regex in re_dict.items():\n",
    "    print(key, regex.findall(text))"
   ]
  },
  {
   "cell_type": "code",
   "execution_count": 7,
   "metadata": {},
   "outputs": [
    {
     "data": {
      "application/json": {
       "ascii": false,
       "bar_format": null,
       "colour": null,
       "elapsed": 0.044565439224243164,
       "initial": 0,
       "n": 0,
       "ncols": null,
       "nrows": 24,
       "postfix": null,
       "prefix": "",
       "rate": null,
       "total": 1963163,
       "unit": "it",
       "unit_divisor": 1000,
       "unit_scale": false
      },
      "application/vnd.jupyter.widget-view+json": {
       "model_id": "2d861bc0b4114902974dd5d78b5c8206",
       "version_major": 2,
       "version_minor": 0
      },
      "text/plain": [
       "  0%|          | 0/1963163 [00:00<?, ?it/s]"
      ]
     },
     "metadata": {},
     "output_type": "display_data"
    }
   ],
   "source": [
    "import copy\n",
    "\n",
    "topics = []\n",
    "for text in tqdm(df[\"cleaned_text\"].tolist()):\n",
    "    paragraph_dict = copy.deepcopy(base_dict)\n",
    "    found_words = False\n",
    "    for key, regex in re_dict.items():\n",
    "        words = regex.findall(text)\n",
    "        for word in words:\n",
    "            paragraph_dict[key][word] = 1\n",
    "            found_words = True\n",
    "    res = {}\n",
    "    if not found_words:\n",
    "        res = {key: 0 for key in sheets_dict}\n",
    "        topics.append(res | {\"max_score\": None, \"max_topic\": None})\n",
    "        continue\n",
    "    for key, vector in sheets_dict.items():\n",
    "        sim = cosine_similarity(X=[list(vector.values())], Y=[list(paragraph_dict[key].values())])[0][0]\n",
    "        res[key] = sim\n",
    "    \n",
    "    topics.append(res | {\"max_score\": max(res.values()), \"max_topic\": max(res, key=lambda k: res[k])})"
   ]
  },
  {
   "cell_type": "code",
   "execution_count": 8,
   "metadata": {},
   "outputs": [
    {
     "data": {
      "text/plain": [
       "Экология           285751\n",
       "Климат             208173\n",
       "Энергия             78585\n",
       "Отходы              59408\n",
       "Вода                41847\n",
       "Биоразнообразие      8287\n",
       "Воздух               6894\n",
       "Name: max_topic, dtype: int64"
      ]
     },
     "execution_count": 8,
     "metadata": {},
     "output_type": "execute_result"
    }
   ],
   "source": [
    "df_topic = pd.DataFrame(topics) \n",
    "df_topic[\"max_topic\"].value_counts()"
   ]
  },
  {
   "cell_type": "code",
   "execution_count": 10,
   "metadata": {},
   "outputs": [],
   "source": [
    "df_topic.to_csv(\"./topics.csv.zip\", index=False)"
   ]
  },
  {
   "cell_type": "code",
   "execution_count": null,
   "metadata": {},
   "outputs": [],
   "source": [
    "df = pd.read_csv(\"../parsing/paragraphs.csv.zip\",0)\n",
    "df = df.dropna()"
   ]
  },
  {
   "cell_type": "code",
   "execution_count": null,
   "metadata": {},
   "outputs": [],
   "source": []
  }
 ],
 "metadata": {
  "kernelspec": {
   "display_name": "Python 3 (ipykernel)",
   "language": "python",
   "name": "python3"
  },
  "language_info": {
   "codemirror_mode": {
    "name": "ipython",
    "version": 3
   },
   "file_extension": ".py",
   "mimetype": "text/x-python",
   "name": "python",
   "nbconvert_exporter": "python",
   "pygments_lexer": "ipython3",
   "version": "3.10.4"
  }
 },
 "nbformat": 4,
 "nbformat_minor": 4
}
