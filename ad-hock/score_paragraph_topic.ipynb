{
 "cells": [
  {
   "cell_type": "code",
   "execution_count": 12,
   "metadata": {},
   "outputs": [],
   "source": [
    "import pandas as pd\n",
    "import re\n",
    "import copy"
   ]
  },
  {
   "cell_type": "code",
   "execution_count": 13,
   "metadata": {},
   "outputs": [
    {
     "data": {
      "text/html": [
       "<div>\n",
       "<style scoped>\n",
       "    .dataframe tbody tr th:only-of-type {\n",
       "        vertical-align: middle;\n",
       "    }\n",
       "\n",
       "    .dataframe tbody tr th {\n",
       "        vertical-align: top;\n",
       "    }\n",
       "\n",
       "    .dataframe thead th {\n",
       "        text-align: right;\n",
       "    }\n",
       "</style>\n",
       "<table border=\"1\" class=\"dataframe\">\n",
       "  <thead>\n",
       "    <tr style=\"text-align: right;\">\n",
       "      <th></th>\n",
       "      <th>topic</th>\n",
       "      <th>text</th>\n",
       "      <th>parsed_text</th>\n",
       "    </tr>\n",
       "  </thead>\n",
       "  <tbody>\n",
       "    <tr>\n",
       "      <th>0</th>\n",
       "      <td>Климат</td>\n",
       "      <td>Масса выбросов ПГ сократилась за счет реализац...</td>\n",
       "      <td>масса выброс пг сократиться счёт реализация ме...</td>\n",
       "    </tr>\n",
       "    <tr>\n",
       "      <th>1</th>\n",
       "      <td>Климат</td>\n",
       "      <td>В 2022 г. была разработана Климатическая дорож...</td>\n",
       "      <td>в г. разработать климатический дорожный карта ...</td>\n",
       "    </tr>\n",
       "    <tr>\n",
       "      <th>2</th>\n",
       "      <td>Климат</td>\n",
       "      <td>В 2022 году Эн+ продолжила работу по борьбе с ...</td>\n",
       "      <td>в год эн+ продолжить работа борьба изменение к...</td>\n",
       "    </tr>\n",
       "    <tr>\n",
       "      <th>3</th>\n",
       "      <td>Климат</td>\n",
       "      <td>Хотя периметр потенциального разделения низко ...</td>\n",
       "      <td>хотя периметр потенциальный разделение низко о...</td>\n",
       "    </tr>\n",
       "    <tr>\n",
       "      <th>4</th>\n",
       "      <td>Климат</td>\n",
       "      <td>- активы с относительно низким углеродным след...</td>\n",
       "      <td>актив относительно низкий углеродный следом да...</td>\n",
       "    </tr>\n",
       "  </tbody>\n",
       "</table>\n",
       "</div>"
      ],
      "text/plain": [
       "    topic                                               text  \\\n",
       "0  Климат  Масса выбросов ПГ сократилась за счет реализац...   \n",
       "1  Климат  В 2022 г. была разработана Климатическая дорож...   \n",
       "2  Климат  В 2022 году Эн+ продолжила работу по борьбе с ...   \n",
       "3  Климат  Хотя периметр потенциального разделения низко ...   \n",
       "4  Климат  - активы с относительно низким углеродным след...   \n",
       "\n",
       "                                         parsed_text  \n",
       "0  масса выброс пг сократиться счёт реализация ме...  \n",
       "1  в г. разработать климатический дорожный карта ...  \n",
       "2  в год эн+ продолжить работа борьба изменение к...  \n",
       "3  хотя периметр потенциальный разделение низко о...  \n",
       "4  актив относительно низкий углеродный следом да...  "
      ]
     },
     "execution_count": 13,
     "metadata": {},
     "output_type": "execute_result"
    }
   ],
   "source": [
    "df = pd.read_csv(\"paragraph_per_topic.csv\", index_col=0)\n",
    "df[\"topic\"] = df[\"topic\"].str.replace(\"\\t\", \"\").str.strip()\n",
    "\n",
    "rename = [\n",
    "    (\"Сервис и коммуникации\", \"Сервис и коммуникация\"),\n",
    "    (\"Маркетинг, реклама, продажи\", \"Маркетинг, продажи, реклама\"),\n",
    "    (\"Качество и безопасность продукта\", \"Качество и безопасность продукт\"),\n",
    "    (\"Профсоюз и коллективный договор\", \"Профсоюз и Коллективный договор\"),\n",
    "    (\"Экология поставщиков\", \"Экология\"),\n",
    "    (\"Работники поставщиков\", \"Работники\"),\n",
    "]\n",
    "\n",
    "for old, new in rename:\n",
    "    df[\"topic\"] = df[\"topic\"].str.replace(old, new)\n",
    "df = df.dropna()\n",
    "df.head()"
   ]
  },
  {
   "cell_type": "code",
   "execution_count": 14,
   "metadata": {},
   "outputs": [
    {
     "data": {
      "text/plain": [
       "Вода                           48\n",
       "Климат                         46\n",
       "Энергия                        42\n",
       "Отходы                         37\n",
       "Этика                          32\n",
       "Воздух                         30\n",
       "Безопасность и охрана труда    30\n",
       "Здоровье и благополучие        29\n",
       "Оплата труда                   28\n",
       "Поставщики в целом             28\n",
       "Благотворительность            27\n",
       "Корпоративное управление       27\n",
       "Малый и локальный бизнес       25\n",
       "Маркетинг, продажи, реклама    23\n",
       "Биоразнообразие                23\n",
       "Риски                          20\n",
       "Коренные народы                20\n",
       "Обучение и развитие            19\n",
       "Волонтерство                   18\n",
       "Отчетность и прозрачность      17\n",
       "Name: topic, dtype: int64"
      ]
     },
     "execution_count": 14,
     "metadata": {},
     "output_type": "execute_result"
    }
   ],
   "source": [
    "df[\"topic\"].value_counts().head(20)"
   ]
  },
  {
   "cell_type": "code",
   "execution_count": 15,
   "metadata": {},
   "outputs": [
    {
     "data": {
      "text/html": [
       "<div>\n",
       "<style scoped>\n",
       "    .dataframe tbody tr th:only-of-type {\n",
       "        vertical-align: middle;\n",
       "    }\n",
       "\n",
       "    .dataframe tbody tr th {\n",
       "        vertical-align: top;\n",
       "    }\n",
       "\n",
       "    .dataframe thead th {\n",
       "        text-align: right;\n",
       "    }\n",
       "</style>\n",
       "<table border=\"1\" class=\"dataframe\">\n",
       "  <thead>\n",
       "    <tr style=\"text-align: right;\">\n",
       "      <th></th>\n",
       "      <th>meta</th>\n",
       "      <th>topic</th>\n",
       "      <th>weight</th>\n",
       "      <th>type</th>\n",
       "      <th>word</th>\n",
       "    </tr>\n",
       "  </thead>\n",
       "  <tbody>\n",
       "    <tr>\n",
       "      <th>0</th>\n",
       "      <td>env</td>\n",
       "      <td>Климат</td>\n",
       "      <td>1</td>\n",
       "      <td>0</td>\n",
       "      <td>ch4</td>\n",
       "    </tr>\n",
       "    <tr>\n",
       "      <th>1</th>\n",
       "      <td>env</td>\n",
       "      <td>Климат</td>\n",
       "      <td>1</td>\n",
       "      <td>0</td>\n",
       "      <td>co2</td>\n",
       "    </tr>\n",
       "    <tr>\n",
       "      <th>2</th>\n",
       "      <td>env</td>\n",
       "      <td>Климат</td>\n",
       "      <td>1</td>\n",
       "      <td>0</td>\n",
       "      <td>ghg protocol</td>\n",
       "    </tr>\n",
       "    <tr>\n",
       "      <th>3</th>\n",
       "      <td>env</td>\n",
       "      <td>Климат</td>\n",
       "      <td>1</td>\n",
       "      <td>0</td>\n",
       "      <td>n2o</td>\n",
       "    </tr>\n",
       "    <tr>\n",
       "      <th>4</th>\n",
       "      <td>env</td>\n",
       "      <td>Климат</td>\n",
       "      <td>1</td>\n",
       "      <td>0</td>\n",
       "      <td>scope 1</td>\n",
       "    </tr>\n",
       "  </tbody>\n",
       "</table>\n",
       "</div>"
      ],
      "text/plain": [
       "  meta   topic  weight  type          word\n",
       "0  env  Климат       1     0           ch4\n",
       "1  env  Климат       1     0           co2\n",
       "2  env  Климат       1     0  ghg protocol\n",
       "3  env  Климат       1     0           n2o\n",
       "4  env  Климат       1     0       scope 1"
      ]
     },
     "execution_count": 15,
     "metadata": {},
     "output_type": "execute_result"
    }
   ],
   "source": [
    "words = pd.read_csv(\"../topic_words.csv.zip\")\n",
    "words.head()"
   ]
  },
  {
   "cell_type": "code",
   "execution_count": 18,
   "metadata": {},
   "outputs": [
    {
     "name": "stdout",
     "output_type": "stream",
     "text": [
      "Здоровье и благополучие сотрудн\n"
     ]
    }
   ],
   "source": [
    "for topic in words[\"topic\"].unique():\n",
    "    if topic not in df[\"topic\"].unique():\n",
    "        print(topic)"
   ]
  },
  {
   "cell_type": "code",
   "execution_count": 19,
   "metadata": {},
   "outputs": [
    {
     "name": "stdout",
     "output_type": "stream",
     "text": [
      "Рекультивация нарушенных земель\n",
      "Экологичность продукта\n",
      "Многообразие, равенство и инклюзивность\n",
      "Доступность\n",
      "Поставщики в целом\n",
      "Права человека\n"
     ]
    }
   ],
   "source": [
    "for topic in df[\"topic\"].unique():\n",
    "    if topic not in words[\"topic\"].unique():\n",
    "        print(topic)"
   ]
  },
  {
   "cell_type": "code",
   "execution_count": 20,
   "metadata": {},
   "outputs": [],
   "source": [
    "re_dict = {}\n",
    "sheets_dict = {}\n",
    "base_dict = {}\n",
    "importance_dict = {}\n",
    "\n",
    "for idx, row in words.iterrows():\n",
    "    if not sheets_dict.get(row[\"topic\"], False):\n",
    "        sheets_dict[row[\"topic\"]] = {}\n",
    "        base_dict[row[\"topic\"]] = {}\n",
    "    if row[\"word\"].find(\",\") != -1:\n",
    "        continue\n",
    "    sheets_dict[row[\"topic\"]][row[\"word\"]] = row[\"weight\"]  # row[\"type\"]\n",
    "    base_dict[row[\"topic\"]][row[\"word\"]] = 0\n",
    "    importance_dict[row[\"topic\"]] = 0"
   ]
  },
  {
   "cell_type": "code",
   "execution_count": 21,
   "metadata": {},
   "outputs": [],
   "source": [
    "for key, val in sheets_dict.items():\n",
    "    re_dict[key] = re.compile(\n",
    "        \"((?<!\\w)\" + \"(?!\\w)|(?<!\\w)\".join(val.keys()) + \"(?!\\w))\"\n",
    "    )"
   ]
  },
  {
   "cell_type": "code",
   "execution_count": 22,
   "metadata": {},
   "outputs": [],
   "source": [
    "re_advanced_dict = {}\n",
    "\n",
    "for key, val in sheets_dict.items():\n",
    "    advanced_words = [word for word, weight in val.items() if weight > 1]\n",
    "    re_advanced_dict[key] = re.compile(\n",
    "        \"((?<!\\w)\" + \"(?!\\w)|(?<!\\w)\".join(advanced_words) + \"(?!\\w))\"\n",
    "    )"
   ]
  },
  {
   "cell_type": "code",
   "execution_count": 25,
   "metadata": {},
   "outputs": [],
   "source": [
    "result = []\n",
    "\n",
    "for idx, row in df.iterrows():\n",
    "    text = row[\"parsed_text\"]\n",
    "    if row[\"topic\"] not in sheets_dict.keys():\n",
    "        result.append(\n",
    "            {\n",
    "                \"topic\": row[\"topic\"],\n",
    "                \"original_text\": row[\"text\"],\n",
    "                \"parsed_text\": text,\n",
    "                \"percent_base_words\": None,\n",
    "                \"percent_advanced_words\": None,\n",
    "                \"base_words\": None,\n",
    "                \"advanced_words\": None,\n",
    "            }\n",
    "        )\n",
    "        continue\n",
    "\n",
    "    found_base_words = list(set(re_dict[row[\"topic\"]].findall(text)))\n",
    "    found_advanced_words = list(set(re_advanced_dict[row[\"topic\"]].findall(text)))\n",
    "    total_words = len(text.split(\" \"))\n",
    "    result.append(\n",
    "        {\n",
    "            \"topic\": row[\"topic\"],\n",
    "            \"original_text\": row[\"text\"],\n",
    "            \"parsed_text\": text,\n",
    "            \"percent_base_words\": len(found_base_words) / total_words * 100,\n",
    "            \"percent_advanced_words\": len(found_advanced_words) / total_words * 100,\n",
    "            \"base_words\": copy.deepcopy(found_base_words),\n",
    "            \"advanced_words\": copy.deepcopy(found_advanced_words),\n",
    "        }\n",
    "    )"
   ]
  },
  {
   "cell_type": "code",
   "execution_count": 26,
   "metadata": {},
   "outputs": [],
   "source": [
    "results = pd.DataFrame(result)\n",
    "results.to_csv(\"paragraph_topic_score.csv\")\n",
    "# df.join(results).to_csv(\"paragraph_topic_score.csv\")"
   ]
  },
  {
   "cell_type": "code",
   "execution_count": null,
   "metadata": {},
   "outputs": [],
   "source": []
  }
 ],
 "metadata": {
  "kernelspec": {
   "display_name": "Python 3",
   "language": "python",
   "name": "python3"
  },
  "language_info": {
   "codemirror_mode": {
    "name": "ipython",
    "version": 3
   },
   "file_extension": ".py",
   "mimetype": "text/x-python",
   "name": "python",
   "nbconvert_exporter": "python",
   "pygments_lexer": "ipython3",
   "version": "3.10.4"
  },
  "orig_nbformat": 4
 },
 "nbformat": 4,
 "nbformat_minor": 2
}
