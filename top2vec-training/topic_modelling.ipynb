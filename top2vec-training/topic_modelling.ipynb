{
 "cells": [
  {
   "cell_type": "code",
   "execution_count": null,
   "metadata": {},
   "outputs": [],
   "source": [
    "!pip install top2vec\n",
    "!pip install top2vec[sentence_encoders]\n",
    "!pip install top2vec[sentence_transformers]\n",
    "!pip install top2vec[indexing]"
   ]
  },
  {
   "cell_type": "code",
   "execution_count": 1,
   "metadata": {},
   "outputs": [],
   "source": [
    "import logging\n",
    "\n",
    "logging.basicConfig(format=\"%(asctime)s - %(message)s\", datefmt=\"%Y-%m-%d %H:%M:%S\", level=logging.INFO, force=True)"
   ]
  },
  {
   "cell_type": "code",
   "execution_count": 2,
   "metadata": {},
   "outputs": [
    {
     "name": "stderr",
     "output_type": "stream",
     "text": [
      "2023-07-09 21:12:41.951233: I tensorflow/core/util/port.cc:110] oneDNN custom operations are on. You may see slightly different numerical results due to floating-point round-off errors from different computation orders. To turn them off, set the environment variable `TF_ENABLE_ONEDNN_OPTS=0`.\n",
      "2023-07-09 21:12:41.971687: I tensorflow/tsl/cuda/cudart_stub.cc:28] Could not find cuda drivers on your machine, GPU will not be used.\n",
      "2023-07-09 21:12:42.122690: I tensorflow/tsl/cuda/cudart_stub.cc:28] Could not find cuda drivers on your machine, GPU will not be used.\n",
      "2023-07-09 21:12:42.123950: I tensorflow/core/platform/cpu_feature_guard.cc:182] This TensorFlow binary is optimized to use available CPU instructions in performance-critical operations.\n",
      "To enable the following instructions: AVX2 AVX512F AVX512_VNNI FMA, in other operations, rebuild TensorFlow with the appropriate compiler flags.\n",
      "2023-07-09 21:12:43.198367: W tensorflow/compiler/tf2tensorrt/utils/py_utils.cc:38] TF-TRT Warning: Could not find TensorRT\n"
     ]
    }
   ],
   "source": [
    "import os\n",
    "\n",
    "import numpy as np\n",
    "import pandas as pd\n",
    "from top2vec import Top2Vec\n",
    "from tqdm import tqdm"
   ]
  },
  {
   "cell_type": "code",
   "execution_count": 3,
   "metadata": {},
   "outputs": [
    {
     "name": "stderr",
     "output_type": "stream",
     "text": [
      "/tmp/ipykernel_12856/668388980.py:1: DtypeWarning: Columns (0,1,2,3,4,6,7) have mixed types. Specify dtype option on import or set low_memory=False.\n",
      "  df = pd.read_csv(\"../parsing/paragraphs.csv.zip\", index_col=0)\n"
     ]
    },
    {
     "data": {
      "text/html": [
       "<div>\n",
       "<style scoped>\n",
       "    .dataframe tbody tr th:only-of-type {\n",
       "        vertical-align: middle;\n",
       "    }\n",
       "\n",
       "    .dataframe tbody tr th {\n",
       "        vertical-align: top;\n",
       "    }\n",
       "\n",
       "    .dataframe thead th {\n",
       "        text-align: right;\n",
       "    }\n",
       "</style>\n",
       "<table border=\"1\" class=\"dataframe\">\n",
       "  <thead>\n",
       "    <tr style=\"text-align: right;\">\n",
       "      <th></th>\n",
       "      <th>company</th>\n",
       "      <th>year</th>\n",
       "      <th>sector</th>\n",
       "      <th>report_type</th>\n",
       "      <th>paragraph</th>\n",
       "      <th>original_text</th>\n",
       "      <th>cleaned_text</th>\n",
       "    </tr>\n",
       "  </thead>\n",
       "  <tbody>\n",
       "    <tr>\n",
       "      <th>0</th>\n",
       "      <td>ПАО «ММК»</td>\n",
       "      <td>2014</td>\n",
       "      <td>Металлургическая и горнодобывающая</td>\n",
       "      <td>СО</td>\n",
       "      <td>0.0</td>\n",
       "      <td>1 ММК</td>\n",
       "      <td>ммк</td>\n",
       "    </tr>\n",
       "    <tr>\n",
       "      <th>1</th>\n",
       "      <td>ПАО «ММК»</td>\n",
       "      <td>2014</td>\n",
       "      <td>Металлургическая и горнодобывающая</td>\n",
       "      <td>СО</td>\n",
       "      <td>1.0</td>\n",
       "      <td>СОЦИАЛЬНЫЙ ОТЧЕТ ММК ЗА 2014 ГОД МАГНИТОГОРСКИ...</td>\n",
       "      <td>социальный отчёт ммк за год магнитогорский мет...</td>\n",
       "    </tr>\n",
       "    <tr>\n",
       "      <th>2</th>\n",
       "      <td>ПАО «ММК»</td>\n",
       "      <td>2014</td>\n",
       "      <td>Металлургическая и горнодобывающая</td>\n",
       "      <td>СО</td>\n",
       "      <td>2.0</td>\n",
       "      <td>www.mmk.ru</td>\n",
       "      <td>NaN</td>\n",
       "    </tr>\n",
       "    <tr>\n",
       "      <th>3</th>\n",
       "      <td>ПАО «ММК»</td>\n",
       "      <td>2014</td>\n",
       "      <td>Металлургическая и горнодобывающая</td>\n",
       "      <td>СО</td>\n",
       "      <td>3.0</td>\n",
       "      <td>СОДЕРЖАНИЕ</td>\n",
       "      <td>содержание</td>\n",
       "    </tr>\n",
       "    <tr>\n",
       "      <th>4</th>\n",
       "      <td>ПАО «ММК»</td>\n",
       "      <td>2014</td>\n",
       "      <td>Металлургическая и горнодобывающая</td>\n",
       "      <td>СО</td>\n",
       "      <td>4.0</td>\n",
       "      <td>Обращение председателя совета директоров.........</td>\n",
       "      <td>обращение председатель совет директор параметр...</td>\n",
       "    </tr>\n",
       "  </tbody>\n",
       "</table>\n",
       "</div>"
      ],
      "text/plain": [
       "      company  year                              sector report_type  \\\n",
       "0  ПАО «ММК»   2014  Металлургическая и горнодобывающая          СО   \n",
       "1  ПАО «ММК»   2014  Металлургическая и горнодобывающая          СО   \n",
       "2  ПАО «ММК»   2014  Металлургическая и горнодобывающая          СО   \n",
       "3  ПАО «ММК»   2014  Металлургическая и горнодобывающая          СО   \n",
       "4  ПАО «ММК»   2014  Металлургическая и горнодобывающая          СО   \n",
       "\n",
       "   paragraph                                      original_text  \\\n",
       "0        0.0                                              1 ММК   \n",
       "1        1.0  СОЦИАЛЬНЫЙ ОТЧЕТ ММК ЗА 2014 ГОД МАГНИТОГОРСКИ...   \n",
       "2        2.0                                         www.mmk.ru   \n",
       "3        3.0                                        \n",
       "СОДЕРЖАНИЕ   \n",
       "4        4.0  Обращение председателя совета директоров.........   \n",
       "\n",
       "                                        cleaned_text  \n",
       "0                                                ммк  \n",
       "1  социальный отчёт ммк за год магнитогорский мет...  \n",
       "2                                                NaN  \n",
       "3                                         содержание  \n",
       "4  обращение председатель совет директор параметр...  "
      ]
     },
     "execution_count": 3,
     "metadata": {},
     "output_type": "execute_result"
    }
   ],
   "source": [
    "df = pd.read_csv(\"../parsing/paragraphs.csv.zip\", index_col=0)\n",
    "df.head()"
   ]
  },
  {
   "cell_type": "code",
   "execution_count": 4,
   "metadata": {},
   "outputs": [
    {
     "data": {
      "text/plain": [
       "(6113766, 7)"
      ]
     },
     "execution_count": 4,
     "metadata": {},
     "output_type": "execute_result"
    }
   ],
   "source": [
    "df.shape"
   ]
  },
  {
   "cell_type": "code",
   "execution_count": 5,
   "metadata": {},
   "outputs": [
    {
     "data": {
      "text/plain": [
       "(5784808, 7)"
      ]
     },
     "execution_count": 5,
     "metadata": {},
     "output_type": "execute_result"
    }
   ],
   "source": [
    "df = df[df[\"original_text\"].notna()]\n",
    "df.shape"
   ]
  },
  {
   "cell_type": "code",
   "execution_count": 6,
   "metadata": {},
   "outputs": [
    {
     "data": {
      "text/html": [
       "<div>\n",
       "<style scoped>\n",
       "    .dataframe tbody tr th:only-of-type {\n",
       "        vertical-align: middle;\n",
       "    }\n",
       "\n",
       "    .dataframe tbody tr th {\n",
       "        vertical-align: top;\n",
       "    }\n",
       "\n",
       "    .dataframe thead th {\n",
       "        text-align: right;\n",
       "    }\n",
       "</style>\n",
       "<table border=\"1\" class=\"dataframe\">\n",
       "  <thead>\n",
       "    <tr style=\"text-align: right;\">\n",
       "      <th></th>\n",
       "      <th>company</th>\n",
       "      <th>year</th>\n",
       "      <th>sector</th>\n",
       "      <th>report_type</th>\n",
       "      <th>paragraph</th>\n",
       "      <th>original_text</th>\n",
       "      <th>cleaned_text</th>\n",
       "    </tr>\n",
       "  </thead>\n",
       "  <tbody>\n",
       "    <tr>\n",
       "      <th>0</th>\n",
       "      <td>ПАО «ММК»</td>\n",
       "      <td>2014</td>\n",
       "      <td>Металлургическая и горнодобывающая</td>\n",
       "      <td>СО</td>\n",
       "      <td>0.0</td>\n",
       "      <td>1 ММК</td>\n",
       "      <td>ммк</td>\n",
       "    </tr>\n",
       "    <tr>\n",
       "      <th>1</th>\n",
       "      <td>ПАО «ММК»</td>\n",
       "      <td>2014</td>\n",
       "      <td>Металлургическая и горнодобывающая</td>\n",
       "      <td>СО</td>\n",
       "      <td>1.0</td>\n",
       "      <td>СОЦИАЛЬНЫЙ ОТЧЕТ ММК ЗА 2014 ГОД МАГНИТОГОРСКИ...</td>\n",
       "      <td>социальный отчёт ммк за год магнитогорский мет...</td>\n",
       "    </tr>\n",
       "    <tr>\n",
       "      <th>2</th>\n",
       "      <td>ПАО «ММК»</td>\n",
       "      <td>2014</td>\n",
       "      <td>Металлургическая и горнодобывающая</td>\n",
       "      <td>СО</td>\n",
       "      <td>2.0</td>\n",
       "      <td>www.mmk.ru</td>\n",
       "      <td>NaN</td>\n",
       "    </tr>\n",
       "    <tr>\n",
       "      <th>3</th>\n",
       "      <td>ПАО «ММК»</td>\n",
       "      <td>2014</td>\n",
       "      <td>Металлургическая и горнодобывающая</td>\n",
       "      <td>СО</td>\n",
       "      <td>3.0</td>\n",
       "      <td>СОДЕРЖАНИЕ</td>\n",
       "      <td>содержание</td>\n",
       "    </tr>\n",
       "    <tr>\n",
       "      <th>4</th>\n",
       "      <td>ПАО «ММК»</td>\n",
       "      <td>2014</td>\n",
       "      <td>Металлургическая и горнодобывающая</td>\n",
       "      <td>СО</td>\n",
       "      <td>4.0</td>\n",
       "      <td>Обращение председателя совета директоров.........</td>\n",
       "      <td>обращение председатель совет директор параметр...</td>\n",
       "    </tr>\n",
       "  </tbody>\n",
       "</table>\n",
       "</div>"
      ],
      "text/plain": [
       "      company  year                              sector report_type  \\\n",
       "0  ПАО «ММК»   2014  Металлургическая и горнодобывающая          СО   \n",
       "1  ПАО «ММК»   2014  Металлургическая и горнодобывающая          СО   \n",
       "2  ПАО «ММК»   2014  Металлургическая и горнодобывающая          СО   \n",
       "3  ПАО «ММК»   2014  Металлургическая и горнодобывающая          СО   \n",
       "4  ПАО «ММК»   2014  Металлургическая и горнодобывающая          СО   \n",
       "\n",
       "   paragraph                                      original_text  \\\n",
       "0        0.0                                              1 ММК   \n",
       "1        1.0  СОЦИАЛЬНЫЙ ОТЧЕТ ММК ЗА 2014 ГОД МАГНИТОГОРСКИ...   \n",
       "2        2.0                                         www.mmk.ru   \n",
       "3        3.0                                        \n",
       "СОДЕРЖАНИЕ   \n",
       "4        4.0  Обращение председателя совета директоров.........   \n",
       "\n",
       "                                        cleaned_text  \n",
       "0                                                ммк  \n",
       "1  социальный отчёт ммк за год магнитогорский мет...  \n",
       "2                                                NaN  \n",
       "3                                         содержание  \n",
       "4  обращение председатель совет директор параметр...  "
      ]
     },
     "execution_count": 6,
     "metadata": {},
     "output_type": "execute_result"
    }
   ],
   "source": [
    "df.head()"
   ]
  },
  {
   "cell_type": "code",
   "execution_count": 7,
   "metadata": {},
   "outputs": [],
   "source": [
    "hdbscan_args = {\"min_cluster_size\": 30, \"min_samples\": 15, \"metric\": \"euclidean\"}\n",
    "umap_args = {\"low_memory\": True, \"random_state\": 42}"
   ]
  },
  {
   "cell_type": "code",
   "execution_count": null,
   "metadata": {},
   "outputs": [
    {
     "name": "stderr",
     "output_type": "stream",
     "text": [
      "2023-07-09 21:13:13,496 - top2vec - INFO - Pre-processing documents for training\n",
      "2023-07-09 21:13:13 - Pre-processing documents for training\n",
      "/home/samoed/.pyenv/versions/3.10.4/lib/python3.10/site-packages/sklearn/feature_extraction/text.py:525: UserWarning: The parameter 'token_pattern' will not be used since 'tokenizer' is not None'\n",
      "  warnings.warn(\n",
      "2023-07-09 21:13:57,266 - top2vec - INFO - Downloading universal-sentence-encoder-multilingual model\n",
      "2023-07-09 21:13:57 - Downloading universal-sentence-encoder-multilingual model\n",
      "2023-07-09 21:13:57 - Using /tmp/tfhub_modules to cache modules.\n",
      "2023-07-09 21:13:58.603560: I tensorflow/compiler/xla/stream_executor/cuda/cuda_gpu_executor.cc:995] successful NUMA node read from SysFS had negative value (-1), but there must be at least one NUMA node, so returning NUMA node zero. See more at https://github.com/torvalds/linux/blob/v6.0/Documentation/ABI/testing/sysfs-bus-pci#L344-L355\n",
      "2023-07-09 21:13:58.688548: W tensorflow/core/common_runtime/gpu/gpu_device.cc:1960] Cannot dlopen some GPU libraries. Please make sure the missing libraries mentioned above are installed properly if you would like to use GPU. Follow the guide at https://www.tensorflow.org/install/gpu for how to download and setup the required libraries for your platform.\n",
      "Skipping registering GPU devices...\n",
      "2023-07-09 21:14:00 - Fingerprint not found. Saved model loading will continue.\n",
      "2023-07-09 21:14:00,666 - top2vec - INFO - Creating joint document/word embedding\n",
      "2023-07-09 21:14:00 - Creating joint document/word embedding\n"
     ]
    }
   ],
   "source": [
    "%%time\n",
    "model = Top2Vec(\n",
    "    documents=df[\"original_text\"].tolist()[: df.shape[0] // 4],\n",
    "    speed=\"deep-learn\",\n",
    "    workers=8,\n",
    "    min_count=0,\n",
    "    embedding_model=\"universal-sentence-encoder-multilingual\",\n",
    "    hdbscan_args=hdbscan_args,\n",
    "    umap_args=umap_args,\n",
    ")"
   ]
  },
  {
   "cell_type": "code",
   "execution_count": null,
   "metadata": {},
   "outputs": [],
   "source": [
    "model.save(\"model_par.pth\")"
   ]
  },
  {
   "cell_type": "code",
   "execution_count": null,
   "metadata": {},
   "outputs": [],
   "source": [
    "topic_words, word_scores, topic_nums = model.get_topics(num_of_topics)\n",
    "pages_topics = {\"topic_id\": [], \"topic_words\": []}\n",
    "for topic_id, topic_w in tqdm(zip(topic_nums, topic_words)):\n",
    "    pages_topics[\"topic_id\"].append(topic_id)\n",
    "    pages_topics[\"topic_words\"].append(\", \".join(topic_w))"
   ]
  },
  {
   "cell_type": "code",
   "execution_count": null,
   "metadata": {},
   "outputs": [],
   "source": [
    "pages_topics_df = pd.DataFrame.from_dict(pages_topics)\n",
    "pages_topics_df.head()"
   ]
  },
  {
   "cell_type": "code",
   "execution_count": null,
   "metadata": {},
   "outputs": [],
   "source": [
    "pages_topics_df.to_excel(\"pages_topics.xlsx\", index=False)"
   ]
  },
  {
   "cell_type": "code",
   "execution_count": null,
   "metadata": {},
   "outputs": [],
   "source": [
    "\"test\""
   ]
  },
  {
   "cell_type": "code",
   "execution_count": null,
   "metadata": {},
   "outputs": [],
   "source": [
    "\"q\""
   ]
  },
  {
   "cell_type": "code",
   "execution_count": null,
   "metadata": {},
   "outputs": [],
   "source": []
  }
 ],
 "metadata": {
  "kernelspec": {
   "display_name": "Python 3 (ipykernel)",
   "language": "python",
   "name": "python3"
  },
  "language_info": {
   "codemirror_mode": {
    "name": "ipython",
    "version": 3
   },
   "file_extension": ".py",
   "mimetype": "text/x-python",
   "name": "python",
   "nbconvert_exporter": "python",
   "pygments_lexer": "ipython3",
   "version": "3.10.4"
  },
  "widgets": {
   "application/vnd.jupyter.widget-state+json": {
    "state": {},
    "version_major": 2,
    "version_minor": 0
   }
  }
 },
 "nbformat": 4,
 "nbformat_minor": 4
}
