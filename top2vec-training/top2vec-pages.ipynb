{
 "cells": [
  {
   "cell_type": "code",
   "execution_count": 1,
   "metadata": {
    "execution": {
     "iopub.execute_input": "2023-03-01T10:51:15.043103Z",
     "iopub.status.busy": "2023-03-01T10:51:15.042568Z",
     "iopub.status.idle": "2023-03-01T10:54:04.250193Z",
     "shell.execute_reply": "2023-03-01T10:54:04.249021Z",
     "shell.execute_reply.started": "2023-03-01T10:51:15.042989Z"
    },
    "scrolled": true
   },
   "outputs": [
    {
     "name": "stdout",
     "output_type": "stream",
     "text": [
      "/bin/bash: /opt/conda/lib/libtinfo.so.6: no version information available (required by /bin/bash)\n",
      "Collecting top2vec\n",
      "  Downloading top2vec-1.0.28-py3-none-any.whl (25 kB)\n",
      "Requirement already satisfied: pandas in /opt/conda/lib/python3.7/site-packages (from top2vec) (1.3.5)\n",
      "Requirement already satisfied: wordcloud in /opt/conda/lib/python3.7/site-packages (from top2vec) (1.8.2.2)\n",
      "  Downloading top2vec-1.0.27-py3-none-any.whl (25 kB)\n",
      "Requirement already satisfied: umap-learn>=0.5.1 in /opt/conda/lib/python3.7/site-packages (from top2vec) (0.5.3)\n",
      "Collecting hdbscan>=0.8.27\n",
      "  Downloading hdbscan-0.8.29.tar.gz (5.2 MB)\n",
      "\u001b[2K     \u001b[90m━━━━━━━━━━━━━━━━━━━━━━━━━━━━━━━━━━━━━━━━\u001b[0m \u001b[32m5.2/5.2 MB\u001b[0m \u001b[31m33.0 MB/s\u001b[0m eta \u001b[36m0:00:00\u001b[0m00:01\u001b[0m00:01\u001b[0m\n",
      "\u001b[?25h  Installing build dependencies ... \u001b[?25ldone\n",
      "\u001b[?25h  Getting requirements to build wheel ... \u001b[?25ldone\n",
      "\u001b[?25h  Preparing metadata (pyproject.toml) ... \u001b[?25ldone\n",
      "\u001b[?25hRequirement already satisfied: numpy>=1.20.0 in /opt/conda/lib/python3.7/site-packages (from top2vec) (1.21.6)\n",
      "Requirement already satisfied: gensim>=4.0.0 in /opt/conda/lib/python3.7/site-packages (from top2vec) (4.0.1)\n",
      "Requirement already satisfied: scipy>=0.18.1 in /opt/conda/lib/python3.7/site-packages (from gensim>=4.0.0->top2vec) (1.7.3)\n",
      "Requirement already satisfied: smart-open>=1.8.1 in /opt/conda/lib/python3.7/site-packages (from gensim>=4.0.0->top2vec) (6.3.0)\n",
      "Requirement already satisfied: cython>=0.27 in /opt/conda/lib/python3.7/site-packages (from hdbscan>=0.8.27->top2vec) (0.29.33)\n",
      "Requirement already satisfied: scikit-learn>=0.20 in /opt/conda/lib/python3.7/site-packages (from hdbscan>=0.8.27->top2vec) (1.0.2)\n",
      "Requirement already satisfied: joblib>=1.0 in /opt/conda/lib/python3.7/site-packages (from hdbscan>=0.8.27->top2vec) (1.0.1)\n",
      "Requirement already satisfied: numba>=0.49 in /opt/conda/lib/python3.7/site-packages (from umap-learn>=0.5.1->top2vec) (0.55.2)\n",
      "Requirement already satisfied: pynndescent>=0.5 in /opt/conda/lib/python3.7/site-packages (from umap-learn>=0.5.1->top2vec) (0.5.8)\n",
      "Requirement already satisfied: tqdm in /opt/conda/lib/python3.7/site-packages (from umap-learn>=0.5.1->top2vec) (4.64.1)\n",
      "Requirement already satisfied: python-dateutil>=2.7.3 in /opt/conda/lib/python3.7/site-packages (from pandas->top2vec) (2.8.2)\n",
      "Requirement already satisfied: pytz>=2017.3 in /opt/conda/lib/python3.7/site-packages (from pandas->top2vec) (2022.2.1)\n",
      "Requirement already satisfied: pillow in /opt/conda/lib/python3.7/site-packages (from wordcloud->top2vec) (9.2.0)\n",
      "Requirement already satisfied: matplotlib in /opt/conda/lib/python3.7/site-packages (from wordcloud->top2vec) (3.5.3)\n",
      "Requirement already satisfied: llvmlite<0.39,>=0.38.0rc1 in /opt/conda/lib/python3.7/site-packages (from numba>=0.49->umap-learn>=0.5.1->top2vec) (0.38.1)\n",
      "Requirement already satisfied: setuptools in /opt/conda/lib/python3.7/site-packages (from numba>=0.49->umap-learn>=0.5.1->top2vec) (59.8.0)\n",
      "Requirement already satisfied: importlib-metadata>=4.8.1 in /opt/conda/lib/python3.7/site-packages (from pynndescent>=0.5->umap-learn>=0.5.1->top2vec) (6.0.0)\n",
      "Requirement already satisfied: six>=1.5 in /opt/conda/lib/python3.7/site-packages (from python-dateutil>=2.7.3->pandas->top2vec) (1.16.0)\n",
      "Requirement already satisfied: threadpoolctl>=2.0.0 in /opt/conda/lib/python3.7/site-packages (from scikit-learn>=0.20->hdbscan>=0.8.27->top2vec) (3.1.0)\n",
      "Requirement already satisfied: kiwisolver>=1.0.1 in /opt/conda/lib/python3.7/site-packages (from matplotlib->wordcloud->top2vec) (1.4.4)\n",
      "Requirement already satisfied: cycler>=0.10 in /opt/conda/lib/python3.7/site-packages (from matplotlib->wordcloud->top2vec) (0.11.0)\n",
      "Requirement already satisfied: pyparsing>=2.2.1 in /opt/conda/lib/python3.7/site-packages (from matplotlib->wordcloud->top2vec) (3.0.9)\n",
      "Requirement already satisfied: fonttools>=4.22.0 in /opt/conda/lib/python3.7/site-packages (from matplotlib->wordcloud->top2vec) (4.37.1)\n",
      "Requirement already satisfied: packaging>=20.0 in /opt/conda/lib/python3.7/site-packages (from matplotlib->wordcloud->top2vec) (23.0)\n",
      "Requirement already satisfied: zipp>=0.5 in /opt/conda/lib/python3.7/site-packages (from importlib-metadata>=4.8.1->pynndescent>=0.5->umap-learn>=0.5.1->top2vec) (3.8.1)\n",
      "Requirement already satisfied: typing-extensions>=3.6.4 in /opt/conda/lib/python3.7/site-packages (from importlib-metadata>=4.8.1->pynndescent>=0.5->umap-learn>=0.5.1->top2vec) (4.1.1)\n",
      "Building wheels for collected packages: hdbscan\n",
      "  Building wheel for hdbscan (pyproject.toml) ... \u001b[?25ldone\n",
      "\u001b[?25h  Created wheel for hdbscan: filename=hdbscan-0.8.29-cp37-cp37m-linux_x86_64.whl size=3426690 sha256=c4478dade0a046ecea74c85edd737bb25a21423fe694d89427707481772eea3e\n",
      "  Stored in directory: /root/.cache/pip/wheels/93/78/2e/03ee191669a772e9653260aa3bd53e0b1a768751a9676e8c82\n",
      "Successfully built hdbscan\n",
      "Installing collected packages: hdbscan, top2vec\n",
      "Successfully installed hdbscan-0.8.29 top2vec-1.0.27\n",
      "\u001b[33mWARNING: Running pip as the 'root' user can result in broken permissions and conflicting behaviour with the system package manager. It is recommended to use a virtual environment instead: https://pip.pypa.io/warnings/venv\u001b[0m\u001b[33m\n",
      "\u001b[0m/bin/bash: /opt/conda/lib/libtinfo.so.6: no version information available (required by /bin/bash)\n",
      "Requirement already satisfied: top2vec[sentence_encoders] in /opt/conda/lib/python3.7/site-packages (1.0.27)\n",
      "Requirement already satisfied: gensim>=4.0.0 in /opt/conda/lib/python3.7/site-packages (from top2vec[sentence_encoders]) (4.0.1)\n",
      "Requirement already satisfied: umap-learn>=0.5.1 in /opt/conda/lib/python3.7/site-packages (from top2vec[sentence_encoders]) (0.5.3)\n",
      "Requirement already satisfied: numpy>=1.20.0 in /opt/conda/lib/python3.7/site-packages (from top2vec[sentence_encoders]) (1.21.6)\n",
      "Requirement already satisfied: pandas in /opt/conda/lib/python3.7/site-packages (from top2vec[sentence_encoders]) (1.3.5)\n",
      "Requirement already satisfied: wordcloud in /opt/conda/lib/python3.7/site-packages (from top2vec[sentence_encoders]) (1.8.2.2)\n",
      "Requirement already satisfied: hdbscan>=0.8.27 in /opt/conda/lib/python3.7/site-packages (from top2vec[sentence_encoders]) (0.8.29)\n",
      "Requirement already satisfied: tensorflow-text in /opt/conda/lib/python3.7/site-packages (from top2vec[sentence_encoders]) (2.9.0)\n",
      "Requirement already satisfied: tensorflow in /opt/conda/lib/python3.7/site-packages (from top2vec[sentence_encoders]) (2.9.2)\n",
      "Requirement already satisfied: tensorflow-hub in /opt/conda/lib/python3.7/site-packages (from top2vec[sentence_encoders]) (0.12.0)\n",
      "Requirement already satisfied: scipy>=0.18.1 in /opt/conda/lib/python3.7/site-packages (from gensim>=4.0.0->top2vec[sentence_encoders]) (1.7.3)\n",
      "Requirement already satisfied: smart-open>=1.8.1 in /opt/conda/lib/python3.7/site-packages (from gensim>=4.0.0->top2vec[sentence_encoders]) (6.3.0)\n",
      "Requirement already satisfied: scikit-learn>=0.20 in /opt/conda/lib/python3.7/site-packages (from hdbscan>=0.8.27->top2vec[sentence_encoders]) (1.0.2)\n",
      "Requirement already satisfied: joblib>=1.0 in /opt/conda/lib/python3.7/site-packages (from hdbscan>=0.8.27->top2vec[sentence_encoders]) (1.0.1)\n",
      "Requirement already satisfied: cython>=0.27 in /opt/conda/lib/python3.7/site-packages (from hdbscan>=0.8.27->top2vec[sentence_encoders]) (0.29.33)\n",
      "Requirement already satisfied: pynndescent>=0.5 in /opt/conda/lib/python3.7/site-packages (from umap-learn>=0.5.1->top2vec[sentence_encoders]) (0.5.8)\n",
      "Requirement already satisfied: tqdm in /opt/conda/lib/python3.7/site-packages (from umap-learn>=0.5.1->top2vec[sentence_encoders]) (4.64.1)\n",
      "Requirement already satisfied: numba>=0.49 in /opt/conda/lib/python3.7/site-packages (from umap-learn>=0.5.1->top2vec[sentence_encoders]) (0.55.2)\n",
      "Requirement already satisfied: python-dateutil>=2.7.3 in /opt/conda/lib/python3.7/site-packages (from pandas->top2vec[sentence_encoders]) (2.8.2)\n",
      "Requirement already satisfied: pytz>=2017.3 in /opt/conda/lib/python3.7/site-packages (from pandas->top2vec[sentence_encoders]) (2022.2.1)\n",
      "Requirement already satisfied: keras-preprocessing>=1.1.1 in /opt/conda/lib/python3.7/site-packages (from tensorflow->top2vec[sentence_encoders]) (1.1.2)\n",
      "Requirement already satisfied: gast<=0.4.0,>=0.2.1 in /opt/conda/lib/python3.7/site-packages (from tensorflow->top2vec[sentence_encoders]) (0.4.0)\n",
      "Requirement already satisfied: flatbuffers<2,>=1.12 in /opt/conda/lib/python3.7/site-packages (from tensorflow->top2vec[sentence_encoders]) (1.12)\n",
      "Requirement already satisfied: google-pasta>=0.1.1 in /opt/conda/lib/python3.7/site-packages (from tensorflow->top2vec[sentence_encoders]) (0.2.0)\n",
      "Requirement already satisfied: absl-py>=1.0.0 in /opt/conda/lib/python3.7/site-packages (from tensorflow->top2vec[sentence_encoders]) (1.2.0)\n",
      "Requirement already satisfied: libclang>=13.0.0 in /opt/conda/lib/python3.7/site-packages (from tensorflow->top2vec[sentence_encoders]) (14.0.6)\n",
      "Requirement already satisfied: astunparse>=1.6.0 in /opt/conda/lib/python3.7/site-packages (from tensorflow->top2vec[sentence_encoders]) (1.6.3)\n",
      "Requirement already satisfied: wrapt>=1.11.0 in /opt/conda/lib/python3.7/site-packages (from tensorflow->top2vec[sentence_encoders]) (1.14.1)\n",
      "Requirement already satisfied: typing-extensions>=3.6.6 in /opt/conda/lib/python3.7/site-packages (from tensorflow->top2vec[sentence_encoders]) (4.1.1)\n",
      "Requirement already satisfied: six>=1.12.0 in /opt/conda/lib/python3.7/site-packages (from tensorflow->top2vec[sentence_encoders]) (1.16.0)\n",
      "Collecting protobuf<3.20,>=3.9.2\n",
      "  Downloading protobuf-3.19.6-cp37-cp37m-manylinux_2_17_x86_64.manylinux2014_x86_64.whl (1.1 MB)\n",
      "\u001b[2K     \u001b[90m━━━━━━━━━━━━━━━━━━━━━━━━━━━━━━━━━━━━━━━━\u001b[0m \u001b[32m1.1/1.1 MB\u001b[0m \u001b[31m14.1 MB/s\u001b[0m eta \u001b[36m0:00:00\u001b[0m00:01\u001b[0m0:01\u001b[0m\n",
      "\u001b[?25hRequirement already satisfied: opt-einsum>=2.3.2 in /opt/conda/lib/python3.7/site-packages (from tensorflow->top2vec[sentence_encoders]) (3.3.0)\n",
      "Requirement already satisfied: tensorboard<2.10,>=2.9 in /opt/conda/lib/python3.7/site-packages (from tensorflow->top2vec[sentence_encoders]) (2.9.1)\n",
      "Requirement already satisfied: setuptools in /opt/conda/lib/python3.7/site-packages (from tensorflow->top2vec[sentence_encoders]) (59.8.0)\n",
      "Requirement already satisfied: tensorflow-estimator<2.10.0,>=2.9.0rc0 in /opt/conda/lib/python3.7/site-packages (from tensorflow->top2vec[sentence_encoders]) (2.9.0)\n",
      "Requirement already satisfied: termcolor>=1.1.0 in /opt/conda/lib/python3.7/site-packages (from tensorflow->top2vec[sentence_encoders]) (1.1.0)\n",
      "Requirement already satisfied: packaging in /opt/conda/lib/python3.7/site-packages (from tensorflow->top2vec[sentence_encoders]) (23.0)\n",
      "Requirement already satisfied: tensorflow-io-gcs-filesystem>=0.23.1 in /opt/conda/lib/python3.7/site-packages (from tensorflow->top2vec[sentence_encoders]) (0.27.0)\n",
      "Requirement already satisfied: grpcio<2.0,>=1.24.3 in /opt/conda/lib/python3.7/site-packages (from tensorflow->top2vec[sentence_encoders]) (1.48.1)\n",
      "Requirement already satisfied: keras<2.10.0,>=2.9.0rc0 in /opt/conda/lib/python3.7/site-packages (from tensorflow->top2vec[sentence_encoders]) (2.9.0)\n",
      "Requirement already satisfied: h5py>=2.9.0 in /opt/conda/lib/python3.7/site-packages (from tensorflow->top2vec[sentence_encoders]) (3.7.0)\n",
      "Requirement already satisfied: pillow in /opt/conda/lib/python3.7/site-packages (from wordcloud->top2vec[sentence_encoders]) (9.2.0)\n",
      "Requirement already satisfied: matplotlib in /opt/conda/lib/python3.7/site-packages (from wordcloud->top2vec[sentence_encoders]) (3.5.3)\n",
      "Requirement already satisfied: wheel<1.0,>=0.23.0 in /opt/conda/lib/python3.7/site-packages (from astunparse>=1.6.0->tensorflow->top2vec[sentence_encoders]) (0.37.1)\n",
      "Requirement already satisfied: llvmlite<0.39,>=0.38.0rc1 in /opt/conda/lib/python3.7/site-packages (from numba>=0.49->umap-learn>=0.5.1->top2vec[sentence_encoders]) (0.38.1)\n",
      "Requirement already satisfied: importlib-metadata>=4.8.1 in /opt/conda/lib/python3.7/site-packages (from pynndescent>=0.5->umap-learn>=0.5.1->top2vec[sentence_encoders]) (6.0.0)\n",
      "Requirement already satisfied: threadpoolctl>=2.0.0 in /opt/conda/lib/python3.7/site-packages (from scikit-learn>=0.20->hdbscan>=0.8.27->top2vec[sentence_encoders]) (3.1.0)\n",
      "Requirement already satisfied: tensorboard-plugin-wit>=1.6.0 in /opt/conda/lib/python3.7/site-packages (from tensorboard<2.10,>=2.9->tensorflow->top2vec[sentence_encoders]) (1.8.1)\n",
      "Requirement already satisfied: werkzeug>=1.0.1 in /opt/conda/lib/python3.7/site-packages (from tensorboard<2.10,>=2.9->tensorflow->top2vec[sentence_encoders]) (2.2.2)\n",
      "Requirement already satisfied: google-auth-oauthlib<0.5,>=0.4.1 in /opt/conda/lib/python3.7/site-packages (from tensorboard<2.10,>=2.9->tensorflow->top2vec[sentence_encoders]) (0.4.6)\n",
      "Requirement already satisfied: tensorboard-data-server<0.7.0,>=0.6.0 in /opt/conda/lib/python3.7/site-packages (from tensorboard<2.10,>=2.9->tensorflow->top2vec[sentence_encoders]) (0.6.1)\n",
      "Requirement already satisfied: google-auth<3,>=1.6.3 in /opt/conda/lib/python3.7/site-packages (from tensorboard<2.10,>=2.9->tensorflow->top2vec[sentence_encoders]) (1.35.0)\n",
      "Requirement already satisfied: requests<3,>=2.21.0 in /opt/conda/lib/python3.7/site-packages (from tensorboard<2.10,>=2.9->tensorflow->top2vec[sentence_encoders]) (2.28.1)\n",
      "Requirement already satisfied: markdown>=2.6.8 in /opt/conda/lib/python3.7/site-packages (from tensorboard<2.10,>=2.9->tensorflow->top2vec[sentence_encoders]) (3.4.1)\n",
      "Requirement already satisfied: fonttools>=4.22.0 in /opt/conda/lib/python3.7/site-packages (from matplotlib->wordcloud->top2vec[sentence_encoders]) (4.37.1)\n",
      "Requirement already satisfied: kiwisolver>=1.0.1 in /opt/conda/lib/python3.7/site-packages (from matplotlib->wordcloud->top2vec[sentence_encoders]) (1.4.4)\n",
      "Requirement already satisfied: pyparsing>=2.2.1 in /opt/conda/lib/python3.7/site-packages (from matplotlib->wordcloud->top2vec[sentence_encoders]) (3.0.9)\n",
      "Requirement already satisfied: cycler>=0.10 in /opt/conda/lib/python3.7/site-packages (from matplotlib->wordcloud->top2vec[sentence_encoders]) (0.11.0)\n",
      "Requirement already satisfied: rsa<5,>=3.1.4 in /opt/conda/lib/python3.7/site-packages (from google-auth<3,>=1.6.3->tensorboard<2.10,>=2.9->tensorflow->top2vec[sentence_encoders]) (4.9)\n",
      "Requirement already satisfied: cachetools<5.0,>=2.0.0 in /opt/conda/lib/python3.7/site-packages (from google-auth<3,>=1.6.3->tensorboard<2.10,>=2.9->tensorflow->top2vec[sentence_encoders]) (4.2.4)\n",
      "Requirement already satisfied: pyasn1-modules>=0.2.1 in /opt/conda/lib/python3.7/site-packages (from google-auth<3,>=1.6.3->tensorboard<2.10,>=2.9->tensorflow->top2vec[sentence_encoders]) (0.2.7)\n",
      "Requirement already satisfied: requests-oauthlib>=0.7.0 in /opt/conda/lib/python3.7/site-packages (from google-auth-oauthlib<0.5,>=0.4.1->tensorboard<2.10,>=2.9->tensorflow->top2vec[sentence_encoders]) (1.3.1)\n",
      "Requirement already satisfied: zipp>=0.5 in /opt/conda/lib/python3.7/site-packages (from importlib-metadata>=4.8.1->pynndescent>=0.5->umap-learn>=0.5.1->top2vec[sentence_encoders]) (3.8.1)\n",
      "Requirement already satisfied: urllib3<1.27,>=1.21.1 in /opt/conda/lib/python3.7/site-packages (from requests<3,>=2.21.0->tensorboard<2.10,>=2.9->tensorflow->top2vec[sentence_encoders]) (1.26.11)\n",
      "Requirement already satisfied: certifi>=2017.4.17 in /opt/conda/lib/python3.7/site-packages (from requests<3,>=2.21.0->tensorboard<2.10,>=2.9->tensorflow->top2vec[sentence_encoders]) (2022.12.7)\n",
      "Requirement already satisfied: charset-normalizer<3,>=2 in /opt/conda/lib/python3.7/site-packages (from requests<3,>=2.21.0->tensorboard<2.10,>=2.9->tensorflow->top2vec[sentence_encoders]) (2.1.1)\n",
      "Requirement already satisfied: idna<4,>=2.5 in /opt/conda/lib/python3.7/site-packages (from requests<3,>=2.21.0->tensorboard<2.10,>=2.9->tensorflow->top2vec[sentence_encoders]) (3.3)\n",
      "Requirement already satisfied: MarkupSafe>=2.1.1 in /opt/conda/lib/python3.7/site-packages (from werkzeug>=1.0.1->tensorboard<2.10,>=2.9->tensorflow->top2vec[sentence_encoders]) (2.1.2)\n",
      "Requirement already satisfied: pyasn1<0.5.0,>=0.4.6 in /opt/conda/lib/python3.7/site-packages (from pyasn1-modules>=0.2.1->google-auth<3,>=1.6.3->tensorboard<2.10,>=2.9->tensorflow->top2vec[sentence_encoders]) (0.4.8)\n",
      "Requirement already satisfied: oauthlib>=3.0.0 in /opt/conda/lib/python3.7/site-packages (from requests-oauthlib>=0.7.0->google-auth-oauthlib<0.5,>=0.4.1->tensorboard<2.10,>=2.9->tensorflow->top2vec[sentence_encoders]) (3.2.1)\n",
      "Installing collected packages: protobuf\n",
      "  Attempting uninstall: protobuf\n",
      "    Found existing installation: protobuf 3.20.3\n",
      "    Uninstalling protobuf-3.20.3:\n",
      "      Successfully uninstalled protobuf-3.20.3\n",
      "\u001b[31mERROR: pip's dependency resolver does not currently take into account all the packages that are installed. This behaviour is the source of the following dependency conflicts.\n",
      "tfx-bsl 1.10.1 requires google-api-python-client<2,>=1.7.11, but you have google-api-python-client 2.61.0 which is incompatible.\n",
      "tfx-bsl 1.10.1 requires pyarrow<7,>=6, but you have pyarrow 9.0.0 which is incompatible.\n",
      "tensorflow-transform 1.10.1 requires pyarrow<7,>=6, but you have pyarrow 9.0.0 which is incompatible.\n",
      "tensorflow-serving-api 2.10.0 requires tensorflow<3,>=2.10.0, but you have tensorflow 2.9.2 which is incompatible.\n",
      "ortools 9.5.2237 requires protobuf>=4.21.5, but you have protobuf 3.19.6 which is incompatible.\n",
      "onnx 1.13.0 requires protobuf<4,>=3.20.2, but you have protobuf 3.19.6 which is incompatible.\n",
      "nnabla 1.34.0 requires protobuf<=3.19.4; platform_system != \"Windows\", but you have protobuf 3.19.6 which is incompatible.\n",
      "google-cloud-logging 3.2.2 requires google-cloud-core<3.0.0dev,>=2.0.0, but you have google-cloud-core 1.7.3 which is incompatible.\n",
      "google-api-core 1.33.0 requires protobuf<4.0.0dev,>=3.20.1, but you have protobuf 3.19.6 which is incompatible.\n",
      "gcsfs 2022.8.2 requires fsspec==2022.8.2, but you have fsspec 2023.1.0 which is incompatible.\n",
      "apache-beam 2.41.0 requires dill<0.3.2,>=0.3.1.1, but you have dill 0.3.6 which is incompatible.\n",
      "apache-beam 2.41.0 requires pyarrow<8.0.0,>=0.15.1, but you have pyarrow 9.0.0 which is incompatible.\u001b[0m\u001b[31m\n",
      "\u001b[0mSuccessfully installed protobuf-3.19.6\n",
      "\u001b[33mWARNING: Running pip as the 'root' user can result in broken permissions and conflicting behaviour with the system package manager. It is recommended to use a virtual environment instead: https://pip.pypa.io/warnings/venv\u001b[0m\u001b[33m\n",
      "\u001b[0m/bin/bash: /opt/conda/lib/libtinfo.so.6: no version information available (required by /bin/bash)\n",
      "Requirement already satisfied: top2vec[sentence_transformers] in /opt/conda/lib/python3.7/site-packages (1.0.27)\n",
      "Requirement already satisfied: numpy>=1.20.0 in /opt/conda/lib/python3.7/site-packages (from top2vec[sentence_transformers]) (1.21.6)\n",
      "Requirement already satisfied: gensim>=4.0.0 in /opt/conda/lib/python3.7/site-packages (from top2vec[sentence_transformers]) (4.0.1)\n",
      "Requirement already satisfied: wordcloud in /opt/conda/lib/python3.7/site-packages (from top2vec[sentence_transformers]) (1.8.2.2)\n",
      "Requirement already satisfied: pandas in /opt/conda/lib/python3.7/site-packages (from top2vec[sentence_transformers]) (1.3.5)\n",
      "Requirement already satisfied: umap-learn>=0.5.1 in /opt/conda/lib/python3.7/site-packages (from top2vec[sentence_transformers]) (0.5.3)\n",
      "Requirement already satisfied: hdbscan>=0.8.27 in /opt/conda/lib/python3.7/site-packages (from top2vec[sentence_transformers]) (0.8.29)\n",
      "Requirement already satisfied: torch in /opt/conda/lib/python3.7/site-packages (from top2vec[sentence_transformers]) (1.12.0)\n",
      "Collecting sentence-transformers\n",
      "  Downloading sentence-transformers-2.2.2.tar.gz (85 kB)\n",
      "\u001b[2K     \u001b[90m━━━━━━━━━━━━━━━━━━━━━━━━━━━━━━━━━━━━━━━━\u001b[0m \u001b[32m86.0/86.0 kB\u001b[0m \u001b[31m3.3 MB/s\u001b[0m eta \u001b[36m0:00:00\u001b[0m\n",
      "\u001b[?25h  Preparing metadata (setup.py) ... \u001b[?25ldone\n",
      "\u001b[?25hRequirement already satisfied: smart-open>=1.8.1 in /opt/conda/lib/python3.7/site-packages (from gensim>=4.0.0->top2vec[sentence_transformers]) (6.3.0)\n",
      "Requirement already satisfied: scipy>=0.18.1 in /opt/conda/lib/python3.7/site-packages (from gensim>=4.0.0->top2vec[sentence_transformers]) (1.7.3)\n",
      "Requirement already satisfied: joblib>=1.0 in /opt/conda/lib/python3.7/site-packages (from hdbscan>=0.8.27->top2vec[sentence_transformers]) (1.0.1)\n",
      "Requirement already satisfied: cython>=0.27 in /opt/conda/lib/python3.7/site-packages (from hdbscan>=0.8.27->top2vec[sentence_transformers]) (0.29.33)\n",
      "Requirement already satisfied: scikit-learn>=0.20 in /opt/conda/lib/python3.7/site-packages (from hdbscan>=0.8.27->top2vec[sentence_transformers]) (1.0.2)\n",
      "Requirement already satisfied: numba>=0.49 in /opt/conda/lib/python3.7/site-packages (from umap-learn>=0.5.1->top2vec[sentence_transformers]) (0.55.2)\n",
      "Requirement already satisfied: pynndescent>=0.5 in /opt/conda/lib/python3.7/site-packages (from umap-learn>=0.5.1->top2vec[sentence_transformers]) (0.5.8)\n",
      "Requirement already satisfied: tqdm in /opt/conda/lib/python3.7/site-packages (from umap-learn>=0.5.1->top2vec[sentence_transformers]) (4.64.1)\n",
      "Requirement already satisfied: python-dateutil>=2.7.3 in /opt/conda/lib/python3.7/site-packages (from pandas->top2vec[sentence_transformers]) (2.8.2)\n",
      "Requirement already satisfied: pytz>=2017.3 in /opt/conda/lib/python3.7/site-packages (from pandas->top2vec[sentence_transformers]) (2022.2.1)\n",
      "Requirement already satisfied: transformers<5.0.0,>=4.6.0 in /opt/conda/lib/python3.7/site-packages (from sentence-transformers->top2vec[sentence_transformers]) (4.20.1)\n",
      "Requirement already satisfied: torchvision in /opt/conda/lib/python3.7/site-packages (from sentence-transformers->top2vec[sentence_transformers]) (0.13.0)\n",
      "Requirement already satisfied: nltk in /opt/conda/lib/python3.7/site-packages (from sentence-transformers->top2vec[sentence_transformers]) (3.8.1)\n",
      "Requirement already satisfied: sentencepiece in /opt/conda/lib/python3.7/site-packages (from sentence-transformers->top2vec[sentence_transformers]) (0.1.97)\n",
      "Requirement already satisfied: huggingface-hub>=0.4.0 in /opt/conda/lib/python3.7/site-packages (from sentence-transformers->top2vec[sentence_transformers]) (0.10.1)\n",
      "Requirement already satisfied: typing-extensions in /opt/conda/lib/python3.7/site-packages (from torch->top2vec[sentence_transformers]) (4.1.1)\n",
      "Requirement already satisfied: pillow in /opt/conda/lib/python3.7/site-packages (from wordcloud->top2vec[sentence_transformers]) (9.2.0)\n",
      "Requirement already satisfied: matplotlib in /opt/conda/lib/python3.7/site-packages (from wordcloud->top2vec[sentence_transformers]) (3.5.3)\n",
      "Requirement already satisfied: pyyaml>=5.1 in /opt/conda/lib/python3.7/site-packages (from huggingface-hub>=0.4.0->sentence-transformers->top2vec[sentence_transformers]) (6.0)\n",
      "Requirement already satisfied: importlib-metadata in /opt/conda/lib/python3.7/site-packages (from huggingface-hub>=0.4.0->sentence-transformers->top2vec[sentence_transformers]) (6.0.0)\n",
      "Requirement already satisfied: packaging>=20.9 in /opt/conda/lib/python3.7/site-packages (from huggingface-hub>=0.4.0->sentence-transformers->top2vec[sentence_transformers]) (23.0)\n",
      "Requirement already satisfied: requests in /opt/conda/lib/python3.7/site-packages (from huggingface-hub>=0.4.0->sentence-transformers->top2vec[sentence_transformers]) (2.28.1)\n",
      "Requirement already satisfied: filelock in /opt/conda/lib/python3.7/site-packages (from huggingface-hub>=0.4.0->sentence-transformers->top2vec[sentence_transformers]) (3.7.1)\n",
      "Requirement already satisfied: llvmlite<0.39,>=0.38.0rc1 in /opt/conda/lib/python3.7/site-packages (from numba>=0.49->umap-learn>=0.5.1->top2vec[sentence_transformers]) (0.38.1)\n",
      "Requirement already satisfied: setuptools in /opt/conda/lib/python3.7/site-packages (from numba>=0.49->umap-learn>=0.5.1->top2vec[sentence_transformers]) (59.8.0)\n",
      "Requirement already satisfied: six>=1.5 in /opt/conda/lib/python3.7/site-packages (from python-dateutil>=2.7.3->pandas->top2vec[sentence_transformers]) (1.16.0)\n",
      "Requirement already satisfied: threadpoolctl>=2.0.0 in /opt/conda/lib/python3.7/site-packages (from scikit-learn>=0.20->hdbscan>=0.8.27->top2vec[sentence_transformers]) (3.1.0)\n",
      "Requirement already satisfied: tokenizers!=0.11.3,<0.13,>=0.11.1 in /opt/conda/lib/python3.7/site-packages (from transformers<5.0.0,>=4.6.0->sentence-transformers->top2vec[sentence_transformers]) (0.12.1)\n",
      "Requirement already satisfied: regex!=2019.12.17 in /opt/conda/lib/python3.7/site-packages (from transformers<5.0.0,>=4.6.0->sentence-transformers->top2vec[sentence_transformers]) (2021.11.10)\n",
      "Requirement already satisfied: pyparsing>=2.2.1 in /opt/conda/lib/python3.7/site-packages (from matplotlib->wordcloud->top2vec[sentence_transformers]) (3.0.9)\n",
      "Requirement already satisfied: kiwisolver>=1.0.1 in /opt/conda/lib/python3.7/site-packages (from matplotlib->wordcloud->top2vec[sentence_transformers]) (1.4.4)\n",
      "Requirement already satisfied: cycler>=0.10 in /opt/conda/lib/python3.7/site-packages (from matplotlib->wordcloud->top2vec[sentence_transformers]) (0.11.0)\n",
      "Requirement already satisfied: fonttools>=4.22.0 in /opt/conda/lib/python3.7/site-packages (from matplotlib->wordcloud->top2vec[sentence_transformers]) (4.37.1)\n",
      "Requirement already satisfied: click in /opt/conda/lib/python3.7/site-packages (from nltk->sentence-transformers->top2vec[sentence_transformers]) (8.1.3)\n",
      "Requirement already satisfied: zipp>=0.5 in /opt/conda/lib/python3.7/site-packages (from importlib-metadata->huggingface-hub>=0.4.0->sentence-transformers->top2vec[sentence_transformers]) (3.8.1)\n",
      "Requirement already satisfied: idna<4,>=2.5 in /opt/conda/lib/python3.7/site-packages (from requests->huggingface-hub>=0.4.0->sentence-transformers->top2vec[sentence_transformers]) (3.3)\n",
      "Requirement already satisfied: certifi>=2017.4.17 in /opt/conda/lib/python3.7/site-packages (from requests->huggingface-hub>=0.4.0->sentence-transformers->top2vec[sentence_transformers]) (2022.12.7)\n",
      "Requirement already satisfied: urllib3<1.27,>=1.21.1 in /opt/conda/lib/python3.7/site-packages (from requests->huggingface-hub>=0.4.0->sentence-transformers->top2vec[sentence_transformers]) (1.26.11)\n",
      "Requirement already satisfied: charset-normalizer<3,>=2 in /opt/conda/lib/python3.7/site-packages (from requests->huggingface-hub>=0.4.0->sentence-transformers->top2vec[sentence_transformers]) (2.1.1)\n",
      "Building wheels for collected packages: sentence-transformers\n",
      "  Building wheel for sentence-transformers (setup.py) ... \u001b[?25ldone\n",
      "\u001b[?25h  Created wheel for sentence-transformers: filename=sentence_transformers-2.2.2-py3-none-any.whl size=125938 sha256=e09121b6e4a011fb9135a0dcb7c883d122c2112de1ccdb8eba83734d50baf8a6\n",
      "  Stored in directory: /root/.cache/pip/wheels/bf/06/fb/d59c1e5bd1dac7f6cf61ec0036cc3a10ab8fecaa6b2c3d3ee9\n",
      "Successfully built sentence-transformers\n",
      "Installing collected packages: sentence-transformers\n",
      "Successfully installed sentence-transformers-2.2.2\n",
      "\u001b[33mWARNING: Running pip as the 'root' user can result in broken permissions and conflicting behaviour with the system package manager. It is recommended to use a virtual environment instead: https://pip.pypa.io/warnings/venv\u001b[0m\u001b[33m\n",
      "\u001b[0m/bin/bash: /opt/conda/lib/libtinfo.so.6: no version information available (required by /bin/bash)\n",
      "Requirement already satisfied: top2vec[indexing] in /opt/conda/lib/python3.7/site-packages (1.0.27)\n",
      "Requirement already satisfied: hdbscan>=0.8.27 in /opt/conda/lib/python3.7/site-packages (from top2vec[indexing]) (0.8.29)\n",
      "Requirement already satisfied: numpy>=1.20.0 in /opt/conda/lib/python3.7/site-packages (from top2vec[indexing]) (1.21.6)\n",
      "Requirement already satisfied: pandas in /opt/conda/lib/python3.7/site-packages (from top2vec[indexing]) (1.3.5)\n",
      "Requirement already satisfied: gensim>=4.0.0 in /opt/conda/lib/python3.7/site-packages (from top2vec[indexing]) (4.0.1)\n",
      "Requirement already satisfied: umap-learn>=0.5.1 in /opt/conda/lib/python3.7/site-packages (from top2vec[indexing]) (0.5.3)\n",
      "Requirement already satisfied: wordcloud in /opt/conda/lib/python3.7/site-packages (from top2vec[indexing]) (1.8.2.2)\n",
      "Collecting hnswlib\n",
      "  Downloading hnswlib-0.7.0.tar.gz (33 kB)\n",
      "  Installing build dependencies ... \u001b[?25ldone\n",
      "\u001b[?25h  Getting requirements to build wheel ... \u001b[?25ldone\n",
      "\u001b[?25h  Preparing metadata (pyproject.toml) ... \u001b[?25ldone\n",
      "\u001b[?25hRequirement already satisfied: smart-open>=1.8.1 in /opt/conda/lib/python3.7/site-packages (from gensim>=4.0.0->top2vec[indexing]) (6.3.0)\n",
      "Requirement already satisfied: scipy>=0.18.1 in /opt/conda/lib/python3.7/site-packages (from gensim>=4.0.0->top2vec[indexing]) (1.7.3)\n",
      "Requirement already satisfied: scikit-learn>=0.20 in /opt/conda/lib/python3.7/site-packages (from hdbscan>=0.8.27->top2vec[indexing]) (1.0.2)\n",
      "Requirement already satisfied: joblib>=1.0 in /opt/conda/lib/python3.7/site-packages (from hdbscan>=0.8.27->top2vec[indexing]) (1.0.1)\n",
      "Requirement already satisfied: cython>=0.27 in /opt/conda/lib/python3.7/site-packages (from hdbscan>=0.8.27->top2vec[indexing]) (0.29.33)\n",
      "Requirement already satisfied: pynndescent>=0.5 in /opt/conda/lib/python3.7/site-packages (from umap-learn>=0.5.1->top2vec[indexing]) (0.5.8)\n",
      "Requirement already satisfied: tqdm in /opt/conda/lib/python3.7/site-packages (from umap-learn>=0.5.1->top2vec[indexing]) (4.64.1)\n",
      "Requirement already satisfied: numba>=0.49 in /opt/conda/lib/python3.7/site-packages (from umap-learn>=0.5.1->top2vec[indexing]) (0.55.2)\n",
      "Requirement already satisfied: python-dateutil>=2.7.3 in /opt/conda/lib/python3.7/site-packages (from pandas->top2vec[indexing]) (2.8.2)\n",
      "Requirement already satisfied: pytz>=2017.3 in /opt/conda/lib/python3.7/site-packages (from pandas->top2vec[indexing]) (2022.2.1)\n",
      "Requirement already satisfied: matplotlib in /opt/conda/lib/python3.7/site-packages (from wordcloud->top2vec[indexing]) (3.5.3)\n",
      "Requirement already satisfied: pillow in /opt/conda/lib/python3.7/site-packages (from wordcloud->top2vec[indexing]) (9.2.0)\n",
      "Requirement already satisfied: setuptools in /opt/conda/lib/python3.7/site-packages (from numba>=0.49->umap-learn>=0.5.1->top2vec[indexing]) (59.8.0)\n",
      "Requirement already satisfied: llvmlite<0.39,>=0.38.0rc1 in /opt/conda/lib/python3.7/site-packages (from numba>=0.49->umap-learn>=0.5.1->top2vec[indexing]) (0.38.1)\n",
      "Requirement already satisfied: importlib-metadata>=4.8.1 in /opt/conda/lib/python3.7/site-packages (from pynndescent>=0.5->umap-learn>=0.5.1->top2vec[indexing]) (6.0.0)\n",
      "Requirement already satisfied: six>=1.5 in /opt/conda/lib/python3.7/site-packages (from python-dateutil>=2.7.3->pandas->top2vec[indexing]) (1.16.0)\n",
      "Requirement already satisfied: threadpoolctl>=2.0.0 in /opt/conda/lib/python3.7/site-packages (from scikit-learn>=0.20->hdbscan>=0.8.27->top2vec[indexing]) (3.1.0)\n",
      "Requirement already satisfied: kiwisolver>=1.0.1 in /opt/conda/lib/python3.7/site-packages (from matplotlib->wordcloud->top2vec[indexing]) (1.4.4)\n",
      "Requirement already satisfied: cycler>=0.10 in /opt/conda/lib/python3.7/site-packages (from matplotlib->wordcloud->top2vec[indexing]) (0.11.0)\n",
      "Requirement already satisfied: packaging>=20.0 in /opt/conda/lib/python3.7/site-packages (from matplotlib->wordcloud->top2vec[indexing]) (23.0)\n",
      "Requirement already satisfied: pyparsing>=2.2.1 in /opt/conda/lib/python3.7/site-packages (from matplotlib->wordcloud->top2vec[indexing]) (3.0.9)\n",
      "Requirement already satisfied: fonttools>=4.22.0 in /opt/conda/lib/python3.7/site-packages (from matplotlib->wordcloud->top2vec[indexing]) (4.37.1)\n",
      "Requirement already satisfied: zipp>=0.5 in /opt/conda/lib/python3.7/site-packages (from importlib-metadata>=4.8.1->pynndescent>=0.5->umap-learn>=0.5.1->top2vec[indexing]) (3.8.1)\n",
      "Requirement already satisfied: typing-extensions>=3.6.4 in /opt/conda/lib/python3.7/site-packages (from importlib-metadata>=4.8.1->pynndescent>=0.5->umap-learn>=0.5.1->top2vec[indexing]) (4.1.1)\n",
      "Building wheels for collected packages: hnswlib\n",
      "  Building wheel for hnswlib (pyproject.toml) ... \u001b[?25ldone\n",
      "\u001b[?25h  Created wheel for hnswlib: filename=hnswlib-0.7.0-cp37-cp37m-linux_x86_64.whl size=2247546 sha256=772fc544a2594c71fc0315ef1d4d3d5d0ef422e7f16814e24c33026eb328857d\n",
      "  Stored in directory: /root/.cache/pip/wheels/5f/65/1a/ab505c83cbf0b9c118702a70ec9490b249f6c33725f4c43d08\n",
      "Successfully built hnswlib\n",
      "Installing collected packages: hnswlib\n",
      "Successfully installed hnswlib-0.7.0\n",
      "\u001b[33mWARNING: Running pip as the 'root' user can result in broken permissions and conflicting behaviour with the system package manager. It is recommended to use a virtual environment instead: https://pip.pypa.io/warnings/venv\u001b[0m\u001b[33m\n",
      "\u001b[0m"
     ]
    }
   ],
   "source": [
    "!pip install top2vec\n",
    "!pip install top2vec[sentence_encoders]\n",
    "!pip install top2vec[sentence_transformers]\n",
    "!pip install top2vec[indexing]"
   ]
  },
  {
   "cell_type": "code",
   "execution_count": 2,
   "metadata": {
    "execution": {
     "iopub.execute_input": "2023-03-01T10:55:01.705809Z",
     "iopub.status.busy": "2023-03-01T10:55:01.705436Z",
     "iopub.status.idle": "2023-03-01T10:55:22.714300Z",
     "shell.execute_reply": "2023-03-01T10:55:22.713218Z",
     "shell.execute_reply.started": "2023-03-01T10:55:01.705775Z"
    }
   },
   "outputs": [],
   "source": [
    "import numpy as np\n",
    "import pandas as pd\n",
    "\n",
    "import os\n",
    "from tqdm import tqdm\n",
    "from top2vec import Top2Vec"
   ]
  },
  {
   "cell_type": "code",
   "execution_count": 3,
   "metadata": {
    "execution": {
     "iopub.execute_input": "2023-03-01T10:55:26.744841Z",
     "iopub.status.busy": "2023-03-01T10:55:26.743510Z",
     "iopub.status.idle": "2023-03-01T10:55:35.231670Z",
     "shell.execute_reply": "2023-03-01T10:55:35.230594Z",
     "shell.execute_reply.started": "2023-03-01T10:55:26.744795Z"
    }
   },
   "outputs": [
    {
     "data": {
      "text/html": [
       "<div>\n",
       "<style scoped>\n",
       "    .dataframe tbody tr th:only-of-type {\n",
       "        vertical-align: middle;\n",
       "    }\n",
       "\n",
       "    .dataframe tbody tr th {\n",
       "        vertical-align: top;\n",
       "    }\n",
       "\n",
       "    .dataframe thead th {\n",
       "        text-align: right;\n",
       "    }\n",
       "</style>\n",
       "<table border=\"1\" class=\"dataframe\">\n",
       "  <thead>\n",
       "    <tr style=\"text-align: right;\">\n",
       "      <th></th>\n",
       "      <th>report_num</th>\n",
       "      <th>page_num</th>\n",
       "      <th>text</th>\n",
       "    </tr>\n",
       "  </thead>\n",
       "  <tbody>\n",
       "    <tr>\n",
       "      <th>0</th>\n",
       "      <td>341</td>\n",
       "      <td>187</td>\n",
       "      <td>период летний обычный период существенный влия...</td>\n",
       "    </tr>\n",
       "    <tr>\n",
       "      <th>1</th>\n",
       "      <td>1173</td>\n",
       "      <td>9</td>\n",
       "      <td>основной направление природоохранный экология ...</td>\n",
       "    </tr>\n",
       "    <tr>\n",
       "      <th>2</th>\n",
       "      <td>49</td>\n",
       "      <td>75</td>\n",
       "      <td>мнение заинтересованный сторона внутренний вне...</td>\n",
       "    </tr>\n",
       "    <tr>\n",
       "      <th>3</th>\n",
       "      <td>1253</td>\n",
       "      <td>99</td>\n",
       "      <td>действие сфера культура спор тот г. средство в...</td>\n",
       "    </tr>\n",
       "    <tr>\n",
       "      <th>4</th>\n",
       "      <td>942</td>\n",
       "      <td>64</td>\n",
       "      <td>л</td>\n",
       "    </tr>\n",
       "  </tbody>\n",
       "</table>\n",
       "</div>"
      ],
      "text/plain": [
       "   report_num  page_num                                               text\n",
       "0         341       187  период летний обычный период существенный влия...\n",
       "1        1173         9  основной направление природоохранный экология ...\n",
       "2          49        75  мнение заинтересованный сторона внутренний вне...\n",
       "3        1253        99  действие сфера культура спор тот г. средство в...\n",
       "4         942        64                                                  л"
      ]
     },
     "execution_count": 3,
     "metadata": {},
     "output_type": "execute_result"
    }
   ],
   "source": [
    "report_pages_ds_filename = '/kaggle/input/rspp-reports-pages/report_pages_ds.csv'\n",
    "pages_df = pd.read_csv(report_pages_ds_filename, index_col=0)\n",
    "pages_df.head()"
   ]
  },
  {
   "cell_type": "code",
   "execution_count": 4,
   "metadata": {
    "execution": {
     "iopub.execute_input": "2023-03-01T10:55:43.684553Z",
     "iopub.status.busy": "2023-03-01T10:55:43.684181Z",
     "iopub.status.idle": "2023-03-01T10:55:43.691423Z",
     "shell.execute_reply": "2023-03-01T10:55:43.690295Z",
     "shell.execute_reply.started": "2023-03-01T10:55:43.684521Z"
    }
   },
   "outputs": [
    {
     "data": {
      "text/plain": [
       "118157"
      ]
     },
     "execution_count": 4,
     "metadata": {},
     "output_type": "execute_result"
    }
   ],
   "source": [
    "pages_df.shape[0]"
   ]
  },
  {
   "cell_type": "code",
   "execution_count": 5,
   "metadata": {
    "execution": {
     "iopub.execute_input": "2023-03-01T10:55:47.235813Z",
     "iopub.status.busy": "2023-03-01T10:55:47.235423Z",
     "iopub.status.idle": "2023-03-01T10:55:47.265024Z",
     "shell.execute_reply": "2023-03-01T10:55:47.263866Z",
     "shell.execute_reply.started": "2023-03-01T10:55:47.235781Z"
    }
   },
   "outputs": [],
   "source": [
    "report_pages = list(pages_df.text)"
   ]
  },
  {
   "cell_type": "code",
   "execution_count": 6,
   "metadata": {
    "execution": {
     "iopub.execute_input": "2023-03-01T10:56:13.635501Z",
     "iopub.status.busy": "2023-03-01T10:56:13.635123Z",
     "iopub.status.idle": "2023-03-01T11:04:32.431765Z",
     "shell.execute_reply": "2023-03-01T11:04:32.430465Z",
     "shell.execute_reply.started": "2023-03-01T10:56:13.635469Z"
    }
   },
   "outputs": [
    {
     "name": "stderr",
     "output_type": "stream",
     "text": [
      "2023-03-01 10:56:13,708 - top2vec - INFO - Pre-processing documents for training\n",
      "/opt/conda/lib/python3.7/site-packages/sklearn/utils/deprecation.py:87: FutureWarning: Function get_feature_names is deprecated; get_feature_names is deprecated in 1.0 and will be removed in 1.2. Please use get_feature_names_out instead.\n",
      "  warnings.warn(msg, category=FutureWarning)\n",
      "2023-03-01 10:58:04,870 - top2vec - INFO - Downloading universal-sentence-encoder-multilingual model\n",
      "2023-03-01 10:58:16,279 - top2vec - INFO - Creating joint document/word embedding\n",
      "2023-03-01 11:01:04,970 - top2vec - INFO - Creating lower dimension embedding of documents\n",
      "2023-03-01 11:04:23,005 - top2vec - INFO - Finding dense areas of documents\n",
      "2023-03-01 11:04:28,683 - top2vec - INFO - Finding topics\n"
     ]
    }
   ],
   "source": [
    "hdbscan_args = {'min_cluster_size': 30,\n",
    "                'min_samples': 15,\n",
    "                'metric': 'euclidean'}\n",
    "umap_args = {\"low_memory\": True,\n",
    "             \"random_state\": 42}\n",
    "model = Top2Vec(documents=report_pages, \n",
    "                speed='deep-learn', \n",
    "                workers=8, \n",
    "                min_count=0, \n",
    "                embedding_model='universal-sentence-encoder-multilingual',\n",
    "                hdbscan_args=hdbscan_args,\n",
    "                umap_args=umap_args)"
   ]
  },
  {
   "cell_type": "code",
   "execution_count": null,
   "metadata": {
    "execution": {
     "iopub.execute_input": "2023-02-20T19:40:42.722100Z",
     "iopub.status.busy": "2023-02-20T19:40:42.721710Z",
     "iopub.status.idle": "2023-02-20T19:41:33.782883Z",
     "shell.execute_reply": "2023-02-20T19:41:33.781863Z",
     "shell.execute_reply.started": "2023-02-20T19:40:42.722045Z"
    }
   },
   "outputs": [],
   "source": [
    "# model.add_documents(report_pages[20000:40000])\n",
    "# model.add_documents(report_pages[40000:60000])\n",
    "# model.add_documents(report_pages[60000:80000])\n",
    "# model.add_documents(report_pages[80000:100000])\n",
    "# model.add_documents(report_pages[100000:])"
   ]
  },
  {
   "cell_type": "code",
   "execution_count": 8,
   "metadata": {
    "execution": {
     "iopub.execute_input": "2023-03-01T11:05:56.461202Z",
     "iopub.status.busy": "2023-03-01T11:05:56.460828Z",
     "iopub.status.idle": "2023-03-01T11:05:56.468639Z",
     "shell.execute_reply": "2023-03-01T11:05:56.467529Z",
     "shell.execute_reply.started": "2023-03-01T11:05:56.461173Z"
    }
   },
   "outputs": [
    {
     "data": {
      "text/plain": [
       "325"
      ]
     },
     "execution_count": 8,
     "metadata": {},
     "output_type": "execute_result"
    }
   ],
   "source": [
    "num_of_topics = model.get_num_topics()\n",
    "num_of_topics"
   ]
  },
  {
   "cell_type": "code",
   "execution_count": 9,
   "metadata": {
    "execution": {
     "iopub.execute_input": "2023-03-01T11:06:13.008873Z",
     "iopub.status.busy": "2023-03-01T11:06:13.008154Z",
     "iopub.status.idle": "2023-03-01T11:06:13.021620Z",
     "shell.execute_reply": "2023-03-01T11:06:13.020301Z",
     "shell.execute_reply.started": "2023-03-01T11:06:13.008812Z"
    },
    "scrolled": true
   },
   "outputs": [
    {
     "data": {
      "text/plain": [
       "(array([  0,   1,   2,   3,   4,   5,   6,   7,   8,   9,  10,  11,  12,\n",
       "         13,  14,  15,  16,  17,  18,  19,  20,  21,  22,  23,  24,  25,\n",
       "         26,  27,  28,  29,  30,  31,  32,  33,  34,  35,  36,  37,  38,\n",
       "         39,  40,  41,  42,  43,  44,  45,  46,  47,  48,  49,  50,  51,\n",
       "         52,  53,  54,  55,  56,  57,  58,  59,  60,  61,  62,  63,  64,\n",
       "         65,  66,  67,  68,  69,  70,  71,  72,  73,  74,  75,  76,  77,\n",
       "         78,  79,  80,  81,  82,  83,  84,  85,  86,  87,  88,  89,  90,\n",
       "         91,  92,  93,  94,  95,  96,  97,  98,  99, 100, 101, 102, 103,\n",
       "        104, 105, 106, 107, 108, 109, 110, 111, 112, 113, 114, 115, 116,\n",
       "        117, 118, 119, 120, 121, 122, 123, 124, 125, 126, 127, 128, 129,\n",
       "        130, 131, 132, 133, 134, 135, 136, 137, 138, 139, 140, 141, 142,\n",
       "        143, 144, 145, 146, 147, 148, 149, 150, 151, 152, 153, 154, 155,\n",
       "        156, 157, 158, 159, 160, 161, 162, 163, 164, 165, 166, 167, 168,\n",
       "        169, 170, 171, 172, 173, 174, 175, 176, 177, 178, 179, 180, 181,\n",
       "        182, 183, 184, 185, 186, 187, 188, 189, 190, 191, 192, 193, 194,\n",
       "        195, 196, 197, 198, 199, 200, 201, 202, 203, 204, 205, 206, 207,\n",
       "        208, 209, 210, 211, 212, 213, 214, 215, 216, 217, 218, 219, 220,\n",
       "        221, 222, 223, 224, 225, 226, 227, 228, 229, 230, 231, 232, 233,\n",
       "        234, 235, 236, 237, 238, 239, 240, 241, 242, 243, 244, 245, 246,\n",
       "        247, 248, 249, 250, 251, 252, 253, 254, 255, 256, 257, 258, 259,\n",
       "        260, 261, 262, 263, 264, 265, 266, 267, 268, 269, 270, 271, 272,\n",
       "        273, 274, 275, 276, 277, 278, 279, 280, 281, 282, 283, 284, 285,\n",
       "        286, 287, 288, 289, 290, 291, 292, 293, 294, 295, 296, 297, 298,\n",
       "        299, 300, 301, 302, 303, 304, 305, 306, 307, 308, 309, 310, 311,\n",
       "        312, 313, 314, 315, 316, 317, 318, 319, 320, 321, 322, 323, 324]),\n",
       " array([4660, 4314, 3027, 2371, 2024, 1920, 1880, 1862, 1712, 1682, 1466,\n",
       "        1462, 1304, 1303, 1268, 1260, 1205, 1195, 1135, 1132, 1127, 1108,\n",
       "        1078, 1053,  984,  936,  916,  887,  887,  875,  822,  804,  794,\n",
       "         787,  761,  726,  707,  704,  702,  681,  673,  672,  655,  649,\n",
       "         601,  596,  593,  582,  579,  569,  558,  533,  521,  521,  516,\n",
       "         513,  503,  488,  481,  480,  476,  476,  466,  462,  456,  454,\n",
       "         450,  441,  438,  437,  437,  433,  427,  416,  413,  405,  397,\n",
       "         396,  385,  385,  381,  373,  371,  370,  366,  361,  354,  349,\n",
       "         347,  343,  342,  339,  336,  336,  335,  334,  334,  328,  326,\n",
       "         325,  325,  325,  320,  315,  313,  312,  311,  308,  307,  307,\n",
       "         303,  302,  298,  294,  292,  290,  286,  285,  285,  282,  278,\n",
       "         276,  276,  272,  271,  269,  269,  268,  258,  255,  255,  254,\n",
       "         251,  249,  249,  246,  246,  245,  244,  242,  242,  241,  238,\n",
       "         236,  236,  235,  234,  233,  231,  225,  224,  223,  219,  218,\n",
       "         218,  218,  218,  217,  215,  214,  214,  214,  213,  212,  212,\n",
       "         211,  209,  207,  204,  204,  200,  199,  197,  196,  194,  192,\n",
       "         190,  190,  189,  187,  186,  184,  184,  183,  182,  181,  179,\n",
       "         179,  178,  178,  178,  177,  175,  175,  174,  172,  172,  171,\n",
       "         171,  170,  170,  167,  165,  164,  164,  163,  161,  161,  160,\n",
       "         155,  153,  152,  152,  151,  151,  149,  146,  144,  142,  140,\n",
       "         138,  138,  137,  136,  132,  132,  130,  128,  127,  126,  124,\n",
       "         123,  120,  120,  119,  119,  119,  119,  119,  117,  117,  116,\n",
       "         116,  115,  113,  112,  109,  109,  108,  107,  106,  105,  104,\n",
       "         104,  103,  103,  103,  103,  103,  101,  100,  100,   99,   98,\n",
       "          98,   95,   94,   93,   93,   93,   93,   92,   91,   91,   91,\n",
       "          90,   90,   90,   85,   84,   84,   83,   83,   83,   83,   83,\n",
       "          82,   82,   79,   77,   76,   75,   75,   73,   72,   71,   70,\n",
       "          69,   69,   66,   65,   63,   62,   62,   61,   59,   57,   57,\n",
       "          55,   52,   52,   52,   50,   50,   49,   48,   47,   45,   45,\n",
       "          43,   40,   32,   28,   25,   18]))"
      ]
     },
     "execution_count": 9,
     "metadata": {},
     "output_type": "execute_result"
    }
   ],
   "source": [
    "topic_sizes, topic_nums = model.get_topic_sizes()\n",
    "topic_nums, topic_sizes"
   ]
  },
  {
   "cell_type": "code",
   "execution_count": 12,
   "metadata": {
    "execution": {
     "iopub.execute_input": "2023-03-01T11:07:21.097560Z",
     "iopub.status.busy": "2023-03-01T11:07:21.097159Z",
     "iopub.status.idle": "2023-03-01T11:07:25.922798Z",
     "shell.execute_reply": "2023-03-01T11:07:25.921462Z",
     "shell.execute_reply.started": "2023-03-01T11:07:21.097524Z"
    }
   },
   "outputs": [],
   "source": [
    "model.save('model_pages_2')"
   ]
  },
  {
   "cell_type": "code",
   "execution_count": 13,
   "metadata": {
    "execution": {
     "iopub.execute_input": "2023-03-01T11:07:30.146911Z",
     "iopub.status.busy": "2023-03-01T11:07:30.146230Z",
     "iopub.status.idle": "2023-03-01T11:07:30.151809Z",
     "shell.execute_reply": "2023-03-01T11:07:30.150660Z",
     "shell.execute_reply.started": "2023-03-01T11:07:30.146869Z"
    }
   },
   "outputs": [],
   "source": [
    "topic_words, word_scores, topic_nums = model.get_topics(num_of_topics)"
   ]
  },
  {
   "cell_type": "code",
   "execution_count": 14,
   "metadata": {
    "execution": {
     "iopub.execute_input": "2023-03-01T11:07:37.423029Z",
     "iopub.status.busy": "2023-03-01T11:07:37.422673Z",
     "iopub.status.idle": "2023-03-01T11:07:37.440944Z",
     "shell.execute_reply": "2023-03-01T11:07:37.439994Z",
     "shell.execute_reply.started": "2023-03-01T11:07:37.423000Z"
    }
   },
   "outputs": [
    {
     "name": "stderr",
     "output_type": "stream",
     "text": [
      "325it [00:00, 40231.05it/s]\n"
     ]
    }
   ],
   "source": [
    "pages_topics = {'topic_id': [],\n",
    "                'topic_words': []}\n",
    "for topic_id, topic_w in tqdm(zip(topic_nums, topic_words)):\n",
    "    pages_topics['topic_id'].append(topic_id)\n",
    "    pages_topics['topic_words'].append(', '.join(topic_w))"
   ]
  },
  {
   "cell_type": "code",
   "execution_count": 15,
   "metadata": {
    "execution": {
     "iopub.execute_input": "2023-03-01T11:07:41.419861Z",
     "iopub.status.busy": "2023-03-01T11:07:41.419477Z",
     "iopub.status.idle": "2023-03-01T11:07:41.434944Z",
     "shell.execute_reply": "2023-03-01T11:07:41.433904Z",
     "shell.execute_reply.started": "2023-03-01T11:07:41.419825Z"
    }
   },
   "outputs": [
    {
     "data": {
      "text/html": [
       "<div>\n",
       "<style scoped>\n",
       "    .dataframe tbody tr th:only-of-type {\n",
       "        vertical-align: middle;\n",
       "    }\n",
       "\n",
       "    .dataframe tbody tr th {\n",
       "        vertical-align: top;\n",
       "    }\n",
       "\n",
       "    .dataframe thead th {\n",
       "        text-align: right;\n",
       "    }\n",
       "</style>\n",
       "<table border=\"1\" class=\"dataframe\">\n",
       "  <thead>\n",
       "    <tr style=\"text-align: right;\">\n",
       "      <th></th>\n",
       "      <th>topic_id</th>\n",
       "      <th>topic_words</th>\n",
       "    </tr>\n",
       "  </thead>\n",
       "  <tbody>\n",
       "    <tr>\n",
       "      <th>0</th>\n",
       "      <td>0</td>\n",
       "      <td>работник, персонал, сотрудник, кадровыи, зарпл...</td>\n",
       "    </tr>\n",
       "    <tr>\n",
       "      <th>1</th>\n",
       "      <td>1</td>\n",
       "      <td>областнои, волонтерство, фонд, спонсорство, фо...</td>\n",
       "    </tr>\n",
       "    <tr>\n",
       "      <th>2</th>\n",
       "      <td>2</td>\n",
       "      <td>эколог, экологическии, экологичныи, экологичес...</td>\n",
       "    </tr>\n",
       "    <tr>\n",
       "      <th>3</th>\n",
       "      <td>3</td>\n",
       "      <td>ценность, рентабельность, объективность, преем...</td>\n",
       "    </tr>\n",
       "    <tr>\n",
       "      <th>4</th>\n",
       "      <td>4</td>\n",
       "      <td>инвестиция, атомпроект, инвестиционныи, атомэн...</td>\n",
       "    </tr>\n",
       "  </tbody>\n",
       "</table>\n",
       "</div>"
      ],
      "text/plain": [
       "   topic_id                                        topic_words\n",
       "0         0  работник, персонал, сотрудник, кадровыи, зарпл...\n",
       "1         1  областнои, волонтерство, фонд, спонсорство, фо...\n",
       "2         2  эколог, экологическии, экологичныи, экологичес...\n",
       "3         3  ценность, рентабельность, объективность, преем...\n",
       "4         4  инвестиция, атомпроект, инвестиционныи, атомэн..."
      ]
     },
     "execution_count": 15,
     "metadata": {},
     "output_type": "execute_result"
    }
   ],
   "source": [
    "pages_topics_df = pd.DataFrame.from_dict(pages_topics)\n",
    "pages_topics_df.head()"
   ]
  },
  {
   "cell_type": "code",
   "execution_count": 16,
   "metadata": {
    "execution": {
     "iopub.execute_input": "2023-03-01T11:07:55.127095Z",
     "iopub.status.busy": "2023-03-01T11:07:55.126731Z",
     "iopub.status.idle": "2023-03-01T11:07:55.493682Z",
     "shell.execute_reply": "2023-03-01T11:07:55.492693Z",
     "shell.execute_reply.started": "2023-03-01T11:07:55.127064Z"
    }
   },
   "outputs": [],
   "source": [
    "pages_topics_df.to_excel('pages_topics.xlsx', index=False)"
   ]
  },
  {
   "cell_type": "code",
   "execution_count": null,
   "metadata": {
    "execution": {
     "iopub.execute_input": "2023-02-20T21:40:21.857333Z",
     "iopub.status.busy": "2023-02-20T21:40:21.855963Z",
     "iopub.status.idle": "2023-02-20T21:42:04.811897Z",
     "shell.execute_reply": "2023-02-20T21:42:04.811007Z",
     "shell.execute_reply.started": "2023-02-20T21:40:21.857276Z"
    },
    "scrolled": true
   },
   "outputs": [],
   "source": [
    "for topic in topic_nums:\n",
    "    model.generate_topic_wordcloud(topic)"
   ]
  }
 ],
 "metadata": {
  "kernelspec": {
   "display_name": "Python 3 (ipykernel)",
   "language": "python",
   "name": "python3"
  },
  "language_info": {
   "codemirror_mode": {
    "name": "ipython",
    "version": 3
   },
   "file_extension": ".py",
   "mimetype": "text/x-python",
   "name": "python",
   "nbconvert_exporter": "python",
   "pygments_lexer": "ipython3",
   "version": "3.10.4"
  }
 },
 "nbformat": 4,
 "nbformat_minor": 4
}
