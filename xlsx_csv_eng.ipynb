{
 "cells": [
  {
   "cell_type": "markdown",
   "id": "a50edeef",
   "metadata": {},
   "source": [
    "# Parse"
   ]
  },
  {
   "cell_type": "markdown",
   "metadata": {},
   "source": [
    "- https://docs.google.com/spreadsheets/d/1XsEU61oSTsPvj_dfqg2_70h5hYBVkKfCxWZjfiV9CZk/edit\n",
    "- https://docs.google.com/spreadsheets/d/1AlYOSc6dBr5XWa6EAAyLTIN1UhFCI9RCntKJzy7S-js/edit\n",
    "- https://docs.google.com/spreadsheets/d/1QoNNw7JZGCbtL24pwDfBk57R1QIT1aoSU-kGjZM5ppk/edit"
   ]
  },
  {
   "cell_type": "code",
   "execution_count": 1,
   "id": "76a0607b-23bb-472e-be2b-2842dd58c769",
   "metadata": {},
   "outputs": [],
   "source": [
    "import pandas as pd\n",
    "from pymorphy2 import MorphAnalyzer\n",
    "\n",
    "morph = MorphAnalyzer()"
   ]
  },
  {
   "cell_type": "code",
   "execution_count": 2,
   "id": "6bc39d03-1f9a-4bfd-9b45-f8a6382f9aec",
   "metadata": {},
   "outputs": [],
   "source": [
    "def process_xlsx(path: str, meta: str):\n",
    "    excel = pd.ExcelFile(path)\n",
    "    words = []\n",
    "    for sheet_name in excel.sheet_names:\n",
    "        sheet_df = pd.read_excel(excel, sheet_name=sheet_name)\n",
    "        # print(sheet_name, sheet_df.shape)\n",
    "        try:\n",
    "            for col in [\"Base level\", \"Advanced level\"]:  # sometimes experts can put number in random column\n",
    "                # 0 - base, 1 - advanced\n",
    "                for word in sheet_df.loc[sheet_df[col].notna(), col]:\n",
    "                    weight = 1\n",
    "                    try:\n",
    "                        if word[0] == \"!\":\n",
    "                            weight = 5\n",
    "                            word = word[1:]\n",
    "                    except Exception as e:\n",
    "                        print(sheet_name, word, e)\n",
    "                    words.append(\n",
    "                        {\n",
    "                            \"meta\": meta,\n",
    "                            \"topic\": sheet_name,\n",
    "                            \"weight\": weight,\n",
    "                            \"type\": col,\n",
    "                            \"word\": morph.normal_forms(word)[0],\n",
    "                        }\n",
    "                    )\n",
    "        except Exception as e:\n",
    "            print(sheet_name, e)\n",
    "    return words"
   ]
  },
  {
   "cell_type": "code",
   "execution_count": 3,
   "id": "c4caabc0-375f-44f9-b2ba-cc8b53a5662c",
   "metadata": {},
   "outputs": [
    {
     "name": "stdout",
     "output_type": "stream",
     "text": [
      "E\n",
      "S\n",
      "G\n"
     ]
    },
    {
     "data": {
      "text/html": [
       "<div>\n",
       "<style scoped>\n",
       "    .dataframe tbody tr th:only-of-type {\n",
       "        vertical-align: middle;\n",
       "    }\n",
       "\n",
       "    .dataframe tbody tr th {\n",
       "        vertical-align: top;\n",
       "    }\n",
       "\n",
       "    .dataframe thead th {\n",
       "        text-align: right;\n",
       "    }\n",
       "</style>\n",
       "<table border=\"1\" class=\"dataframe\">\n",
       "  <thead>\n",
       "    <tr style=\"text-align: right;\">\n",
       "      <th></th>\n",
       "      <th>meta</th>\n",
       "      <th>topic</th>\n",
       "      <th>weight</th>\n",
       "      <th>type</th>\n",
       "      <th>word</th>\n",
       "    </tr>\n",
       "  </thead>\n",
       "  <tbody>\n",
       "    <tr>\n",
       "      <th>0</th>\n",
       "      <td>env</td>\n",
       "      <td>Environmental topic in general</td>\n",
       "      <td>5</td>\n",
       "      <td>Base level</td>\n",
       "      <td>eco-friendly</td>\n",
       "    </tr>\n",
       "    <tr>\n",
       "      <th>1</th>\n",
       "      <td>env</td>\n",
       "      <td>Environmental topic in general</td>\n",
       "      <td>5</td>\n",
       "      <td>Base level</td>\n",
       "      <td>environment</td>\n",
       "    </tr>\n",
       "    <tr>\n",
       "      <th>2</th>\n",
       "      <td>env</td>\n",
       "      <td>Environmental topic in general</td>\n",
       "      <td>5</td>\n",
       "      <td>Base level</td>\n",
       "      <td>impact</td>\n",
       "    </tr>\n",
       "    <tr>\n",
       "      <th>3</th>\n",
       "      <td>env</td>\n",
       "      <td>Environmental topic in general</td>\n",
       "      <td>5</td>\n",
       "      <td>Base level</td>\n",
       "      <td>nature</td>\n",
       "    </tr>\n",
       "    <tr>\n",
       "      <th>4</th>\n",
       "      <td>env</td>\n",
       "      <td>Environmental topic in general</td>\n",
       "      <td>5</td>\n",
       "      <td>Base level</td>\n",
       "      <td>nature protection</td>\n",
       "    </tr>\n",
       "  </tbody>\n",
       "</table>\n",
       "</div>"
      ],
      "text/plain": [
       "  meta                           topic  weight        type               word\n",
       "0  env  Environmental topic in general       5  Base level       eco-friendly\n",
       "1  env  Environmental topic in general       5  Base level        environment\n",
       "2  env  Environmental topic in general       5  Base level             impact\n",
       "3  env  Environmental topic in general       5  Base level             nature\n",
       "4  env  Environmental topic in general       5  Base level  nature protection"
      ]
     },
     "execution_count": 3,
     "metadata": {},
     "output_type": "execute_result"
    }
   ],
   "source": [
    "df = []\n",
    "print(\"E\")\n",
    "df.extend(process_xlsx(\"data/topics/Environmental_en.xlsx\", \"env\"))\n",
    "print(\"S\")\n",
    "df.extend(process_xlsx(\"data/topics/Social_en.xlsx\", \"social\"))\n",
    "print(\"G\")\n",
    "df.extend(process_xlsx(\"data/topics/Governance_en.xlsx\", \"gov\"))\n",
    "df = pd.DataFrame(df)\n",
    "df.head()"
   ]
  },
  {
   "cell_type": "code",
   "execution_count": 4,
   "id": "915ab787",
   "metadata": {},
   "outputs": [],
   "source": [
    "df = df[~df[\"word\"].str.strip().eq(\"\")]"
   ]
  },
  {
   "cell_type": "code",
   "execution_count": 5,
   "metadata": {},
   "outputs": [],
   "source": [
    "df.loc[df[\"word\"].str.contains(\"24.7\"), \"word\"] = \"24/7\""
   ]
  },
  {
   "cell_type": "code",
   "execution_count": 6,
   "id": "5bff870f-632c-4d8a-affa-c5a2055f6f51",
   "metadata": {},
   "outputs": [],
   "source": [
    "df.to_csv(\"topic_words_eng.csv.zip\", index=False)\n",
    "df.to_csv(\"topic_words_eng.csv\", index=False)"
   ]
  },
  {
   "cell_type": "code",
   "execution_count": null,
   "id": "5e2fd463",
   "metadata": {},
   "outputs": [],
   "source": []
  }
 ],
 "metadata": {
  "kernelspec": {
   "display_name": "Python 3 (ipykernel)",
   "language": "python",
   "name": "python3"
  },
  "language_info": {
   "codemirror_mode": {
    "name": "ipython",
    "version": 3
   },
   "file_extension": ".py",
   "mimetype": "text/x-python",
   "name": "python",
   "nbconvert_exporter": "python",
   "pygments_lexer": "ipython3",
   "version": "3.10.4"
  }
 },
 "nbformat": 4,
 "nbformat_minor": 5
}
