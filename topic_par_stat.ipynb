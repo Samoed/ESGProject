{
 "cells": [
  {
   "cell_type": "code",
   "execution_count": 1,
   "metadata": {},
   "outputs": [
    {
     "name": "stderr",
     "output_type": "stream",
     "text": [
      "/home/samoed/.pyenv/versions/3.10.4/lib/python3.10/site-packages/scipy/__init__.py:155: UserWarning: A NumPy version >=1.18.5 and <1.26.0 is required for this version of SciPy (detected version 1.26.1\n",
      "  warnings.warn(f\"A NumPy version >={np_minversion} and <{np_maxversion}\"\n"
     ]
    }
   ],
   "source": [
    "import pandas as pd\n",
    "import matplotlib.pyplot as plt\n",
    "import re\n",
    "from collections import defaultdict\n",
    "from tqdm import tqdm\n",
    "import numpy as np\n",
    "import copy\n",
    "\n",
    "from sklearn.metrics.pairwise import cosine_similarity\n",
    "from sklearn.metrics import accuracy_score"
   ]
  },
  {
   "cell_type": "code",
   "execution_count": 2,
   "metadata": {},
   "outputs": [
    {
     "data": {
      "text/html": [
       "<div>\n",
       "<style scoped>\n",
       "    .dataframe tbody tr th:only-of-type {\n",
       "        vertical-align: middle;\n",
       "    }\n",
       "\n",
       "    .dataframe tbody tr th {\n",
       "        vertical-align: top;\n",
       "    }\n",
       "\n",
       "    .dataframe thead th {\n",
       "        text-align: right;\n",
       "    }\n",
       "</style>\n",
       "<table border=\"1\" class=\"dataframe\">\n",
       "  <thead>\n",
       "    <tr style=\"text-align: right;\">\n",
       "      <th></th>\n",
       "      <th>meta</th>\n",
       "      <th>topic</th>\n",
       "      <th>weight</th>\n",
       "      <th>type</th>\n",
       "      <th>word</th>\n",
       "    </tr>\n",
       "  </thead>\n",
       "  <tbody>\n",
       "    <tr>\n",
       "      <th>0</th>\n",
       "      <td>env</td>\n",
       "      <td>Экология в целом</td>\n",
       "      <td>5</td>\n",
       "      <td>0</td>\n",
       "      <td>экологичный</td>\n",
       "    </tr>\n",
       "    <tr>\n",
       "      <th>1</th>\n",
       "      <td>env</td>\n",
       "      <td>Экология в целом</td>\n",
       "      <td>5</td>\n",
       "      <td>0</td>\n",
       "      <td>природоохранный</td>\n",
       "    </tr>\n",
       "    <tr>\n",
       "      <th>2</th>\n",
       "      <td>env</td>\n",
       "      <td>Экология в целом</td>\n",
       "      <td>1</td>\n",
       "      <td>0</td>\n",
       "      <td>экология</td>\n",
       "    </tr>\n",
       "    <tr>\n",
       "      <th>3</th>\n",
       "      <td>env</td>\n",
       "      <td>Экология в целом</td>\n",
       "      <td>5</td>\n",
       "      <td>0</td>\n",
       "      <td>воздействие</td>\n",
       "    </tr>\n",
       "    <tr>\n",
       "      <th>4</th>\n",
       "      <td>env</td>\n",
       "      <td>Экология в целом</td>\n",
       "      <td>5</td>\n",
       "      <td>0</td>\n",
       "      <td>окружающая среда</td>\n",
       "    </tr>\n",
       "  </tbody>\n",
       "</table>\n",
       "</div>"
      ],
      "text/plain": [
       "  meta             topic  weight  type              word\n",
       "0  env  Экология в целом       5     0       экологичный\n",
       "1  env  Экология в целом       5     0   природоохранный\n",
       "2  env  Экология в целом       1     0          экология\n",
       "3  env  Экология в целом       5     0       воздействие\n",
       "4  env  Экология в целом       5     0  окружающая среда"
      ]
     },
     "execution_count": 2,
     "metadata": {},
     "output_type": "execute_result"
    }
   ],
   "source": [
    "topics = pd.read_csv(\"topic_words.csv.zip\")\n",
    "topics.head()"
   ]
  },
  {
   "cell_type": "code",
   "execution_count": 3,
   "metadata": {},
   "outputs": [],
   "source": [
    "re_dict = {}\n",
    "re_advanced_dict = {}\n",
    "sheets_dict = {}\n",
    "sheets_advanced_dict = {}\n",
    "base_dict = {}\n",
    "advanced_dict = {}\n",
    "importance_dict = {}\n",
    "\n",
    "for idx, row in topics.iterrows():\n",
    "    if not sheets_dict.get(row[\"topic\"], False):\n",
    "        sheets_dict[row[\"topic\"]] = {}\n",
    "        sheets_advanced_dict[row[\"topic\"]] = {}\n",
    "        base_dict[row[\"topic\"]] = {}\n",
    "        advanced_dict[row[\"topic\"]] = {}\n",
    "    if row[\"word\"].find(\",\") != -1:\n",
    "        continue\n",
    "    sheets_dict[row[\"topic\"]][row[\"word\"]] = row[\"weight\"]  # row[\"type\"]\n",
    "    if row[\"type\"] == 1:\n",
    "        sheets_advanced_dict[row[\"topic\"]][row[\"word\"]] = row[\"weight\"]\n",
    "        advanced_dict[row[\"topic\"]][row[\"word\"]] = 0\n",
    "    base_dict[row[\"topic\"]][row[\"word\"]] = 0\n",
    "    importance_dict[row[\"topic\"]] = 0"
   ]
  },
  {
   "cell_type": "code",
   "execution_count": 4,
   "metadata": {},
   "outputs": [],
   "source": [
    "for key, val in sheets_dict.items():\n",
    "    re_dict[key] = re.compile(\"((?<!\\w)\" + \"(?!\\w)|(?<!\\w)\".join(val.keys()) + \"(?!\\w))\")"
   ]
  },
  {
   "cell_type": "code",
   "execution_count": 5,
   "metadata": {},
   "outputs": [],
   "source": [
    "for key, val in sheets_advanced_dict.items():\n",
    "    re_advanced_dict[key] = re.compile(\"((?<!\\w)\" + \"(?!\\w)|(?<!\\w)\".join(val.keys()) + \"(?!\\w))\")"
   ]
  },
  {
   "cell_type": "code",
   "execution_count": 6,
   "metadata": {},
   "outputs": [
    {
     "data": {
      "text/html": [
       "<div>\n",
       "<style scoped>\n",
       "    .dataframe tbody tr th:only-of-type {\n",
       "        vertical-align: middle;\n",
       "    }\n",
       "\n",
       "    .dataframe tbody tr th {\n",
       "        vertical-align: top;\n",
       "    }\n",
       "\n",
       "    .dataframe thead th {\n",
       "        text-align: right;\n",
       "    }\n",
       "</style>\n",
       "<table border=\"1\" class=\"dataframe\">\n",
       "  <thead>\n",
       "    <tr style=\"text-align: right;\">\n",
       "      <th></th>\n",
       "      <th>company</th>\n",
       "      <th>year</th>\n",
       "      <th>sector</th>\n",
       "      <th>report_type</th>\n",
       "      <th>paragraph</th>\n",
       "      <th>original_text</th>\n",
       "      <th>cleaned_text</th>\n",
       "      <th>max_topic_cos</th>\n",
       "      <th>max_score_cos</th>\n",
       "      <th>second_max_topic_cos</th>\n",
       "      <th>second_max_score_cos</th>\n",
       "      <th>true_expert</th>\n",
       "      <th>Экспертный топик МА</th>\n",
       "      <th>Комментарий</th>\n",
       "    </tr>\n",
       "  </thead>\n",
       "  <tbody>\n",
       "    <tr>\n",
       "      <th>2023915.0</th>\n",
       "      <td>ПАО «Газпром»</td>\n",
       "      <td>2015, 2014</td>\n",
       "      <td>Энергетика</td>\n",
       "      <td>ОУР</td>\n",
       "      <td>1942.0</td>\n",
       "      <td>Компании Группы Газпром вносят свой вклад в ре...</td>\n",
       "      <td>компания группа газпром вносить свой вклад реа...</td>\n",
       "      <td>Биоразнообразие</td>\n",
       "      <td>0.678372</td>\n",
       "      <td>NaN</td>\n",
       "      <td>NaN</td>\n",
       "      <td>Биоразнообразие</td>\n",
       "      <td>NaN</td>\n",
       "      <td>NaN</td>\n",
       "    </tr>\n",
       "    <tr>\n",
       "      <th>1515679.0</th>\n",
       "      <td>ПАО «Газпром»</td>\n",
       "      <td>2011</td>\n",
       "      <td>Энергетика</td>\n",
       "      <td>ЭО</td>\n",
       "      <td>761.0</td>\n",
       "      <td>пересажено более 3 000 редких растений, в том ...</td>\n",
       "      <td>пересадить редкий растение число реликтовый ви...</td>\n",
       "      <td>Биоразнообразие</td>\n",
       "      <td>0.657152</td>\n",
       "      <td>NaN</td>\n",
       "      <td>NaN</td>\n",
       "      <td>Биоразнообразие</td>\n",
       "      <td>NaN</td>\n",
       "      <td>NaN</td>\n",
       "    </tr>\n",
       "    <tr>\n",
       "      <th>699878.0</th>\n",
       "      <td>Госкорпорация «Росатом»</td>\n",
       "      <td>2018</td>\n",
       "      <td>Энергетика</td>\n",
       "      <td>ИО</td>\n",
       "      <td>1288.0</td>\n",
       "      <td>Вклад в сохранение биоразнообразия мощности до...</td>\n",
       "      <td>активность радионуклид поступить сточный вода ...</td>\n",
       "      <td>Биоразнообразие</td>\n",
       "      <td>0.647845</td>\n",
       "      <td>NaN</td>\n",
       "      <td>NaN</td>\n",
       "      <td>Биоразнообразие</td>\n",
       "      <td>NaN</td>\n",
       "      <td>NaN</td>\n",
       "    </tr>\n",
       "    <tr>\n",
       "      <th>699878.0</th>\n",
       "      <td>Госкорпорация «Росатом»</td>\n",
       "      <td>2018</td>\n",
       "      <td>Энергетика</td>\n",
       "      <td>ИО</td>\n",
       "      <td>1288.0</td>\n",
       "      <td>_x000c_Активность бета-активных радионуклидов,...</td>\n",
       "      <td>активность радионуклид поступить сточный вода ...</td>\n",
       "      <td>Биоразнообразие</td>\n",
       "      <td>0.647845</td>\n",
       "      <td>NaN</td>\n",
       "      <td>NaN</td>\n",
       "      <td>NaN</td>\n",
       "      <td>NaN</td>\n",
       "      <td>сложный кейс, безопасность населения</td>\n",
       "    </tr>\n",
       "    <tr>\n",
       "      <th>1383089.0</th>\n",
       "      <td>ПАО «Газпром»</td>\n",
       "      <td>2014</td>\n",
       "      <td>Энергетика</td>\n",
       "      <td>ЭО</td>\n",
       "      <td>1165.0</td>\n",
       "      <td>«Белоплечий орлан», «Птицы Сахалина», «Реки Са...</td>\n",
       "      <td>белоплечий орлан птица сахалин река сахалин ки...</td>\n",
       "      <td>Биоразнообразие</td>\n",
       "      <td>0.647845</td>\n",
       "      <td>NaN</td>\n",
       "      <td>NaN</td>\n",
       "      <td>Биоразнообразие</td>\n",
       "      <td>NaN</td>\n",
       "      <td>NaN</td>\n",
       "    </tr>\n",
       "  </tbody>\n",
       "</table>\n",
       "</div>"
      ],
      "text/plain": [
       "                           company        year      sector report_type  \\\n",
       "2023915.0            ПАО «Газпром»  2015, 2014  Энергетика         ОУР   \n",
       "1515679.0            ПАО «Газпром»        2011  Энергетика          ЭО   \n",
       "699878.0   Госкорпорация «Росатом»        2018  Энергетика          ИО   \n",
       "699878.0   Госкорпорация «Росатом»        2018  Энергетика          ИО   \n",
       "1383089.0            ПАО «Газпром»        2014  Энергетика          ЭО   \n",
       "\n",
       "           paragraph                                      original_text  \\\n",
       "2023915.0     1942.0  Компании Группы Газпром вносят свой вклад в ре...   \n",
       "1515679.0      761.0  пересажено более 3 000 редких растений, в том ...   \n",
       "699878.0      1288.0  Вклад в сохранение биоразнообразия мощности до...   \n",
       "699878.0      1288.0  _x000c_Активность бета-активных радионуклидов,...   \n",
       "1383089.0     1165.0  «Белоплечий орлан», «Птицы Сахалина», «Реки Са...   \n",
       "\n",
       "                                                cleaned_text    max_topic_cos  \\\n",
       "2023915.0  компания группа газпром вносить свой вклад реа...  Биоразнообразие   \n",
       "1515679.0  пересадить редкий растение число реликтовый ви...  Биоразнообразие   \n",
       "699878.0   активность радионуклид поступить сточный вода ...  Биоразнообразие   \n",
       "699878.0   активность радионуклид поступить сточный вода ...  Биоразнообразие   \n",
       "1383089.0  белоплечий орлан птица сахалин река сахалин ки...  Биоразнообразие   \n",
       "\n",
       "           max_score_cos second_max_topic_cos  second_max_score_cos  \\\n",
       "2023915.0       0.678372                  NaN                   NaN   \n",
       "1515679.0       0.657152                  NaN                   NaN   \n",
       "699878.0        0.647845                  NaN                   NaN   \n",
       "699878.0        0.647845                  NaN                   NaN   \n",
       "1383089.0       0.647845                  NaN                   NaN   \n",
       "\n",
       "               true_expert Экспертный топик МА  \\\n",
       "2023915.0  Биоразнообразие                 NaN   \n",
       "1515679.0  Биоразнообразие                 NaN   \n",
       "699878.0   Биоразнообразие                 NaN   \n",
       "699878.0               NaN                 NaN   \n",
       "1383089.0  Биоразнообразие                 NaN   \n",
       "\n",
       "                                    Комментарий  \n",
       "2023915.0                                   NaN  \n",
       "1515679.0                                   NaN  \n",
       "699878.0                                    NaN  \n",
       "699878.0   сложный кейс, безопасность населения  \n",
       "1383089.0                                   NaN  "
      ]
     },
     "execution_count": 6,
     "metadata": {},
     "output_type": "execute_result"
    }
   ],
   "source": [
    "df = pd.read_excel(\"topics/paragraph_max_values_50.xlsx\", sheet_name=\"paragraph_max_values_50\", index_col=0).rename(\n",
    "    columns={\"Экспертный топик Вера\": \"true_expert\"}\n",
    ")\n",
    "df.head()"
   ]
  },
  {
   "cell_type": "code",
   "execution_count": 7,
   "metadata": {},
   "outputs": [],
   "source": [
    "df = df[df[\"true_expert\"].notna()]"
   ]
  },
  {
   "cell_type": "code",
   "execution_count": 8,
   "metadata": {},
   "outputs": [],
   "source": [
    "def get_scores(text: str, label: str, imp: int = 0) -> dict[str, float | None]:\n",
    "    paragraph_dict = copy.deepcopy(base_dict)\n",
    "    paragraph_importance = copy.deepcopy(importance_dict)\n",
    "    found_words = False\n",
    "    base_words = {}\n",
    "    advanced_words = {}\n",
    "    paragraph_len = len(text.split())\n",
    "    adv_vocab = {}\n",
    "    for key, regex in re_dict.items():\n",
    "        words = regex.findall(text)\n",
    "        # advanced_words_found = re_advanced_dict[key].findall(text)\n",
    "        for word in words:\n",
    "            found_words = True\n",
    "            weight = sheets_dict[key][word]\n",
    "            paragraph_dict[key][word] = weight\n",
    "            paragraph_importance[key] += weight > 1\n",
    "        base_words[key] = len(words)\n",
    "        # advanced_words[key] = len(advanced_words_found)\n",
    "\n",
    "    if not found_words:\n",
    "        res = {key: 0 for key in sheets_dict}\n",
    "        return {**res, **{\"max_score_cos\": None, \"max_topic_cos\": None, \"count_words\": None}}\n",
    "\n",
    "    result_topic = []\n",
    "    results = []\n",
    "    for percent in np.arange(0, 1, 0.01):\n",
    "        res = {}\n",
    "        count_dict = {}\n",
    "        for key, vector in sheets_dict.items():\n",
    "            count_dict[f\"{key}_words_percent\"] = base_words[key] / paragraph_len\n",
    "            if base_words[key] / paragraph_len < percent or paragraph_importance[key] < imp:\n",
    "                res[key] = 0\n",
    "                continue\n",
    "            sim = cosine_similarity(X=[list(vector.values())], Y=[list(paragraph_dict[key].values())])[0][0]\n",
    "            res[key] = sim\n",
    "\n",
    "        res_sorted = sorted(res.items(), key=lambda x: x[1], reverse=True)\n",
    "        max_value = res_sorted[0]\n",
    "        result_topic.append(max_value[0] == label)\n",
    "        max_value = list(max_value)\n",
    "        if max_value[1] == 0:\n",
    "            max_value[0] = \"безтопика\"\n",
    "        results.append(res | count_dict | {\"topic\": max_value[0], \"topic_score\": max_value[1]})\n",
    "\n",
    "    return result_topic, results"
   ]
  },
  {
   "cell_type": "code",
   "execution_count": 10,
   "metadata": {},
   "outputs": [
    {
     "name": "stderr",
     "output_type": "stream",
     "text": [
      "100%|██████████| 1610/1610 [07:07<00:00,  3.77it/s]\n"
     ]
    }
   ],
   "source": [
    "pred_labels = []\n",
    "acc = 0\n",
    "results = []\n",
    "percentile = 10\n",
    "for idx, row in tqdm(df.iterrows(), total=df.shape[0]):\n",
    "    text = row[\"cleaned_text\"]\n",
    "    label = row[\"true_expert\"]\n",
    "    pred, res = get_scores(text, label, 1)\n",
    "    pred_labels.append(pred)\n",
    "    # if res[percentile][\"topic\"] == \"безтопика\": # for 15\n",
    "    if pred[percentile] is False: # for 10\n",
    "        results.append(\n",
    "            {\n",
    "                \"company\": row[\"company\"],\n",
    "                \"year\": row[\"year\"],\n",
    "                \"text\": row[\"original_text\"],\n",
    "                \"cleaned_text\": text,\n",
    "                \"expert_topic\": label,\n",
    "            }\n",
    "            | res[percentile]\n",
    "        )"
   ]
  },
  {
   "cell_type": "code",
   "execution_count": 11,
   "metadata": {},
   "outputs": [
    {
     "data": {
      "text/plain": [
       "0"
      ]
     },
     "execution_count": 11,
     "metadata": {},
     "output_type": "execute_result"
    }
   ],
   "source": [
    "len(results)"
   ]
  },
  {
   "cell_type": "code",
   "execution_count": 12,
   "metadata": {},
   "outputs": [
    {
     "data": {
      "text/html": [
       "<div>\n",
       "<style scoped>\n",
       "    .dataframe tbody tr th:only-of-type {\n",
       "        vertical-align: middle;\n",
       "    }\n",
       "\n",
       "    .dataframe tbody tr th {\n",
       "        vertical-align: top;\n",
       "    }\n",
       "\n",
       "    .dataframe thead th {\n",
       "        text-align: right;\n",
       "    }\n",
       "</style>\n",
       "<table border=\"1\" class=\"dataframe\">\n",
       "  <thead>\n",
       "    <tr style=\"text-align: right;\">\n",
       "      <th></th>\n",
       "    </tr>\n",
       "  </thead>\n",
       "  <tbody>\n",
       "  </tbody>\n",
       "</table>\n",
       "</div>"
      ],
      "text/plain": [
       "Empty DataFrame\n",
       "Columns: []\n",
       "Index: []"
      ]
     },
     "execution_count": 12,
     "metadata": {},
     "output_type": "execute_result"
    }
   ],
   "source": [
    "par = pd.DataFrame(results)\n",
    "par.head()"
   ]
  },
  {
   "cell_type": "code",
   "execution_count": 13,
   "metadata": {},
   "outputs": [],
   "source": [
    "# par.to_csv(\"without_topic_0,15.csv\")\n",
    "par.to_csv(\"not_recognized_0,8.csv\")"
   ]
  },
  {
   "cell_type": "code",
   "execution_count": 14,
   "metadata": {},
   "outputs": [],
   "source": [
    "df = pd.DataFrame(pred_labels)"
   ]
  },
  {
   "cell_type": "code",
   "execution_count": 15,
   "metadata": {},
   "outputs": [],
   "source": [
    "acc = [df[col].sum() / df.shape[0] for col in df.columns]"
   ]
  },
  {
   "cell_type": "code",
   "execution_count": 16,
   "metadata": {},
   "outputs": [
    {
     "data": {
      "text/plain": [
       "[]"
      ]
     },
     "execution_count": 16,
     "metadata": {},
     "output_type": "execute_result"
    },
    {
     "data": {
      "image/png": "[encoded data removed]",
      "text/plain": [
       "<Figure size 640x480 with 1 Axes>"
      ]
     },
     "metadata": {},
     "output_type": "display_data"
    }
   ],
   "source": [
    "plt.plot(acc)\n",
    "values = []\n",
    "for i, val in enumerate(np.arange(0, 1, 0.01)):\n",
    "    if i % 10 == 0:\n",
    "        values.append(round(val, 2))\n",
    "    else:\n",
    "        values.append(None)\n",
    "plt.title(\"С хотя бы 1 ключевым словом\")\n",
    "plt.xticks(range(len(acc))[::10], values[::10])\n",
    "plt.xlabel(\"Доля слов в абзаце\")\n",
    "plt.ylabel(\"Доля правильных топиков\")\n",
    "plt.savefig(\"at_least_1_keyword.png\", dpi=300)\n",
    "plt.plot()"
   ]
  },
  {
   "cell_type": "code",
   "execution_count": 17,
   "metadata": {},
   "outputs": [
    {
     "data": {
      "text/plain": [
       "[0.6198757763975156,\n",
       " 0.6229813664596273,\n",
       " 0.6304347826086957,\n",
       " 0.6422360248447205,\n",
       " 0.6509316770186335,\n",
       " 0.6590062111801243,\n",
       " 0.668944099378882,\n",
       " 0.6788819875776397,\n",
       " 0.6906832298136646,\n",
       " 0.6950310559006211,\n",
       " 0.7049689440993789,\n",
       " 0.6583850931677019,\n",
       " 0.615527950310559,\n",
       " 0.5813664596273292,\n",
       " 0.5397515527950311,\n",
       " 0.49130434782608695,\n",
       " 0.4546583850931677,\n",
       " 0.41490683229813663,\n",
       " 0.37515527950310557,\n",
       " 0.33354037267080744,\n",
       " 0.30869565217391304,\n",
       " 0.2708074534161491,\n",
       " 0.25403726708074537,\n",
       " 0.2360248447204969,\n",
       " 0.21304347826086956,\n",
       " 0.19875776397515527,\n",
       " 0.17515527950310558,\n",
       " 0.1670807453416149,\n",
       " 0.15714285714285714,\n",
       " 0.14409937888198757,\n",
       " 0.1360248447204969,\n",
       " 0.12049689440993788,\n",
       " 0.10993788819875776,\n",
       " 0.10496894409937889,\n",
       " 0.0968944099378882,\n",
       " 0.08633540372670807,\n",
       " 0.08074534161490683,\n",
       " 0.08012422360248447,\n",
       " 0.07639751552795031,\n",
       " 0.07329192546583851,\n",
       " 0.07329192546583851,\n",
       " 0.06956521739130435,\n",
       " 0.06832298136645963,\n",
       " 0.06645962732919254,\n",
       " 0.06459627329192547,\n",
       " 0.06397515527950311,\n",
       " 0.06397515527950311,\n",
       " 0.06273291925465839,\n",
       " 0.06273291925465839,\n",
       " 0.06024844720496894,\n",
       " 0.05962732919254658,\n",
       " 0.05962732919254658,\n",
       " 0.05962732919254658,\n",
       " 0.05962732919254658,\n",
       " 0.05962732919254658,\n",
       " 0.059006211180124224,\n",
       " 0.059006211180124224,\n",
       " 0.059006211180124224,\n",
       " 0.058385093167701865,\n",
       " 0.058385093167701865,\n",
       " 0.0577639751552795,\n",
       " 0.0577639751552795,\n",
       " 0.0577639751552795,\n",
       " 0.0577639751552795,\n",
       " 0.05714285714285714,\n",
       " 0.05714285714285714,\n",
       " 0.05714285714285714,\n",
       " 0.05714285714285714,\n",
       " 0.05714285714285714,\n",
       " 0.05714285714285714,\n",
       " 0.05714285714285714,\n",
       " 0.05714285714285714,\n",
       " 0.05714285714285714,\n",
       " 0.05714285714285714,\n",
       " 0.05714285714285714,\n",
       " 0.05714285714285714,\n",
       " 0.05714285714285714,\n",
       " 0.05714285714285714,\n",
       " 0.05714285714285714,\n",
       " 0.05714285714285714,\n",
       " 0.05714285714285714,\n",
       " 0.05714285714285714,\n",
       " 0.05714285714285714,\n",
       " 0.05714285714285714,\n",
       " 0.05714285714285714,\n",
       " 0.05714285714285714,\n",
       " 0.05714285714285714,\n",
       " 0.05714285714285714,\n",
       " 0.05714285714285714,\n",
       " 0.05714285714285714,\n",
       " 0.05714285714285714,\n",
       " 0.05714285714285714,\n",
       " 0.05714285714285714,\n",
       " 0.05714285714285714,\n",
       " 0.05714285714285714,\n",
       " 0.05714285714285714,\n",
       " 0.05714285714285714,\n",
       " 0.05714285714285714,\n",
       " 0.05714285714285714,\n",
       " 0.05714285714285714]"
      ]
     },
     "execution_count": 17,
     "metadata": {},
     "output_type": "execute_result"
    }
   ],
   "source": [
    "acc"
   ]
  },
  {
   "cell_type": "code",
   "execution_count": null,
   "metadata": {},
   "outputs": [],
   "source": []
  }
 ],
 "metadata": {
  "kernelspec": {
   "display_name": "Python 3",
   "language": "python",
   "name": "python3"
  },
  "language_info": {
   "codemirror_mode": {
    "name": "ipython",
    "version": 3
   },
   "file_extension": ".py",
   "mimetype": "text/x-python",
   "name": "python",
   "nbconvert_exporter": "python",
   "pygments_lexer": "ipython3",
   "version": "3.10.4"
  }
 },
 "nbformat": 4,
 "nbformat_minor": 2
}
