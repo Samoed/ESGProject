{
 "cells": [
  {
   "cell_type": "code",
   "execution_count": 1,
   "id": "1f985872-351f-4a94-a6d2-bfff5eb542c6",
   "metadata": {},
   "outputs": [
    {
     "name": "stderr",
     "output_type": "stream",
     "text": [
      "/home/samoed/.pyenv/versions/3.10.4/lib/python3.10/site-packages/scipy/__init__.py:155: UserWarning: A NumPy version >=1.18.5 and <1.26.0 is required for this version of SciPy (detected version 1.26.1\n",
      "  warnings.warn(f\"A NumPy version >={np_minversion} and <{np_maxversion}\"\n",
      "/tmp/ipykernel_5542/945261966.py:10: TqdmExperimentalWarning: Using `tqdm.autonotebook.tqdm` in notebook mode. Use `tqdm.tqdm` instead to force console mode (e.g. in jupyter console)\n",
      "  from tqdm.autonotebook import tqdm\n"
     ]
    }
   ],
   "source": [
    "import os\n",
    "import re\n",
    "from collections import defaultdict\n",
    "\n",
    "import textract\n",
    "from nltk.corpus import stopwords\n",
    "from nltk.tokenize import word_tokenize\n",
    "from pymorphy2 import MorphAnalyzer\n",
    "from PyPDF2 import PdfReader, PdfWriter\n",
    "from tqdm.autonotebook import tqdm\n",
    "import pandas as pd"
   ]
  },
  {
   "cell_type": "code",
   "execution_count": 2,
   "metadata": {},
   "outputs": [
    {
     "name": "stdout",
     "output_type": "stream",
     "text": [
      "paragrapghs_with_topisc_sample.xlsx\n",
      "paragrapghs_with_topisc_sample.csv\n",
      "Banco-BPM-HDT-Q3-2023.xlsx\n",
      "Banco-BPM-HDT-Q3-2023.xlsx\n",
      "EDPR_AnnualESGKeyData.xlsx\n",
      "thewholedata.xlsx\n",
      "EDPR_AnnualESGKeyData.xlsx\n",
      "Capgemini_-_2023-07-05_-_Capgemini_ESG Reporting.xlsx\n",
      "Softtek-2019.pdf.Esp\n"
     ]
    },
    {
     "data": {
      "text/plain": [
       "806"
      ]
     },
     "execution_count": 2,
     "metadata": {},
     "output_type": "execute_result"
    }
   ],
   "source": [
    "pdfs = []\n",
    "for root, subdirs, files in os.walk(\"eng\"):\n",
    "    if len(files) == 0:\n",
    "        continue\n",
    "    for file in files:\n",
    "        if file.lower().endswith(\".pdf\") or file.lower().endswith(\"pdf_\"):\n",
    "            year_search = re.search(r\"\\d{4}\", file)\n",
    "            year = int(year_search.group(0)) if year_search else None\n",
    "            pdfs.append((os.path.join(root, file), year))\n",
    "        else:\n",
    "            print(file)\n",
    "len(pdfs)"
   ]
  },
  {
   "cell_type": "code",
   "execution_count": 3,
   "id": "8e07ba33-be7e-4865-968e-e76b09879dee",
   "metadata": {},
   "outputs": [],
   "source": [
    "stopwords_eng = stopwords.words(\"english\")\n",
    "morph = MorphAnalyzer()\n",
    "RE_ENG_TEXT = re.compile(r\"[a-zA-Z0-9\\-]+\")\n",
    "RE_DERIVED = re.compile(r\"\\w+( -|- |-|! - )\\w+\")"
   ]
  },
  {
   "cell_type": "code",
   "execution_count": 4,
   "id": "e56725cc-8337-4d27-81f9-4e5056785504",
   "metadata": {},
   "outputs": [],
   "source": [
    "def parse_pages_to_texts(file_name: str, year: int | None = None) -> list[dict[str, str]] | None:\n",
    "    try:\n",
    "        report = textract.process(file_name)\n",
    "    except Exception as e:\n",
    "        print(file, e)\n",
    "        return None\n",
    "    all_paragraphs = []\n",
    "    for i, paragraph in enumerate(report.decode().split(\"\\n\\n\")):\n",
    "        paragraph = paragraph.replace(\"\\n\", \" \").lower()\n",
    "        report_page = RE_DERIVED.sub(\"\", paragraph)\n",
    "        report_page_lst = word_tokenize(report_page)\n",
    "        tokens = []\n",
    "        for word_ in filter(RE_ENG_TEXT.match, report_page_lst):\n",
    "            if word_ and word_ not in stopwords_eng:\n",
    "                word_ = word_.strip()\n",
    "                word_ = morph.parse(word_)[0]\n",
    "                normal_form = word_.normal_form\n",
    "                tokens.append(normal_form)\n",
    "        all_paragraphs.append(\n",
    "            {\n",
    "                \"file_name\": file_name,\n",
    "                \"year\": year,\n",
    "                \"paragraph\": i,\n",
    "                \"original_text\": paragraph,\n",
    "                \"cleaned_text\": \" \".join(tokens),\n",
    "            }\n",
    "        )\n",
    "    return all_paragraphs"
   ]
  },
  {
   "cell_type": "code",
   "execution_count": 5,
   "metadata": {},
   "outputs": [
    {
     "data": {
      "application/vnd.jupyter.widget-view+json": {
       "model_id": "cef74a1b80e24c68bed57ee77a35b8ac",
       "version_major": 2,
       "version_minor": 0
      },
      "text/plain": [
       "  0%|          | 0/806 [00:00<?, ?it/s]"
      ]
     },
     "metadata": {},
     "output_type": "display_data"
    },
    {
     "name": "stdout",
     "output_type": "stream",
     "text": [
      "The command `pdftotext eng/ESG Reports/Italy, France and Spain/ESG data/Unconfirmed 762891.crdownload.pdf -` failed with exit code 1\n",
      "------------- stdout -------------\n",
      "b''------------- stderr -------------\n",
      "b\"Syntax Error: Couldn't find trailer dictionary\\nSyntax Error: Couldn't find trailer dictionary\\nSyntax Error: Couldn't read xref table\\n\"\n",
      "The filename extension .pdf_ is not yet supported by\n",
      "textract. Please suggest this filename extension here:\n",
      "\n",
      "    https://github.com/deanmalmgren/textract/issues\n",
      "\n",
      "Available extensions include: .csv, .doc, .docx, .eml, .epub, .gif, .htm, .html, .jpeg, .jpg, .json, .log, .mp3, .msg, .odt, .ogg, .pdf, .png, .pptx, .ps, .psv, .rtf, .tab, .tff, .tif, .tiff, .tsv, .txt, .wav, .xls, .xlsx\n",
      "\n",
      "The filename extension . pdf_ is not yet supported by\n",
      "textract. Please suggest this filename extension here:\n",
      "\n",
      "    https://github.com/deanmalmgren/textract/issues\n",
      "\n",
      "Available extensions include: .csv, .doc, .docx, .eml, .epub, .gif, .htm, .html, .jpeg, .jpg, .json, .log, .mp3, .msg, .odt, .ogg, .pdf, .png, .pptx, .ps, .psv, .rtf, .tab, .tff, .tif, .tiff, .tsv, .txt, .wav, .xls, .xlsx\n",
      "\n",
      "The filename extension .pdf_ is not yet supported by\n",
      "textract. Please suggest this filename extension here:\n",
      "\n",
      "    https://github.com/deanmalmgren/textract/issues\n",
      "\n",
      "Available extensions include: .csv, .doc, .docx, .eml, .epub, .gif, .htm, .html, .jpeg, .jpg, .json, .log, .mp3, .msg, .odt, .ogg, .pdf, .png, .pptx, .ps, .psv, .rtf, .tab, .tff, .tif, .tiff, .tsv, .txt, .wav, .xls, .xlsx\n",
      "\n"
     ]
    }
   ],
   "source": [
    "df = []\n",
    "for file, year in tqdm(pdfs):\n",
    "    res = parse_pages_to_texts(file, year)\n",
    "    if res:\n",
    "        df.extend(res)"
   ]
  },
  {
   "cell_type": "code",
   "execution_count": 6,
   "metadata": {},
   "outputs": [
    {
     "data": {
      "text/html": [
       "<div>\n",
       "<style scoped>\n",
       "    .dataframe tbody tr th:only-of-type {\n",
       "        vertical-align: middle;\n",
       "    }\n",
       "\n",
       "    .dataframe tbody tr th {\n",
       "        vertical-align: top;\n",
       "    }\n",
       "\n",
       "    .dataframe thead th {\n",
       "        text-align: right;\n",
       "    }\n",
       "</style>\n",
       "<table border=\"1\" class=\"dataframe\">\n",
       "  <thead>\n",
       "    <tr style=\"text-align: right;\">\n",
       "      <th></th>\n",
       "      <th>file_name</th>\n",
       "      <th>year</th>\n",
       "      <th>paragraph</th>\n",
       "      <th>original_text</th>\n",
       "      <th>cleaned_text</th>\n",
       "    </tr>\n",
       "  </thead>\n",
       "  <tbody>\n",
       "    <tr>\n",
       "      <th>0</th>\n",
       "      <td>eng/ESG Reports/BP - 2022.pdf</td>\n",
       "      <td>2022.0</td>\n",
       "      <td>0</td>\n",
       "      <td>reimagining energy for people and our planet b...</td>\n",
       "      <td>reimagining energy people planet bp sustainabi...</td>\n",
       "    </tr>\n",
       "    <tr>\n",
       "      <th>1</th>\n",
       "      <td>eng/ESG Reports/BP - 2022.pdf</td>\n",
       "      <td>2022.0</td>\n",
       "      <td>1</td>\n",
       "      <td>sustainability at bp</td>\n",
       "      <td>sustainability bp</td>\n",
       "    </tr>\n",
       "    <tr>\n",
       "      <th>2</th>\n",
       "      <td>eng/ESG Reports/BP - 2022.pdf</td>\n",
       "      <td>2022.0</td>\n",
       "      <td>2</td>\n",
       "      <td>our approach</td>\n",
       "      <td>approach</td>\n",
       "    </tr>\n",
       "    <tr>\n",
       "      <th>3</th>\n",
       "      <td>eng/ESG Reports/BP - 2022.pdf</td>\n",
       "      <td>2022.0</td>\n",
       "      <td>3</td>\n",
       "      <td>getting to net zero</td>\n",
       "      <td>getting net zero</td>\n",
       "    </tr>\n",
       "    <tr>\n",
       "      <th>4</th>\n",
       "      <td>eng/ESG Reports/BP - 2022.pdf</td>\n",
       "      <td>2022.0</td>\n",
       "      <td>4</td>\n",
       "      <td>improving people’s lives</td>\n",
       "      <td>improving people lives</td>\n",
       "    </tr>\n",
       "  </tbody>\n",
       "</table>\n",
       "</div>"
      ],
      "text/plain": [
       "                       file_name    year  paragraph  \\\n",
       "0  eng/ESG Reports/BP - 2022.pdf  2022.0          0   \n",
       "1  eng/ESG Reports/BP - 2022.pdf  2022.0          1   \n",
       "2  eng/ESG Reports/BP - 2022.pdf  2022.0          2   \n",
       "3  eng/ESG Reports/BP - 2022.pdf  2022.0          3   \n",
       "4  eng/ESG Reports/BP - 2022.pdf  2022.0          4   \n",
       "\n",
       "                                       original_text  \\\n",
       "0  reimagining energy for people and our planet b...   \n",
       "1                              \n",
       "sustainability at bp   \n",
       "2                                       our approach   \n",
       "3                                getting to net zero   \n",
       "4                           improving people’s lives   \n",
       "\n",
       "                                        cleaned_text  \n",
       "0  reimagining energy people planet bp sustainabi...  \n",
       "1                                  sustainability bp  \n",
       "2                                           approach  \n",
       "3                                   getting net zero  \n",
       "4                             improving people lives  "
      ]
     },
     "execution_count": 6,
     "metadata": {},
     "output_type": "execute_result"
    }
   ],
   "source": [
    "df = pd.DataFrame(df)\n",
    "df.head()"
   ]
  },
  {
   "cell_type": "code",
   "execution_count": 7,
   "metadata": {},
   "outputs": [
    {
     "data": {
      "text/plain": [
       "(2473479, 5)"
      ]
     },
     "execution_count": 7,
     "metadata": {},
     "output_type": "execute_result"
    }
   ],
   "source": [
    "df.shape"
   ]
  },
  {
   "cell_type": "code",
   "execution_count": 8,
   "id": "67ed557c-d7f3-4b47-8a8f-2a8bdb820914",
   "metadata": {
    "scrolled": true,
    "tags": []
   },
   "outputs": [],
   "source": [
    "df.to_csv(\"paragraphs_eng.csv.zip\")"
   ]
  },
  {
   "cell_type": "code",
   "execution_count": null,
   "metadata": {},
   "outputs": [],
   "source": []
  }
 ],
 "metadata": {
  "kernelspec": {
   "display_name": "Python 3 (ipykernel)",
   "language": "python",
   "name": "python3"
  },
  "language_info": {
   "codemirror_mode": {
    "name": "ipython",
    "version": 3
   },
   "file_extension": ".py",
   "mimetype": "text/x-python",
   "name": "python",
   "nbconvert_exporter": "python",
   "pygments_lexer": "ipython3",
   "version": "3.10.4"
  },
  "widgets": {
   "application/vnd.jupyter.widget-state+json": {
    "state": {
     "0151feafec41441398644dae4c37dead": {
      "model_module": "@jupyter-widgets/base",
      "model_module_version": "2.0.0",
      "model_name": "LayoutModel",
      "state": {}
     },
     "1ba62d20bb8345bfb1031faebdf01a99": {
      "model_module": "@jupyter-widgets/controls",
      "model_module_version": "2.0.0",
      "model_name": "ProgressStyleModel",
      "state": {
       "description_width": ""
      }
     },
     "215f2d42731b47a0bf6f9b4823d8020a": {
      "model_module": "@jupyter-widgets/controls",
      "model_module_version": "2.0.0",
      "model_name": "FloatProgressModel",
      "state": {
       "bar_style": "success",
       "layout": "IPY_MODEL_68cfba7fdf874e4799a0d11cc4a64027",
       "max": 1399,
       "style": "IPY_MODEL_1ba62d20bb8345bfb1031faebdf01a99",
       "value": 1399
      }
     },
     "3ba02750a4654fce9b6c820ee6c7719e": {
      "model_module": "@jupyter-widgets/controls",
      "model_module_version": "2.0.0",
      "model_name": "HTMLModel",
      "state": {
       "layout": "IPY_MODEL_0151feafec41441398644dae4c37dead",
       "style": "IPY_MODEL_415e81a0462543c5a241423d837e51b9",
       "value": "100%"
      }
     },
     "415e81a0462543c5a241423d837e51b9": {
      "model_module": "@jupyter-widgets/controls",
      "model_module_version": "2.0.0",
      "model_name": "HTMLStyleModel",
      "state": {
       "description_width": "",
       "font_size": null,
       "text_color": null
      }
     },
     "4d01360ebb994e778968b7ed516ecb61": {
      "model_module": "@jupyter-widgets/base",
      "model_module_version": "2.0.0",
      "model_name": "LayoutModel",
      "state": {}
     },
     "58917fc2af8b400f8b37daed73c5e52c": {
      "model_module": "@jupyter-widgets/controls",
      "model_module_version": "2.0.0",
      "model_name": "HTMLModel",
      "state": {
       "layout": "IPY_MODEL_869a6b24d6f04d76a25ed585687b3659",
       "style": "IPY_MODEL_b418e741b28f441e8880f0b89da9bd5e",
       "value": " 0/1399 [00:01&lt;?, ?it/s]"
      }
     },
     "5a46b0c6010044c5b7eaf38993643057": {
      "model_module": "@jupyter-widgets/controls",
      "model_module_version": "2.0.0",
      "model_name": "ProgressStyleModel",
      "state": {
       "description_width": ""
      }
     },
     "66ab628bb72a459f8a5b054eabe56532": {
      "model_module": "@jupyter-widgets/controls",
      "model_module_version": "2.0.0",
      "model_name": "HTMLStyleModel",
      "state": {
       "description_width": "",
       "font_size": null,
       "text_color": null
      }
     },
     "68cfba7fdf874e4799a0d11cc4a64027": {
      "model_module": "@jupyter-widgets/base",
      "model_module_version": "2.0.0",
      "model_name": "LayoutModel",
      "state": {}
     },
     "7ee0ec891ba048c19c7dcb73a384af3d": {
      "model_module": "@jupyter-widgets/base",
      "model_module_version": "2.0.0",
      "model_name": "LayoutModel",
      "state": {}
     },
     "869a6b24d6f04d76a25ed585687b3659": {
      "model_module": "@jupyter-widgets/base",
      "model_module_version": "2.0.0",
      "model_name": "LayoutModel",
      "state": {}
     },
     "894e50b9fa2648629b481f4b8b57b80d": {
      "model_module": "@jupyter-widgets/base",
      "model_module_version": "2.0.0",
      "model_name": "LayoutModel",
      "state": {}
     },
     "92cce78840004bbfa6a3cc613272938f": {
      "model_module": "@jupyter-widgets/controls",
      "model_module_version": "2.0.0",
      "model_name": "FloatProgressModel",
      "state": {
       "bar_style": "danger",
       "layout": "IPY_MODEL_ee555e901c7b4ee3a0b921c444662766",
       "max": 1399,
       "style": "IPY_MODEL_5a46b0c6010044c5b7eaf38993643057"
      }
     },
     "93b9ad971c844e4d8162087c46e633a7": {
      "model_module": "@jupyter-widgets/controls",
      "model_module_version": "2.0.0",
      "model_name": "HTMLModel",
      "state": {
       "layout": "IPY_MODEL_7ee0ec891ba048c19c7dcb73a384af3d",
       "style": "IPY_MODEL_cba60e8b4bdb46f3a38a131ed5720e05",
       "value": "  0%"
      }
     },
     "a0082d3378a143188b7af93ac0c49370": {
      "model_module": "@jupyter-widgets/base",
      "model_module_version": "2.0.0",
      "model_name": "LayoutModel",
      "state": {}
     },
     "a1d95cc114e645e3a47a962123c80b72": {
      "model_module": "@jupyter-widgets/controls",
      "model_module_version": "2.0.0",
      "model_name": "HTMLModel",
      "state": {
       "layout": "IPY_MODEL_4d01360ebb994e778968b7ed516ecb61",
       "style": "IPY_MODEL_66ab628bb72a459f8a5b054eabe56532",
       "value": " 1399/1399 [3:06:10&lt;00:00,  5.05s/it]"
      }
     },
     "b418e741b28f441e8880f0b89da9bd5e": {
      "model_module": "@jupyter-widgets/controls",
      "model_module_version": "2.0.0",
      "model_name": "HTMLStyleModel",
      "state": {
       "description_width": "",
       "font_size": null,
       "text_color": null
      }
     },
     "cba60e8b4bdb46f3a38a131ed5720e05": {
      "model_module": "@jupyter-widgets/controls",
      "model_module_version": "2.0.0",
      "model_name": "HTMLStyleModel",
      "state": {
       "description_width": "",
       "font_size": null,
       "text_color": null
      }
     },
     "d59d092f589c4eccbb4733652e727a33": {
      "model_module": "@jupyter-widgets/controls",
      "model_module_version": "2.0.0",
      "model_name": "HBoxModel",
      "state": {
       "children": [
        "IPY_MODEL_93b9ad971c844e4d8162087c46e633a7",
        "IPY_MODEL_92cce78840004bbfa6a3cc613272938f",
        "IPY_MODEL_58917fc2af8b400f8b37daed73c5e52c"
       ],
       "layout": "IPY_MODEL_894e50b9fa2648629b481f4b8b57b80d"
      }
     },
     "ee555e901c7b4ee3a0b921c444662766": {
      "model_module": "@jupyter-widgets/base",
      "model_module_version": "2.0.0",
      "model_name": "LayoutModel",
      "state": {}
     },
     "f7cc0dd616ff439a8e120f554ccc05d7": {
      "model_module": "@jupyter-widgets/controls",
      "model_module_version": "2.0.0",
      "model_name": "HBoxModel",
      "state": {
       "children": [
        "IPY_MODEL_3ba02750a4654fce9b6c820ee6c7719e",
        "IPY_MODEL_215f2d42731b47a0bf6f9b4823d8020a",
        "IPY_MODEL_a1d95cc114e645e3a47a962123c80b72"
       ],
       "layout": "IPY_MODEL_a0082d3378a143188b7af93ac0c49370"
      }
     }
    },
    "version_major": 2,
    "version_minor": 0
   }
  }
 },
 "nbformat": 4,
 "nbformat_minor": 5
}
