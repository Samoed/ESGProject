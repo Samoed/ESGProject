{
 "cells": [
  {
   "cell_type": "code",
   "execution_count": 38,
   "id": "c767658d-e192-404e-830e-5ff105e16736",
   "metadata": {},
   "outputs": [
    {
     "name": "stderr",
     "output_type": "stream",
     "text": [
      "/tmp/ipykernel_9217/3303313714.py:4: TqdmExperimentalWarning: Using `tqdm.autonotebook.tqdm` in notebook mode. Use `tqdm.tqdm` instead to force console mode (e.g. in jupyter console)\n",
      "  from tqdm.autonotebook import tqdm\n"
     ]
    }
   ],
   "source": [
    "import os\n",
    "import pandas as pd\n",
    "import shutil\n",
    "from tqdm.autonotebook import tqdm"
   ]
  },
  {
   "cell_type": "code",
   "execution_count": 2,
   "id": "4f4ec9a1-80a7-41a1-9f95-7070148fd66f",
   "metadata": {},
   "outputs": [
    {
     "data": {
      "text/html": [
       "<div>\n",
       "<style scoped>\n",
       "    .dataframe tbody tr th:only-of-type {\n",
       "        vertical-align: middle;\n",
       "    }\n",
       "\n",
       "    .dataframe tbody tr th {\n",
       "        vertical-align: top;\n",
       "    }\n",
       "\n",
       "    .dataframe thead th {\n",
       "        text-align: right;\n",
       "    }\n",
       "</style>\n",
       "<table border=\"1\" class=\"dataframe\">\n",
       "  <thead>\n",
       "    <tr style=\"text-align: right;\">\n",
       "      <th></th>\n",
       "      <th>компания</th>\n",
       "      <th>сектор</th>\n",
       "      <th>год</th>\n",
       "      <th>тип отчета</th>\n",
       "      <th>ссылка на отчет</th>\n",
       "    </tr>\n",
       "  </thead>\n",
       "  <tbody>\n",
       "    <tr>\n",
       "      <th>0</th>\n",
       "      <td>Центр Корпоративной Медицины</td>\n",
       "      <td>Здравоохранение и спорт</td>\n",
       "      <td>2022</td>\n",
       "      <td>ОУР</td>\n",
       "      <td>/download/b98f348b936bbc33387b248e52cb1f2a/</td>\n",
       "    </tr>\n",
       "    <tr>\n",
       "      <th>1</th>\n",
       "      <td>ДОМ.РФ</td>\n",
       "      <td>Финансы и страхование</td>\n",
       "      <td>2022</td>\n",
       "      <td>ОУР</td>\n",
       "      <td>/download/82e60c15b4c0ee6ede2e194aa31c69e1/</td>\n",
       "    </tr>\n",
       "    <tr>\n",
       "      <th>2</th>\n",
       "      <td>ПАО «Россети Ленэнерго»</td>\n",
       "      <td>Энергетика</td>\n",
       "      <td>2022</td>\n",
       "      <td>СО</td>\n",
       "      <td>/download/d8bc2c7e94424c65e37793a462b7807d1274...</td>\n",
       "    </tr>\n",
       "    <tr>\n",
       "      <th>3</th>\n",
       "      <td>ОАО \"МРСК Урала\"</td>\n",
       "      <td>Энергетика</td>\n",
       "      <td>2021</td>\n",
       "      <td>ИО</td>\n",
       "      <td>/download/af503e07dd6b861d1ed3048c36868cc9/</td>\n",
       "    </tr>\n",
       "    <tr>\n",
       "      <th>4</th>\n",
       "      <td>ПАО \"Россети Сибирь\"</td>\n",
       "      <td>Энергетика</td>\n",
       "      <td>2021</td>\n",
       "      <td>ИО</td>\n",
       "      <td>/download/57becde4be827f45bedf2a46f58d793a/</td>\n",
       "    </tr>\n",
       "  </tbody>\n",
       "</table>\n",
       "</div>"
      ],
      "text/plain": [
       "                       компания                   сектор   год тип отчета  \\\n",
       "0  Центр Корпоративной Медицины  Здравоохранение и спорт  2022        ОУР   \n",
       "1                        ДОМ.РФ    Финансы и страхование  2022        ОУР   \n",
       "2       ПАО «Россети Ленэнерго»               Энергетика  2022         СО   \n",
       "3              ОАО \"МРСК Урала\"               Энергетика  2021         ИО   \n",
       "4          ПАО \"Россети Сибирь\"               Энергетика  2021         ИО   \n",
       "\n",
       "                                     ссылка на отчет  \n",
       "0        /download/b98f348b936bbc33387b248e52cb1f2a/  \n",
       "1        /download/82e60c15b4c0ee6ede2e194aa31c69e1/  \n",
       "2  /download/d8bc2c7e94424c65e37793a462b7807d1274...  \n",
       "3        /download/af503e07dd6b861d1ed3048c36868cc9/  \n",
       "4        /download/57becde4be827f45bedf2a46f58d793a/  "
      ]
     },
     "execution_count": 2,
     "metadata": {},
     "output_type": "execute_result"
    }
   ],
   "source": [
    "df = pd.read_csv(\"rspp_reports.csv\", index_col=0)\n",
    "df.head()"
   ]
  },
  {
   "cell_type": "code",
   "execution_count": 8,
   "id": "dbbe587d-df66-4fd7-9118-eece6b682b91",
   "metadata": {},
   "outputs": [],
   "source": [
    "df[\"год\"] = df[\"год\"].str.split(\", \").str[0]"
   ]
  },
  {
   "cell_type": "code",
   "execution_count": 14,
   "id": "d97a552d-88c4-439c-b341-f61f0dbbb12b",
   "metadata": {},
   "outputs": [],
   "source": [
    "for idx, row in df[df[\"год\"].str.contains('2021')].iterrows():\n",
    "    if f\"{row['компания']}_{idx}.pdf\" in os.listdir(\"reports\"):\n",
    "        shutil.copy(\"reports/\"+f\"{row['компания']}_{idx}.pdf\",  \"2021/\"+f\"{row['компания']}_{idx}.pdf\")"
   ]
  },
  {
   "cell_type": "code",
   "execution_count": 34,
   "id": "4cd4c46a-7674-4990-9fa2-0198f1d3744a",
   "metadata": {},
   "outputs": [],
   "source": [
    "gr = df.reset_index().groupby([\"год\", \"index\"])[\"компания\"].apply(list).reset_index()"
   ]
  },
  {
   "cell_type": "code",
   "execution_count": 44,
   "id": "e8d6e92b-1d1e-45e9-9fe7-f02f17a7d09a",
   "metadata": {},
   "outputs": [
    {
     "data": {
      "application/json": {
       "ascii": false,
       "bar_format": null,
       "colour": null,
       "elapsed": 0.004899263381958008,
       "initial": 0,
       "n": 0,
       "ncols": null,
       "nrows": 24,
       "postfix": null,
       "prefix": "",
       "rate": null,
       "total": 1408,
       "unit": "it",
       "unit_divisor": 1000,
       "unit_scale": false
      },
      "application/vnd.jupyter.widget-view+json": {
       "model_id": "7157ecb763414b7485d264f761b7548a",
       "version_major": 2,
       "version_minor": 0
      },
      "text/plain": [
       "  0%|          | 0/1408 [00:00<?, ?it/s]"
      ]
     },
     "metadata": {},
     "output_type": "display_data"
    }
   ],
   "source": [
    "for year, idx, arr in tqdm(list(zip(gr['год'], gr['index'], gr['компания']))):\n",
    "    company = arr[0]\n",
    "    if not os.path.exists(year):\n",
    "        os.makedirs(year)\n",
    "    if f\"{company}_{idx}.pdf\" in os.listdir(\"reports\"):\n",
    "        shutil.move(\"reports/\"+f\"{company}_{idx}.pdf\",  f\"{year}/{company}_{idx}.pdf\")\n",
    "    else:\n",
    "        print(company)"
   ]
  },
  {
   "cell_type": "code",
   "execution_count": null,
   "id": "debda4b1-aef0-4ac3-9e46-d619e0c7c8f5",
   "metadata": {},
   "outputs": [],
   "source": []
  }
 ],
 "metadata": {
  "kernelspec": {
   "display_name": "Python 3 (ipykernel)",
   "language": "python",
   "name": "python3"
  },
  "language_info": {
   "codemirror_mode": {
    "name": "ipython",
    "version": 3
   },
   "file_extension": ".py",
   "mimetype": "text/x-python",
   "name": "python",
   "nbconvert_exporter": "python",
   "pygments_lexer": "ipython3",
   "version": "3.10.4"
  }
 },
 "nbformat": 4,
 "nbformat_minor": 5
}
