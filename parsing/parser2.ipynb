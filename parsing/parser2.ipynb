{
 "cells": [
  {
   "cell_type": "code",
   "execution_count": 1,
   "id": "3f5b5413-9630-4f0e-a24a-912c2aa04be3",
   "metadata": {},
   "outputs": [],
   "source": [
    "import re\n",
    "import os\n",
    "\n",
    "import textract\n",
    "from nltk.tokenize import word_tokenize\n",
    "from nltk.corpus import stopwords\n",
    "from tqdm import tqdm"
   ]
  },
  {
   "cell_type": "code",
   "execution_count": 14,
   "id": "c394d4c3-a8d2-49bf-953b-96b7898e16ed",
   "metadata": {},
   "outputs": [],
   "source": [
    "RE_DERIVED = re.compile('\\w+( -|- |-|! - )\\w+')\n",
    "RE_RUSSIAN_TEXT = re.compile(\"[а-яА-Я]+\")\n",
    "\n",
    "REPORTS_DIRECTORY = 'reports'\n",
    "REPORTS_TXT_DIRECTORY = 'reports_txt'\n",
    "all_stopwords = stopwords.words('russian') + ['что', 'это', 'то', 'мы', 'по', 'мочь']"
   ]
  },
  {
   "cell_type": "code",
   "execution_count": 2,
   "id": "e3b83cdb-06be-4f5c-b6e2-687d1fc99e46",
   "metadata": {},
   "outputs": [],
   "source": [
    "assert '.ipynb_checkpoints' in os.listdir('reports')"
   ]
  },
  {
   "cell_type": "code",
   "execution_count": 17,
   "id": "1a0fc774-9bdd-4cab-8732-3e268cce7dd9",
   "metadata": {},
   "outputs": [
    {
     "name": "stderr",
     "output_type": "stream",
     "text": [
      "100%|████████████████████████████████████| 1390/1390 [12:57:59<00:00, 33.58s/it]\n"
     ]
    }
   ],
   "source": [
    "exceptions = []\n",
    "for report in tqdm(os.listdir(REPORTS_DIRECTORY)):\n",
    "    try:\n",
    "        if report == '.ipynb_checkpoints':\n",
    "            continue\n",
    "        report_text = textract.process(f'{REPORTS_DIRECTORY}/{report}')\n",
    "        report_text = report_text.decode().replace('\\n', ' ')\n",
    "        report_text_lst = word_tokenize(report_text)\n",
    "        russian_report_text_lst = [w for w in filter(RE_RUSSIAN_TEXT.match, report_text_lst)]\n",
    "        russian_report_text = ' '.join(russian_report_text_lst)\n",
    "        with open(f'{REPORTS_TXT_DIRECTORY}/{report.replace(\".pdf\", \".txt\")}', 'w') as f:\n",
    "            f.write(russian_report_text)\n",
    "    except Exception as e:\n",
    "        exceptions.append((e, report))"
   ]
  },
  {
   "cell_type": "code",
   "execution_count": null,
   "id": "0b55f175-c520-48f3-8462-43d3c949b347",
   "metadata": {},
   "outputs": [],
   "source": [
    "print(*exceptions, sep='\\n')"
   ]
  },
  {
   "cell_type": "code",
   "execution_count": null,
   "id": "8cb8f8fe-fde9-41a5-953e-a0bf21e737f6",
   "metadata": {},
   "outputs": [],
   "source": [
    "with open(f'{REPORTS_TXT_DIRECTORY}/Детский фонд «ВИКТОРИЯ»_280.txt') as f:\n",
    "    fi = f.read()\n",
    "    print(fi)"
   ]
  },
  {
   "cell_type": "code",
   "execution_count": 29,
   "id": "3ec36350-872d-4378-b696-073e17667a2d",
   "metadata": {},
   "outputs": [
    {
     "name": "stderr",
     "output_type": "stream",
     "text": [
      "100%|██████████████████████████████████████| 1187/1187 [00:01<00:00, 989.73it/s]\n"
     ]
    }
   ],
   "source": [
    "errors = []\n",
    "for report_txt in tqdm(os.listdir(REPORTS_TXT_DIRECTORY)):\n",
    "    try:\n",
    "        filename = f'{REPORTS_TXT_DIRECTORY}/{report_txt}'\n",
    "        with open(filename) as f:\n",
    "            report_text = f.read()\n",
    "            if not report_text:\n",
    "                os.remove(filename)\n",
    "    except Exception as e:\n",
    "        errors.append((e, report_txt))"
   ]
  },
  {
   "cell_type": "code",
   "execution_count": 30,
   "id": "0159e7b8-d200-4fc9-b903-d6d4fc76186e",
   "metadata": {},
   "outputs": [
    {
     "data": {
      "text/plain": [
       "1187"
      ]
     },
     "execution_count": 30,
     "metadata": {},
     "output_type": "execute_result"
    }
   ],
   "source": [
    "len(os.listdir(REPORTS_TXT_DIRECTORY))"
   ]
  },
  {
   "cell_type": "code",
   "execution_count": null,
   "id": "ece5fffc-458c-41df-bf17-094cc8fbe2f4",
   "metadata": {},
   "outputs": [],
   "source": [
    "print(*errors, sep='\\n') #.DS_Store"
   ]
  },
  {
   "cell_type": "code",
   "execution_count": 31,
   "id": "7f2fff2e-4b4b-40e0-b2be-39f18a850e2c",
   "metadata": {},
   "outputs": [
    {
     "name": "stderr",
     "output_type": "stream",
     "text": [
      "100%|███████████████████████████████████████| 1187/1187 [00:47<00:00, 25.08it/s]\n"
     ]
    }
   ],
   "source": [
    "for report_txt in tqdm(os.listdir(REPORTS_TXT_DIRECTORY)):\n",
    "    if not report_txt.endswith('.txt'):\n",
    "        continue\n",
    "    filename = f'{REPORTS_TXT_DIRECTORY}/{report_txt}'\n",
    "    with open(filename) as f:\n",
    "        report_text = f.read()\n",
    "    report_text = RE_DERIVED.sub('', report_text)\n",
    "    with open(filename, 'w') as f:\n",
    "        f.write(report_text)"
   ]
  },
  {
   "cell_type": "code",
   "execution_count": 32,
   "id": "2531ba82-4fed-46eb-b0de-a79784176eb1",
   "metadata": {},
   "outputs": [
    {
     "data": {
      "text/plain": [
       "1187"
      ]
     },
     "execution_count": 32,
     "metadata": {},
     "output_type": "execute_result"
    }
   ],
   "source": [
    "len(os.listdir(REPORTS_TXT_DIRECTORY))"
   ]
  },
  {
   "cell_type": "code",
   "execution_count": null,
   "id": "a9392d50-d622-47aa-825b-61c793399595",
   "metadata": {},
   "outputs": [],
   "source": []
  }
 ],
 "metadata": {
  "kernelspec": {
   "display_name": "Python 3 (ipykernel)",
   "language": "python",
   "name": "python3"
  },
  "language_info": {
   "codemirror_mode": {
    "name": "ipython",
    "version": 3
   },
   "file_extension": ".py",
   "mimetype": "text/x-python",
   "name": "python",
   "nbconvert_exporter": "python",
   "pygments_lexer": "ipython3",
   "version": "3.10.4"
  },
  "widgets": {
   "application/vnd.jupyter.widget-state+json": {
    "state": {},
    "version_major": 2,
    "version_minor": 0
   }
  }
 },
 "nbformat": 4,
 "nbformat_minor": 5
}
