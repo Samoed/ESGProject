{
 "cells": [
  {
   "cell_type": "code",
   "execution_count": 2,
   "id": "aa596efb-13fd-4b84-b47b-c2d96ce5ff5d",
   "metadata": {},
   "outputs": [],
   "source": [
    "FILE = \"2020/ПАО «ММК» _584.pdf\""
   ]
  },
  {
   "cell_type": "code",
   "execution_count": 2,
   "id": "f541522f-d6ff-4a34-bcba-dd4d9e58703f",
   "metadata": {},
   "outputs": [],
   "source": [
    "import textract\n",
    "\n",
    "report = textract.process(\"2020/ПАО «ММК» _584.pdf\")\n",
    "with open(\"textract.txt\", \"w\") as f:\n",
    "    f.write(report.decode())"
   ]
  },
  {
   "cell_type": "code",
   "execution_count": 3,
   "id": "3b23a3ec-b350-43dc-b7af-f7444032ad3f",
   "metadata": {},
   "outputs": [],
   "source": [
    "from pdfminer.high_level import extract_text\n",
    "\n",
    "text = extract_text(FILE)\n",
    "with open(\"pdfminer.txt\", \"w\") as f:\n",
    "    f.write(report.decode())"
   ]
  },
  {
   "cell_type": "code",
   "execution_count": 5,
   "id": "7b984b36-eb08-44bc-ae0c-7c0c972f4c5a",
   "metadata": {},
   "outputs": [],
   "source": [
    "import pdfplumber\n",
    "\n",
    "with pdfplumber.open(FILE) as pdf:\n",
    "    text = \"\\n\".join([page.extract_text() for page in pdf.pages])\n",
    "\n",
    "with open(\"pdfplumber.txt\", \"w\") as f:\n",
    "    f.write(text)"
   ]
  },
  {
   "cell_type": "code",
   "execution_count": 2,
   "id": "2dcf065c-bf8b-440b-a34d-36e95d845732",
   "metadata": {},
   "outputs": [
    {
     "ename": "ModuleNotFoundError",
     "evalue": "No module named 'frontend'",
     "output_type": "error",
     "traceback": [
      "\u001b[0;31m---------------------------------------------------------------------------\u001b[0m",
      "\u001b[0;31mModuleNotFoundError\u001b[0m                       Traceback (most recent call last)",
      "Cell \u001b[0;32mIn [2], line 1\u001b[0m\n\u001b[0;32m----> 1\u001b[0m \u001b[38;5;28;01mimport\u001b[39;00m \u001b[38;5;21;01mfitz\u001b[39;00m\n\u001b[1;32m      3\u001b[0m doc \u001b[38;5;241m=\u001b[39m fitz\u001b[38;5;241m.\u001b[39mopen(FILE)\n\u001b[1;32m      5\u001b[0m text \u001b[38;5;241m=\u001b[39m \u001b[38;5;124m\"\u001b[39m\u001b[38;5;124m\"\u001b[39m\n",
      "File \u001b[0;32m~/.pyenv/versions/3.10.4/lib/python3.10/site-packages/fitz/__init__.py:1\u001b[0m\n\u001b[0;32m----> 1\u001b[0m \u001b[38;5;28;01mfrom\u001b[39;00m \u001b[38;5;21;01mfrontend\u001b[39;00m \u001b[38;5;28;01mimport\u001b[39;00m \u001b[38;5;241m*\u001b[39m\n\u001b[1;32m      2\u001b[0m \u001b[38;5;28;01mimport\u001b[39;00m \u001b[38;5;21;01mtools\u001b[39;00m\n\u001b[1;32m      3\u001b[0m \u001b[38;5;28;01mimport\u001b[39;00m \u001b[38;5;21;01mos\u001b[39;00m\u001b[38;5;21;01m.\u001b[39;00m\u001b[38;5;21;01mpath\u001b[39;00m \u001b[38;5;28;01mas\u001b[39;00m \u001b[38;5;21;01mop\u001b[39;00m\n",
      "\u001b[0;31mModuleNotFoundError\u001b[0m: No module named 'frontend'"
     ]
    }
   ],
   "source": [
    "import aspose.pdf as ap\n",
    "\n",
    "outputFile =  \n",
    "\n",
    "# Открыть PDF-документ\n",
    "document = ap.Document(FILE)\n",
    "\n",
    "# Создать текстовое устройство\n",
    "textDevice = ap.devices.TextDevice()\n",
    "\n",
    "for page in range(1, len(document.pages)+1):\n",
    "    # Экспорт страницы в TXT\n",
    "    textDevice.process(document.pages[page], outputFile.format(pageNo=page))\n"
   ]
  },
  {
   "cell_type": "code",
   "execution_count": null,
   "id": "628dc71a-75ec-4d63-a2e6-45fb21676a89",
   "metadata": {},
   "outputs": [],
   "source": []
  }
 ],
 "metadata": {
  "kernelspec": {
   "display_name": "Python 3 (ipykernel)",
   "language": "python",
   "name": "python3"
  },
  "language_info": {
   "codemirror_mode": {
    "name": "ipython",
    "version": 3
   },
   "file_extension": ".py",
   "mimetype": "text/x-python",
   "name": "python",
   "nbconvert_exporter": "python",
   "pygments_lexer": "ipython3",
   "version": "3.10.4"
  }
 },
 "nbformat": 4,
 "nbformat_minor": 5
}
