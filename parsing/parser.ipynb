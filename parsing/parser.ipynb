{
 "cells": [
  {
   "cell_type": "code",
   "execution_count": 1,
   "id": "ba71ffd6-1941-46b8-903c-ba7d60577200",
   "metadata": {},
   "outputs": [],
   "source": [
    "import re\n",
    "import time\n",
    "\n",
    "import pandas as pd\n",
    "import requests\n",
    "from bs4 import BeautifulSoup\n",
    "from tqdm import tqdm"
   ]
  },
  {
   "cell_type": "code",
   "execution_count": 2,
   "id": "d0c98d8e-3461-47bb-ad90-ec57d30c8c80",
   "metadata": {},
   "outputs": [],
   "source": [
    "BASE_RSPP_URL = \"https://rspp.ru\"\n",
    "RSPP_URL_REGISTR = f\"{BASE_RSPP_URL}/activity/social/registr/\"\n",
    "REPORT_TYPES = {\n",
    "    \"ОУР\": \"Отчет по устойчивому развитию\",\n",
    "    \"СО\": \"Социальный отчет\",\n",
    "    \"ИО\": \"Интегрированный отчет\",\n",
    "    \"ЭО\": \"Экологический отчёт\",\n",
    "}\n",
    "RE_YEARS = re.compile(\"....\")\n",
    "FOLDER_TO_SAVE_REPORTS = \"reports\""
   ]
  },
  {
   "cell_type": "code",
   "execution_count": 3,
   "id": "12c9ce8c-6b9e-496c-bdd4-43ecbd589376",
   "metadata": {},
   "outputs": [],
   "source": [
    "def parse_td(company_report_row):\n",
    "    report_info = [td.find(\"div\") for td in company_report_row.findAll(\"td\", class_=\"register-table__colclass\")]\n",
    "    company_name = report_info[0].find(\"span\").text\n",
    "    sector = report_info[1].text\n",
    "    years_list = RE_YEARS.findall(report_info[2].text)\n",
    "    years = \", \".join(years_list)\n",
    "    report_tag_a = report_info[3].find(\"a\")\n",
    "    report_link, report_type = report_tag_a[\"href\"], report_tag_a.text.strip()\n",
    "    return {\n",
    "        \"компания\": company_name,\n",
    "        \"сектор\": sector,\n",
    "        \"год\": years,\n",
    "        \"тип отчета\": report_type,\n",
    "        \"ссылка на отчет\": report_link,\n",
    "    }"
   ]
  },
  {
   "cell_type": "code",
   "execution_count": 4,
   "id": "07869d16-121c-4dd9-bc4c-c6f8b0071361",
   "metadata": {},
   "outputs": [],
   "source": [
    "def parse_rspp():\n",
    "    rspp_response = requests.get(RSPP_URL_REGISTR)\n",
    "    assert rspp_response.status_code < 400, \"Не получилось подключиться к сайту РСПП\"\n",
    "    soup = BeautifulSoup(rspp_response.text, \"lxml\")\n",
    "    company_report_filter = soup.find(\"div\", class_=\"company-report-filter\")\n",
    "    report_table = company_report_filter.find(\"table\", class_=\"table_scroll-mobile\")\n",
    "    headline, *company_reports_list = report_table.findAll(\"tr\", class_=\"register-table__row\")\n",
    "    company_reports_dicts = [parse_td(company_report_td) for company_report_td in tqdm(company_reports_list)]\n",
    "    return pd.DataFrame.from_dict(company_reports_dicts)"
   ]
  },
  {
   "cell_type": "code",
   "execution_count": 5,
   "id": "65a428a5-f7d9-45da-8772-e906645ffb5c",
   "metadata": {
    "scrolled": true,
    "tags": []
   },
   "outputs": [
    {
     "name": "stderr",
     "output_type": "stream",
     "text": [
      "100%|█████████████████████████████████████| 1408/1408 [00:00<00:00, 4122.24it/s]\n"
     ]
    },
    {
     "data": {
      "text/html": [
       "<div>\n",
       "<style scoped>\n",
       "    .dataframe tbody tr th:only-of-type {\n",
       "        vertical-align: middle;\n",
       "    }\n",
       "\n",
       "    .dataframe tbody tr th {\n",
       "        vertical-align: top;\n",
       "    }\n",
       "\n",
       "    .dataframe thead th {\n",
       "        text-align: right;\n",
       "    }\n",
       "</style>\n",
       "<table border=\"1\" class=\"dataframe\">\n",
       "  <thead>\n",
       "    <tr style=\"text-align: right;\">\n",
       "      <th></th>\n",
       "      <th>компания</th>\n",
       "      <th>сектор</th>\n",
       "      <th>год</th>\n",
       "      <th>тип отчета</th>\n",
       "      <th>ссылка на отчет</th>\n",
       "    </tr>\n",
       "  </thead>\n",
       "  <tbody>\n",
       "    <tr>\n",
       "      <th>0</th>\n",
       "      <td>Центр Корпоративной Медицины</td>\n",
       "      <td>Здравоохранение и спорт</td>\n",
       "      <td>2022</td>\n",
       "      <td>ОУР</td>\n",
       "      <td>/download/b98f348b936bbc33387b248e52cb1f2a/</td>\n",
       "    </tr>\n",
       "    <tr>\n",
       "      <th>1</th>\n",
       "      <td>ДОМ.РФ</td>\n",
       "      <td>Финансы и страхование</td>\n",
       "      <td>2022</td>\n",
       "      <td>ОУР</td>\n",
       "      <td>/download/82e60c15b4c0ee6ede2e194aa31c69e1/</td>\n",
       "    </tr>\n",
       "    <tr>\n",
       "      <th>2</th>\n",
       "      <td>ПАО «Россети Ленэнерго»</td>\n",
       "      <td>Энергетика</td>\n",
       "      <td>2022</td>\n",
       "      <td>СО</td>\n",
       "      <td>/download/d8bc2c7e94424c65e37793a462b7807d1274...</td>\n",
       "    </tr>\n",
       "    <tr>\n",
       "      <th>3</th>\n",
       "      <td>ОАО \"МРСК Урала\"</td>\n",
       "      <td>Энергетика</td>\n",
       "      <td>2021</td>\n",
       "      <td>ИО</td>\n",
       "      <td>/download/af503e07dd6b861d1ed3048c36868cc9/</td>\n",
       "    </tr>\n",
       "    <tr>\n",
       "      <th>4</th>\n",
       "      <td>ПАО \"Россети Сибирь\"</td>\n",
       "      <td>Энергетика</td>\n",
       "      <td>2021</td>\n",
       "      <td>ИО</td>\n",
       "      <td>/download/57becde4be827f45bedf2a46f58d793a/</td>\n",
       "    </tr>\n",
       "  </tbody>\n",
       "</table>\n",
       "</div>"
      ],
      "text/plain": [
       "                       компания                   сектор   год тип отчета  \\\n",
       "0  Центр Корпоративной Медицины  Здравоохранение и спорт  2022        ОУР   \n",
       "1                        ДОМ.РФ    Финансы и страхование  2022        ОУР   \n",
       "2       ПАО «Россети Ленэнерго»               Энергетика  2022         СО   \n",
       "3              ОАО \"МРСК Урала\"               Энергетика  2021         ИО   \n",
       "4          ПАО \"Россети Сибирь\"               Энергетика  2021         ИО   \n",
       "\n",
       "                                     ссылка на отчет  \n",
       "0        /download/b98f348b936bbc33387b248e52cb1f2a/  \n",
       "1        /download/82e60c15b4c0ee6ede2e194aa31c69e1/  \n",
       "2  /download/d8bc2c7e94424c65e37793a462b7807d1274...  \n",
       "3        /download/af503e07dd6b861d1ed3048c36868cc9/  \n",
       "4        /download/57becde4be827f45bedf2a46f58d793a/  "
      ]
     },
     "execution_count": 5,
     "metadata": {},
     "output_type": "execute_result"
    }
   ],
   "source": [
    "rspp_df = parse_rspp()\n",
    "rspp_df.head()"
   ]
  },
  {
   "cell_type": "code",
   "execution_count": 6,
   "id": "f0a3cab4-641c-4d44-9b4e-35f9aaeaab07",
   "metadata": {},
   "outputs": [],
   "source": [
    "rspp_df.to_csv(\"rspp_reports.csv\")"
   ]
  },
  {
   "cell_type": "code",
   "execution_count": 7,
   "id": "d92bc6d6-9ebb-46ae-ae75-98cee02d8e32",
   "metadata": {},
   "outputs": [],
   "source": [
    "CHUNK_SIZE = 400\n",
    "\n",
    "\n",
    "def download_report_pdf(link, filename, folder_to_save=FOLDER_TO_SAVE_REPORTS):\n",
    "    download_url = f\"{BASE_RSPP_URL}{link}\"\n",
    "    report_response = requests.get(download_url, stream=True)\n",
    "    assert report_response.status_code == 200, \"Не получилось скачать отчет с сайта РСПП\"\n",
    "    filename = f\"{folder_to_save}/{filename}\"\n",
    "    with open(filename, \"wb\") as f:\n",
    "        for chunk in report_response.iter_content(CHUNK_SIZE):\n",
    "            f.write(chunk)"
   ]
  },
  {
   "cell_type": "code",
   "execution_count": 8,
   "id": "5bb76ba4-4d42-4646-b0b9-34508aa3d30c",
   "metadata": {},
   "outputs": [],
   "source": [
    "def download_reports_pdf(rspp_df):\n",
    "    for index, report in tqdm(rspp_df.iterrows(), total=rspp_df.shape[0]):\n",
    "        link = report[\"ссылка на отчет\"]\n",
    "        company = report[\"компания\"].replace(\"/\", \"_\")\n",
    "        filename = f\"{company}_{index}.pdf\"\n",
    "        try:\n",
    "            download_report_pdf(link, filename)\n",
    "        except Exception as e:\n",
    "            print(e, BASE_RSPP_URL + link)\n",
    "        time.sleep(2)"
   ]
  },
  {
   "cell_type": "code",
   "execution_count": 10,
   "id": "c832b8d0-0ca8-4e34-9c79-64c2ef5eacf3",
   "metadata": {},
   "outputs": [
    {
     "name": "stderr",
     "output_type": "stream",
     "text": [
      " 10%|███▌                                  | 134/1408 [12:20<2:42:47,  7.67s/it]"
     ]
    },
    {
     "name": "stdout",
     "output_type": "stream",
     "text": [
      "HTTPSConnectionPool(host='rspp.ru', port=443): Max retries exceeded with url: /download/bcf0b03f02c703c0e87276216105516e/ (Caused by NewConnectionError('<urllib3.connection.HTTPSConnection object at 0x7f0527c548e0>: Failed to establish a new connection: [Errno -3] Temporary failure in name resolution')) https://rspp.ru/download/bcf0b03f02c703c0e87276216105516e/\n"
     ]
    },
    {
     "name": "stderr",
     "output_type": "stream",
     "text": [
      " 43%|████████████████▍                     | 609/1408 [48:29<1:30:01,  6.76s/it]"
     ]
    },
    {
     "name": "stdout",
     "output_type": "stream",
     "text": [
      "HTTPSConnectionPool(host='rspp.ru', port=443): Max retries exceeded with url: /download/f9a35061e70f6ab54880eb4a1338b94a/ (Caused by NewConnectionError('<urllib3.connection.HTTPSConnection object at 0x7f0527c548e0>: Failed to establish a new connection: [Errno -3] Temporary failure in name resolution')) https://rspp.ru/download/f9a35061e70f6ab54880eb4a1338b94a/\n"
     ]
    },
    {
     "name": "stderr",
     "output_type": "stream",
     "text": [
      " 45%|█████████████████▊                      | 629/1408 [49:59<57:44,  4.45s/it]"
     ]
    },
    {
     "name": "stdout",
     "output_type": "stream",
     "text": [
      "HTTPSConnectionPool(host='rspp.ru', port=443): Max retries exceeded with url: /download/d15f2a563faad6c3e1c7265284e80d6f/ (Caused by NewConnectionError('<urllib3.connection.HTTPSConnection object at 0x7f0527c56500>: Failed to establish a new connection: [Errno -3] Temporary failure in name resolution')) https://rspp.ru/download/d15f2a563faad6c3e1c7265284e80d6f/\n"
     ]
    },
    {
     "name": "stderr",
     "output_type": "stream",
     "text": [
      " 60%|██████████████████████▊               | 847/1408 [1:05:27<34:42,  3.71s/it]"
     ]
    },
    {
     "name": "stdout",
     "output_type": "stream",
     "text": [
      "HTTPSConnectionPool(host='rspp.ru', port=443): Max retries exceeded with url: /download/d64aa92550ac153719bab75bff9ca470/ (Caused by NewConnectionError('<urllib3.connection.HTTPSConnection object at 0x7f0527c6d480>: Failed to establish a new connection: [Errno -3] Temporary failure in name resolution')) https://rspp.ru/download/d64aa92550ac153719bab75bff9ca470/\n"
     ]
    },
    {
     "name": "stderr",
     "output_type": "stream",
     "text": [
      " 62%|███████████████████████▎              | 866/1408 [1:06:55<36:40,  4.06s/it]"
     ]
    },
    {
     "name": "stdout",
     "output_type": "stream",
     "text": [
      "HTTPSConnectionPool(host='rspp.ru', port=443): Max retries exceeded with url: /download/076c48aa17016b05702d57d8c1a16742/ (Caused by NewConnectionError('<urllib3.connection.HTTPSConnection object at 0x7f052c729db0>: Failed to establish a new connection: [Errno -3] Temporary failure in name resolution')) https://rspp.ru/download/076c48aa17016b05702d57d8c1a16742/\n"
     ]
    },
    {
     "name": "stderr",
     "output_type": "stream",
     "text": [
      " 63%|███████████████████████▊              | 883/1408 [1:08:12<29:49,  3.41s/it]"
     ]
    },
    {
     "name": "stdout",
     "output_type": "stream",
     "text": [
      "HTTPSConnectionPool(host='rspp.ru', port=443): Max retries exceeded with url: /download/dacd90434be9fca055d44b1183b85db5/ (Caused by NewConnectionError('<urllib3.connection.HTTPSConnection object at 0x7f0527c54580>: Failed to establish a new connection: [Errno -3] Temporary failure in name resolution')) https://rspp.ru/download/dacd90434be9fca055d44b1183b85db5/\n"
     ]
    },
    {
     "name": "stderr",
     "output_type": "stream",
     "text": [
      " 73%|███████████████████████████          | 1030/1408 [1:21:16<26:33,  4.21s/it]"
     ]
    },
    {
     "name": "stdout",
     "output_type": "stream",
     "text": [
      "HTTPSConnectionPool(host='rspp.ru', port=443): Max retries exceeded with url: /download/8bf6f57399bd55ee16c58c1997998ee2/ (Caused by NewConnectionError('<urllib3.connection.HTTPSConnection object at 0x7f052c35a0b0>: Failed to establish a new connection: [Errno -3] Temporary failure in name resolution')) https://rspp.ru/download/8bf6f57399bd55ee16c58c1997998ee2/\n"
     ]
    },
    {
     "name": "stderr",
     "output_type": "stream",
     "text": [
      " 78%|████████████████████████████▋        | 1094/1408 [1:25:33<23:55,  4.57s/it]"
     ]
    },
    {
     "name": "stdout",
     "output_type": "stream",
     "text": [
      "HTTPSConnectionPool(host='rspp.ru', port=443): Max retries exceeded with url: /download/d4ec4daa936aec9355a2c1bd170134e3/ (Caused by NewConnectionError('<urllib3.connection.HTTPSConnection object at 0x7f052c35a260>: Failed to establish a new connection: [Errno -3] Temporary failure in name resolution')) https://rspp.ru/download/d4ec4daa936aec9355a2c1bd170134e3/\n"
     ]
    },
    {
     "name": "stderr",
     "output_type": "stream",
     "text": [
      " 99%|████████████████████████████████████▌| 1391/1408 [1:50:16<00:59,  3.52s/it]"
     ]
    },
    {
     "name": "stdout",
     "output_type": "stream",
     "text": [
      "HTTPSConnectionPool(host='rspp.ru', port=443): Max retries exceeded with url: /download/257dd0099122b60e4d5579814798863b/ (Caused by NewConnectionError('<urllib3.connection.HTTPSConnection object at 0x7f052c359b40>: Failed to establish a new connection: [Errno -3] Temporary failure in name resolution')) https://rspp.ru/download/257dd0099122b60e4d5579814798863b/\n"
     ]
    },
    {
     "name": "stderr",
     "output_type": "stream",
     "text": [
      "100%|█████████████████████████████████████| 1408/1408 [1:51:48<00:00,  4.76s/it]\n"
     ]
    }
   ],
   "source": [
    "download_reports_pdf(rspp_df)"
   ]
  },
  {
   "cell_type": "code",
   "execution_count": null,
   "id": "4863a4dc-c1d5-4183-8471-f9ffb164f5c8",
   "metadata": {},
   "outputs": [],
   "source": []
  }
 ],
 "metadata": {
  "kernelspec": {
   "display_name": "Python 3 (ipykernel)",
   "language": "python",
   "name": "python3"
  },
  "language_info": {
   "codemirror_mode": {
    "name": "ipython",
    "version": 3
   },
   "file_extension": ".py",
   "mimetype": "text/x-python",
   "name": "python",
   "nbconvert_exporter": "python",
   "pygments_lexer": "ipython3",
   "version": "3.10.4"
  },
  "widgets": {
   "application/vnd.jupyter.widget-state+json": {
    "state": {},
    "version_major": 2,
    "version_minor": 0
   }
  }
 },
 "nbformat": 4,
 "nbformat_minor": 5
}
