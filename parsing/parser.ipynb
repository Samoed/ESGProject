{
 "cells": [
  {
   "cell_type": "code",
   "execution_count": 1,
   "id": "ba71ffd6-1941-46b8-903c-ba7d60577200",
   "metadata": {},
   "outputs": [],
   "source": [
    "import requests\n",
    "from bs4 import BeautifulSoup\n",
    "import pandas as pd\n",
    "from tqdm import tqdm\n",
    "import re\n",
    "import time"
   ]
  },
  {
   "cell_type": "code",
   "execution_count": 2,
   "id": "d0c98d8e-3461-47bb-ad90-ec57d30c8c80",
   "metadata": {},
   "outputs": [],
   "source": [
    "BASE_RSPP_URL = 'https://rspp.ru'\n",
    "RSPP_URL_REGISTR = f'{BASE_RSPP_URL}/activity/social/registr/'\n",
    "REPORT_TYPES = {'ОУР': 'Отчет по устойчивому развитию',\n",
    "                'СО': 'Социальный отчет',\n",
    "                'ИО': 'Интегрированный отчет',\n",
    "                'ЭО': 'Экологический отчёт'}\n",
    "RE_YEARS = re.compile('....')\n",
    "FOLDER_TO_SAVE_REPORTS = 'reports'"
   ]
  },
  {
   "cell_type": "code",
   "execution_count": 3,
   "id": "12c9ce8c-6b9e-496c-bdd4-43ecbd589376",
   "metadata": {},
   "outputs": [],
   "source": [
    "def parse_td(company_report_row):\n",
    "    report_info = [td.find('div') for td in company_report_row.findAll('td', class_='register-table__colclass')]\n",
    "    company_name = report_info[0].find('span').text\n",
    "    sector = report_info[1].text\n",
    "    years_list = RE_YEARS.findall(report_info[2].text)\n",
    "    years = ', '.join(years_list)\n",
    "    report_tag_a = report_info[3].find('a')\n",
    "    report_link, report_type = report_tag_a['href'], report_tag_a.text.strip()\n",
    "    return {'компания': company_name,\n",
    "            'сектор': sector,\n",
    "            'год': years,\n",
    "            'тип отчета': report_type,\n",
    "            'ссылка на отчет': report_link}"
   ]
  },
  {
   "cell_type": "code",
   "execution_count": 4,
   "id": "07869d16-121c-4dd9-bc4c-c6f8b0071361",
   "metadata": {},
   "outputs": [],
   "source": [
    "def parse_rspp():\n",
    "    rspp_response = requests.get(RSPP_URL_REGISTR)\n",
    "    assert rspp_response.status_code < 400, 'Не получилось подключиться к сайту РСПП'\n",
    "    soup = BeautifulSoup(rspp_response.text, 'lxml')\n",
    "    company_report_filter = soup.find('div', class_='company-report-filter')\n",
    "    report_table = company_report_filter.find('table', class_='table_scroll-mobile')\n",
    "    headline, *company_reports_list = report_table.findAll('tr', class_='register-table__row')\n",
    "    company_reports_dicts = [parse_td(company_report_td) for company_report_td in tqdm(company_reports_list)]\n",
    "    return pd.DataFrame.from_dict(company_reports_dicts)"
   ]
  },
  {
   "cell_type": "code",
   "execution_count": 5,
   "id": "65a428a5-f7d9-45da-8772-e906645ffb5c",
   "metadata": {
    "scrolled": true,
    "tags": []
   },
   "outputs": [
    {
     "name": "stderr",
     "output_type": "stream",
     "text": [
      "100%|█████████████████████████████████████| 1388/1388 [00:00<00:00, 7675.72it/s]\n"
     ]
    },
    {
     "data": {
      "text/html": [
       "<div>\n",
       "<style scoped>\n",
       "    .dataframe tbody tr th:only-of-type {\n",
       "        vertical-align: middle;\n",
       "    }\n",
       "\n",
       "    .dataframe tbody tr th {\n",
       "        vertical-align: top;\n",
       "    }\n",
       "\n",
       "    .dataframe thead th {\n",
       "        text-align: right;\n",
       "    }\n",
       "</style>\n",
       "<table border=\"1\" class=\"dataframe\">\n",
       "  <thead>\n",
       "    <tr style=\"text-align: right;\">\n",
       "      <th></th>\n",
       "      <th>компания</th>\n",
       "      <th>сектор</th>\n",
       "      <th>год</th>\n",
       "      <th>тип отчета</th>\n",
       "      <th>ссылка на отчет</th>\n",
       "    </tr>\n",
       "  </thead>\n",
       "  <tbody>\n",
       "    <tr>\n",
       "      <th>0</th>\n",
       "      <td>РУДН</td>\n",
       "      <td>Образование, здравоохранение</td>\n",
       "      <td>2021</td>\n",
       "      <td>ОУР</td>\n",
       "      <td>/download/7033aa33d6bfc2f5e069f547a5b15109/</td>\n",
       "    </tr>\n",
       "    <tr>\n",
       "      <th>1</th>\n",
       "      <td>ОАО \"МРСК Урала\"</td>\n",
       "      <td>Энергетика</td>\n",
       "      <td>2021</td>\n",
       "      <td>ИО</td>\n",
       "      <td>/download/af503e07dd6b861d1ed3048c36868cc9/</td>\n",
       "    </tr>\n",
       "    <tr>\n",
       "      <th>2</th>\n",
       "      <td>ПАО \"Россети Сибирь\"</td>\n",
       "      <td>Энергетика</td>\n",
       "      <td>2021</td>\n",
       "      <td>ИО</td>\n",
       "      <td>/download/57becde4be827f45bedf2a46f58d793a/</td>\n",
       "    </tr>\n",
       "    <tr>\n",
       "      <th>3</th>\n",
       "      <td>ПАО \"Россети Юг\"</td>\n",
       "      <td>Энергетика</td>\n",
       "      <td>2021</td>\n",
       "      <td>ИО</td>\n",
       "      <td>/download/851fbaea09387885cefa38bd3b6838f3/</td>\n",
       "    </tr>\n",
       "    <tr>\n",
       "      <th>4</th>\n",
       "      <td>ПАО «Россети Ленэнерго»</td>\n",
       "      <td>Энергетика</td>\n",
       "      <td>2021</td>\n",
       "      <td>ИО</td>\n",
       "      <td>/download/2034b8c8e84e4bba78049bdd976fc122/</td>\n",
       "    </tr>\n",
       "  </tbody>\n",
       "</table>\n",
       "</div>"
      ],
      "text/plain": [
       "                  компания                        сектор   год тип отчета  \\\n",
       "0                     РУДН  Образование, здравоохранение  2021        ОУР   \n",
       "1         ОАО \"МРСК Урала\"                    Энергетика  2021         ИО   \n",
       "2     ПАО \"Россети Сибирь\"                    Энергетика  2021         ИО   \n",
       "3         ПАО \"Россети Юг\"                    Энергетика  2021         ИО   \n",
       "4  ПАО «Россети Ленэнерго»                    Энергетика  2021         ИО   \n",
       "\n",
       "                               ссылка на отчет  \n",
       "0  /download/7033aa33d6bfc2f5e069f547a5b15109/  \n",
       "1  /download/af503e07dd6b861d1ed3048c36868cc9/  \n",
       "2  /download/57becde4be827f45bedf2a46f58d793a/  \n",
       "3  /download/851fbaea09387885cefa38bd3b6838f3/  \n",
       "4  /download/2034b8c8e84e4bba78049bdd976fc122/  "
      ]
     },
     "execution_count": 5,
     "metadata": {},
     "output_type": "execute_result"
    }
   ],
   "source": [
    "rspp_df = parse_rspp()\n",
    "rspp_df.head()"
   ]
  },
  {
   "cell_type": "code",
   "execution_count": 6,
   "id": "f0a3cab4-641c-4d44-9b4e-35f9aaeaab07",
   "metadata": {},
   "outputs": [],
   "source": [
    "rspp_df.to_csv('rspp_reports.csv')"
   ]
  },
  {
   "cell_type": "code",
   "execution_count": 7,
   "id": "d92bc6d6-9ebb-46ae-ae75-98cee02d8e32",
   "metadata": {},
   "outputs": [],
   "source": [
    "CHUNK_SIZE = 400\n",
    "def download_report_pdf(link, filename, folder_to_save=FOLDER_TO_SAVE_REPORTS):\n",
    "    download_url = f'{BASE_RSPP_URL}{link}'\n",
    "    report_response = requests.get(download_url, stream=True)\n",
    "    assert report_response.status_code == 200, 'Не получилось скачать отчет с сайта РСПП'\n",
    "    filename = f'{folder_to_save}/{filename}'\n",
    "    with open(filename, 'wb') as f:\n",
    "        for chunk in report_response.iter_content(CHUNK_SIZE):\n",
    "            f.write(chunk)"
   ]
  },
  {
   "cell_type": "code",
   "execution_count": 8,
   "id": "5bb76ba4-4d42-4646-b0b9-34508aa3d30c",
   "metadata": {},
   "outputs": [],
   "source": [
    "def download_reports_pdf(rspp_df):\n",
    "    for index, report in tqdm(rspp_df.iterrows()):\n",
    "        link = report['ссылка на отчет']\n",
    "        company = report['компания'].replace('/', '_')\n",
    "        filename = f'{company}_{index}.pdf'\n",
    "        try:\n",
    "            download_report_pdf(link, filename)\n",
    "        except Exception as e:\n",
    "            print(e, link)\n",
    "        time.sleep(2)"
   ]
  },
  {
   "cell_type": "code",
   "execution_count": 9,
   "id": "c832b8d0-0ca8-4e34-9c79-64c2ef5eacf3",
   "metadata": {},
   "outputs": [
    {
     "name": "stderr",
     "output_type": "stream",
     "text": [
      "1388it [1:35:36,  4.13s/it] \n"
     ]
    }
   ],
   "source": [
    "download_reports_pdf(rspp_df)"
   ]
  },
  {
   "cell_type": "code",
   "execution_count": null,
   "id": "4863a4dc-c1d5-4183-8471-f9ffb164f5c8",
   "metadata": {},
   "outputs": [],
   "source": []
  }
 ],
 "metadata": {
  "kernelspec": {
   "display_name": "Python 3 (ipykernel)",
   "language": "python",
   "name": "python3"
  },
  "language_info": {
   "codemirror_mode": {
    "name": "ipython",
    "version": 3
   },
   "file_extension": ".py",
   "mimetype": "text/x-python",
   "name": "python",
   "nbconvert_exporter": "python",
   "pygments_lexer": "ipython3",
   "version": "3.7.9"
  }
 },
 "nbformat": 4,
 "nbformat_minor": 5
}
