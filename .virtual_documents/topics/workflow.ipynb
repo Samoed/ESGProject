import warnings
from pandas.errors import PerformanceWarning

warnings.simplefilter(action="ignore", category=PerformanceWarning)
warnings.simplefilter(action="ignore", category=RuntimeWarning)





import pandas as pd
import numpy as np
from collections import defaultdict
from tqdm import tqdm


# df = pd.read_csv("paragrapghs_with_topics_banks.csv", index_col=0)
df = pd.read_csv("paragrapghs_with_topics.csv.zip", index_col=0, engine="pyarrow")
df.head()


not_nan = df[df["max_topic_cos"].notna()]
# число абзацев соотвествующих теме
reports = not_nan.groupby(["year", "company", "max_topic_cos"])["paragraph"].count()
reports.head()








topics_per_report = not_nan.groupby(["year", "company"])["paragraph"].count()
topics_per_report.head()


tf = defaultdict(dict)
for (year, company, topic), row in tqdm(reports.items(), total=reports.shape[0]):
    tf[(year, company)][topic] = row / topics_per_report[year][company]
tf = pd.DataFrame(tf).T





tf


idf = {}
for topic in tqdm(df["max_topic_cos"].unique()):
    if pd.isna(topic):
        continue
    idf[topic] = np.log(df["company"].nunique() / tf[topic].notna().sum())
idf = pd.Series(idf)


tf_idf = defaultdict(dict)
for idx, row in tf.iterrows():
    for topic in row.index:
        tf_idf[idx][topic] = row[topic] * idf[topic]


tf_idf = pd.DataFrame(tf_idf).T
tf_idf = tf_idf.fillna(0)
tf_idf.head()


tf_idf.to_csv("tf_idf.csv")


topic_words = pd.read_csv("../topic_words.csv", index_col=0)
topic_words.head()


gr = topic_words.groupby("meta")["topic"].apply(set)





from pymcdm.methods import TOPSIS


gr = (
    df.drop(
        columns=[
            "Unnamed: 0",
            "paragraph",
            "original_text",
            "cleaned_text",
            "max_topic_cos",
            "max_score_cos",
            "count_words",
            "second_max_topic_cos",
            "second_max_score_cos",
        ]
    )
    .groupby(["year", "company"])
    .mean()
    .dropna(how="all")
)
gr.head()


topics = topic_words.groupby("meta")["topic"].apply(set)


gr.reset_index(inplace=True)
gr.head()


def second_workflow(data: pd.DataFrame):
    matrix = data.to_numpy()
    weights = np.array([1 / matrix.shape[0]] * matrix.shape[1])
    types = np.ones(matrix.shape[1], dtype=int)
    body = TOPSIS()
    predictions = [round(preference, 2) for preference in body(matrix, weights, types)]
    return predictions


bad = ["Кибербезопасность", "Инновации", "Персонал в целом"]

for year in gr["year"].unique():
    year_data = gr[gr["year"] == year]
    for key, cur_topics in topics.items():
        tmp_topics = []
        for t in cur_topics:
            if t not in bad:
                tmp_topics.append(t)
            else:
                tmp_topics.append("!" + t)
        cur_topics = tmp_topics
        res = second_workflow(year_data[cur_topics])
        res = pd.Series(res).set_axis(year_data.index)
        gr.loc[gr["year"] == year, key] = res


bad = ["Кибербезопасность", "Инновации", "Персонал в целом"]

for year in gr["year"].unique():
    year_data = gr[gr["year"] == year]
    tmp_topics = []
    for t in [v for _, val in topics.items() for v in val]:
        if t not in bad:
            tmp_topics.append(t)
        else:
            tmp_topics.append("!" + t)
    cur_topics = tmp_topics
    res = second_workflow(year_data[cur_topics])
    res = pd.Series(res).set_axis(year_data.index)
    gr.loc[gr["year"] == year, "all_letters"] = res
    res = pd.Series(second_workflow(year_data[["env", "gov", "social"]])).set_axis(year_data.index)
    gr.loc[gr["year"] == year, "on_letters"] = res


gr["avg"] = (gr["env"] + gr["gov"] + gr["social"]) / 3


gr = gr.sort_values(["year", "avg"], ascending=[True, False])


gr["company"] = gr["company"].str.split("/").str[1]


gr.to_csv("results.csv")





import plotly.express as px
import plotly.graph_objects as go


df = pd.read_csv("../results.csv", index_col=0)


new_df = []

for idx, row in tqdm(df.iterrows(), total=df.shape[0]):
    years = row["year"]
    # row["idx"] = idx

    if years.find(",") != -1:
        for year in years.split(","):
            new_row = row.copy()
            new_row["year"] = int(year)
            new_df.append(new_row)
    else:
        row["year"] = float(row["year"])
        new_df.append(row)


df = pd.DataFrame(new_df).reset_index(drop=True)
df["year"] = df["year"].astype(int)
df.head()


df = df.groupby(["year", "company"])[["env", "gov", "social", "all_letters", "avg", "on_letters"]].mean()


unstack_df = df.unstack(level=0)
unstack_df.head()


unstack_df.to_csv("results_all.csv")


for col in ["all_letters", "avg", "on_letters"]:
    df.groupby(["year", "company"])[col].mean().unstack(level=0).to_csv(f"{col}.csv")


fig = go.Figure()

# Add Traces
cols = ["all_letters", "avg", "on_letters"]
size = defaultdict(int)
for col in cols:
    for d in px.line(unstack_df[col].T).data:
        fig.add_trace(d)
        size[col] += 1

visible = defaultdict(list)
for col in cols:
    visible[col] = [cols[0] == col] * size[col] + [cols[1] == col] * size[col] + [cols[2] == col] * size[col]

fig.update_layout(
    updatemenus=[
        dict(
            active=-1,
            buttons=list(
                [
                    dict(
                        label=col,
                        method="update",
                        args=[
                            {"visible": visible[col]},
                            {
                                "title": col,
                            },
                        ],
                    )
                    for col in cols
                ]
            ),
        )
    ]
)

# Set title
fig.update_layout(title=cols[0])

fig.show()



