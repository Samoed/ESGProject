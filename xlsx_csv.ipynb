{
 "cells": [
  {
   "cell_type": "markdown",
   "id": "1e98feb0",
   "metadata": {},
   "source": [
    "Download spreadsheet from gdrive. [Tutorial](https://developers.google.com/sheets/api/quickstart/python)"
   ]
  },
  {
   "cell_type": "markdown",
   "id": "771aa6fb",
   "metadata": {},
   "source": [
    "# Download spread sheets"
   ]
  },
  {
   "cell_type": "code",
   "execution_count": 1,
   "id": "5ae97f6f",
   "metadata": {},
   "outputs": [],
   "source": [
    "from os import path\n",
    "\n",
    "from google.auth.transport.requests import Request\n",
    "from google.oauth2.credentials import Credentials\n",
    "from google_auth_oauthlib.flow import InstalledAppFlow\n",
    "from googleapiclient.discovery import build\n",
    "from googleapiclient.errors import HttpError"
   ]
  },
  {
   "cell_type": "code",
   "execution_count": 2,
   "id": "5ea69b92",
   "metadata": {},
   "outputs": [],
   "source": [
    "# If modifying these scopes, delete the file token.json.\n",
    "SCOPES = [\"https://www.googleapis.com/auth/spreadsheets.readonly\"]\n",
    "\n",
    "# The ID and range of a sample spreadsheet.\n",
    "SAMPLE_SPREADSHEET_ID = \"1xXZAZ4lm1Jg4458QOUxxYt7ZBYtegm4ECiYEkvTJBIE\"\n",
    "SAMPLE_RANGE_NAME = \"Class Data!A2:E\"\n",
    "TOKEN_FILE = \"google_token.json\""
   ]
  },
  {
   "cell_type": "code",
   "execution_count": 3,
   "id": "4a8135f4",
   "metadata": {},
   "outputs": [
    {
     "name": "stdout",
     "output_type": "stream",
     "text": [
      "Please visit this URL to authorize this application: https://accounts.google.com/o/oauth2/auth?response_type=code&client_id=743681804304-aio5hltal3jh1tq5f2edd6eo1ev7d8le.apps.googleusercontent.com&redirect_uri=http%3A%2F%2Flocalhost%3A8080%2F&scope=https%3A%2F%2Fwww.googleapis.com%2Fauth%2Fspreadsheets.readonly&state=Ek6upuelgCmWnAvIoxxb2ll0LkyqJx&access_type=offline\n"
     ]
    },
    {
     "ename": "KeyboardInterrupt",
     "evalue": "",
     "output_type": "error",
     "traceback": [
      "\u001b[0;31m---------------------------------------------------------------------------\u001b[0m",
      "\u001b[0;31mKeyboardInterrupt\u001b[0m                         Traceback (most recent call last)",
      "\u001b[1;32m/home/samoed/Desktop/hse-spb/ESG-Project/xlsx_csv.ipynb Cell 5\u001b[0m line \u001b[0;36m1\n\u001b[1;32m     <a href='vscode-notebook-cell:/home/samoed/Desktop/hse-spb/ESG-Project/xlsx_csv.ipynb#W4sZmlsZQ%3D%3D?line=9'>10</a>\u001b[0m \u001b[39melse\u001b[39;00m:\n\u001b[1;32m     <a href='vscode-notebook-cell:/home/samoed/Desktop/hse-spb/ESG-Project/xlsx_csv.ipynb#W4sZmlsZQ%3D%3D?line=10'>11</a>\u001b[0m     flow \u001b[39m=\u001b[39m InstalledAppFlow\u001b[39m.\u001b[39mfrom_client_secrets_file(TOKEN_FILE, SCOPES)\n\u001b[0;32m---> <a href='vscode-notebook-cell:/home/samoed/Desktop/hse-spb/ESG-Project/xlsx_csv.ipynb#W4sZmlsZQ%3D%3D?line=11'>12</a>\u001b[0m     creds \u001b[39m=\u001b[39m flow\u001b[39m.\u001b[39;49mrun_local_server()\n\u001b[1;32m     <a href='vscode-notebook-cell:/home/samoed/Desktop/hse-spb/ESG-Project/xlsx_csv.ipynb#W4sZmlsZQ%3D%3D?line=12'>13</a>\u001b[0m \u001b[39m# Save the credentials for the next run\u001b[39;00m\n\u001b[1;32m     <a href='vscode-notebook-cell:/home/samoed/Desktop/hse-spb/ESG-Project/xlsx_csv.ipynb#W4sZmlsZQ%3D%3D?line=13'>14</a>\u001b[0m \u001b[39mwith\u001b[39;00m \u001b[39mopen\u001b[39m(TOKEN_FILE, \u001b[39m\"\u001b[39m\u001b[39mw\u001b[39m\u001b[39m\"\u001b[39m) \u001b[39mas\u001b[39;00m token:\n",
      "File \u001b[0;32m~/.pyenv/versions/3.10.4/lib/python3.10/site-packages/google_auth_oauthlib/flow.py:442\u001b[0m, in \u001b[0;36mInstalledAppFlow.run_local_server\u001b[0;34m(self, host, bind_addr, port, authorization_prompt_message, success_message, open_browser, redirect_uri_trailing_slash, timeout_seconds, **kwargs)\u001b[0m\n\u001b[1;32m    439\u001b[0m     \u001b[39mprint\u001b[39m(authorization_prompt_message\u001b[39m.\u001b[39mformat(url\u001b[39m=\u001b[39mauth_url))\n\u001b[1;32m    441\u001b[0m local_server\u001b[39m.\u001b[39mtimeout \u001b[39m=\u001b[39m timeout_seconds\n\u001b[0;32m--> 442\u001b[0m local_server\u001b[39m.\u001b[39;49mhandle_request()\n\u001b[1;32m    444\u001b[0m \u001b[39m# Note: using https here because oauthlib is very picky that\u001b[39;00m\n\u001b[1;32m    445\u001b[0m \u001b[39m# OAuth 2.0 should only occur over https.\u001b[39;00m\n\u001b[1;32m    446\u001b[0m authorization_response \u001b[39m=\u001b[39m wsgi_app\u001b[39m.\u001b[39mlast_request_uri\u001b[39m.\u001b[39mreplace(\u001b[39m\"\u001b[39m\u001b[39mhttp\u001b[39m\u001b[39m\"\u001b[39m, \u001b[39m\"\u001b[39m\u001b[39mhttps\u001b[39m\u001b[39m\"\u001b[39m)\n",
      "File \u001b[0;32m~/.pyenv/versions/3.10.4/lib/python3.10/socketserver.py:294\u001b[0m, in \u001b[0;36mBaseServer.handle_request\u001b[0;34m(self)\u001b[0m\n\u001b[1;32m    291\u001b[0m selector\u001b[39m.\u001b[39mregister(\u001b[39mself\u001b[39m, selectors\u001b[39m.\u001b[39mEVENT_READ)\n\u001b[1;32m    293\u001b[0m \u001b[39mwhile\u001b[39;00m \u001b[39mTrue\u001b[39;00m:\n\u001b[0;32m--> 294\u001b[0m     ready \u001b[39m=\u001b[39m selector\u001b[39m.\u001b[39;49mselect(timeout)\n\u001b[1;32m    295\u001b[0m     \u001b[39mif\u001b[39;00m ready:\n\u001b[1;32m    296\u001b[0m         \u001b[39mreturn\u001b[39;00m \u001b[39mself\u001b[39m\u001b[39m.\u001b[39m_handle_request_noblock()\n",
      "File \u001b[0;32m~/.pyenv/versions/3.10.4/lib/python3.10/selectors.py:416\u001b[0m, in \u001b[0;36m_PollLikeSelector.select\u001b[0;34m(self, timeout)\u001b[0m\n\u001b[1;32m    414\u001b[0m ready \u001b[39m=\u001b[39m []\n\u001b[1;32m    415\u001b[0m \u001b[39mtry\u001b[39;00m:\n\u001b[0;32m--> 416\u001b[0m     fd_event_list \u001b[39m=\u001b[39m \u001b[39mself\u001b[39;49m\u001b[39m.\u001b[39;49m_selector\u001b[39m.\u001b[39;49mpoll(timeout)\n\u001b[1;32m    417\u001b[0m \u001b[39mexcept\u001b[39;00m \u001b[39mInterruptedError\u001b[39;00m:\n\u001b[1;32m    418\u001b[0m     \u001b[39mreturn\u001b[39;00m ready\n",
      "\u001b[0;31mKeyboardInterrupt\u001b[0m: "
     ]
    }
   ],
   "source": [
    "creds = None\n",
    "\n",
    "# if path.exists(TOKEN_FILE):\n",
    "#     creds = Credentials.from_authorized_user_file(TOKEN_FILE, SCOPES)\n",
    "\n",
    "# If there are no (valid) credentials available, let the user log in.\n",
    "if not creds or not creds.valid:\n",
    "    if creds and creds.expired and creds.refresh_token:\n",
    "        creds.refresh(Request())\n",
    "    else:\n",
    "        flow = InstalledAppFlow.from_client_secrets_file(TOKEN_FILE, SCOPES)\n",
    "        creds = flow.run_local_server()\n",
    "    # Save the credentials for the next run\n",
    "    with open(TOKEN_FILE, \"w\") as token:\n",
    "        token.write(creds.to_json())\n",
    "\n",
    "try:\n",
    "    service = build(\"sheets\", \"v4\", credentials=creds)\n",
    "\n",
    "    # Call the Sheets API\n",
    "    sheet = service.spreadsheets()\n",
    "    result = sheet.values().get(spreadsheetId=SAMPLE_SPREADSHEET_ID).execute()\n",
    "    values = result.get(\"values\", [])\n",
    "\n",
    "    if not values:\n",
    "        print(\"No data found.\")\n",
    "        return\n",
    "\n",
    "    print(\"Name, Major:\")\n",
    "    for row in values:\n",
    "        # Print columns A and E, which correspond to indices 0 and 4.\n",
    "        print(\"%s, %s\" % (row[0], row[4]))\n",
    "except HttpError as err:\n",
    "    print(err)"
   ]
  },
  {
   "cell_type": "markdown",
   "id": "a50edeef",
   "metadata": {},
   "source": [
    "# Parse"
   ]
  },
  {
   "cell_type": "code",
   "execution_count": 1,
   "id": "76a0607b-23bb-472e-be2b-2842dd58c769",
   "metadata": {},
   "outputs": [],
   "source": [
    "import pandas as pd\n",
    "from pymorphy2 import MorphAnalyzer\n",
    "\n",
    "morph = MorphAnalyzer()"
   ]
  },
  {
   "cell_type": "code",
   "execution_count": 5,
   "id": "6bc39d03-1f9a-4bfd-9b45-f8a6382f9aec",
   "metadata": {},
   "outputs": [],
   "source": [
    "def process_xlsx(path: str, meta: str):\n",
    "    excel = pd.ExcelFile(path)\n",
    "    words = []\n",
    "    for sheet_name in excel.sheet_names:\n",
    "        sheet_df = pd.read_excel(excel, sheet_name=sheet_name, skiprows=1, header=None)\n",
    "        print(sheet_name, sheet_df.shape)\n",
    "        for col in sheet_df.columns[:2]:  # sometimes experts can put number in random column\n",
    "            # 0 - base, 1 - advanced\n",
    "            for word in sheet_df.loc[sheet_df[col].notna(), col]:\n",
    "                weight = 1\n",
    "                try:\n",
    "                    if word[0] == \"!\":\n",
    "                        weight = 5\n",
    "                        word = word[1:]\n",
    "                except Exception as e:\n",
    "                    print(sheet_name, word, e)\n",
    "                words.append(\n",
    "                    {\n",
    "                        \"meta\": meta,\n",
    "                        \"topic\": sheet_name,\n",
    "                        \"weight\": weight,\n",
    "                        \"type\": col,\n",
    "                        \"word\": morph.normal_forms(word)[0],\n",
    "                    }\n",
    "                )\n",
    "    return words"
   ]
  },
  {
   "cell_type": "code",
   "execution_count": 6,
   "id": "c4caabc0-375f-44f9-b2ba-cc8b53a5662c",
   "metadata": {},
   "outputs": [
    {
     "name": "stdout",
     "output_type": "stream",
     "text": [
      "E\n",
      "Экология в целом (19, 2)\n",
      "Климат (160, 2)\n",
      "Энергия (170, 2)\n",
      "Воздух (93, 2)\n"
     ]
    },
    {
     "name": "stderr",
     "output_type": "stream",
     "text": [
      "/home/samoed/.pyenv/versions/3.10.4/lib/python3.10/site-packages/openpyxl/worksheet/_reader.py:312: UserWarning: Conditional Formatting extension is not supported and will be removed\n",
      "  warn(msg)\n"
     ]
    },
    {
     "name": "stdout",
     "output_type": "stream",
     "text": [
      "Вода (106, 2)\n",
      "Отходы и циклическая экономика (92, 2)\n",
      "Биоразнообразие (118, 2)\n",
      "Рекультивация земель (77, 2)\n",
      "Экологичность продукта (66, 2)\n",
      "S\n",
      "!Персонал в целом (12, 3)\n",
      "Обучение и развитие (146, 6)\n",
      "Сотрудники. Вовлеченность и мот (28, 4)\n",
      "Оплата труда (91, 5)\n",
      "Сотрудники. Здоровье и благопол (51, 3)\n",
      "Сотрудники. Наем и увольнение (37, 5)\n",
      "Сотрудники. Корпоративная культ (41, 4)\n",
      "Сотрудники. Безопасность и охра (127, 4)\n",
      "Сотрудники. Профсоюз и Коллекти (64, 4)\n",
      "Потребители. Доступность (65, 1)\n",
      "Потребители. Сервис и коммуника (83, 3)\n",
      "Потребители. Персональные данны (56, 4)\n",
      "Потребители. Здоровье и благопо (39, 2)\n",
      "Потребители. Маркетинг, продажи (104, 4)\n",
      "Потребители. Удовлетворенность (73, 4)\n",
      "Потребители. Качество и безопас (124, 4)\n",
      "Потребители. Ценовая политика (79, 4)\n",
      "Поставщики в целом (30, 1)\n",
      "Малый и локальный бизнес (30, 4)\n",
      "Поставщики. Работники (22, 4)\n",
      "Поставщики. Экология (14, 4)\n",
      "Закупки и антикоррупция (80, 4)\n",
      "Заинтересованные стороны (29, 2)\n",
      "Коренные народы и местные сообщ (129, 2)\n",
      "Сотрудники. Волонтерство (68, 3)\n",
      "Социальные инвестиции и благотв (254, 4)\n",
      "G\n",
      "Отчетность и прозрачность (93, 4)\n",
      "Отношения с инвесторами (35, 2)\n",
      "!Инновации (2, 2)\n",
      "Права человека (43, 4)\n",
      "Лидерство (274, 3)\n",
      "Риски (177, 3)\n",
      "Этика (29, 4)\n",
      "Корпоративное управление (38, 4)\n",
      "Устойчивое развитие (57, 3)\n",
      "!Кибербезопасность (3, 2)\n"
     ]
    },
    {
     "data": {
      "text/html": [
       "<div>\n",
       "<style scoped>\n",
       "    .dataframe tbody tr th:only-of-type {\n",
       "        vertical-align: middle;\n",
       "    }\n",
       "\n",
       "    .dataframe tbody tr th {\n",
       "        vertical-align: top;\n",
       "    }\n",
       "\n",
       "    .dataframe thead th {\n",
       "        text-align: right;\n",
       "    }\n",
       "</style>\n",
       "<table border=\"1\" class=\"dataframe\">\n",
       "  <thead>\n",
       "    <tr style=\"text-align: right;\">\n",
       "      <th></th>\n",
       "      <th>meta</th>\n",
       "      <th>topic</th>\n",
       "      <th>weight</th>\n",
       "      <th>type</th>\n",
       "      <th>word</th>\n",
       "    </tr>\n",
       "  </thead>\n",
       "  <tbody>\n",
       "    <tr>\n",
       "      <th>0</th>\n",
       "      <td>env</td>\n",
       "      <td>Экология в целом</td>\n",
       "      <td>5</td>\n",
       "      <td>0</td>\n",
       "      <td>экологичный</td>\n",
       "    </tr>\n",
       "    <tr>\n",
       "      <th>1</th>\n",
       "      <td>env</td>\n",
       "      <td>Экология в целом</td>\n",
       "      <td>5</td>\n",
       "      <td>0</td>\n",
       "      <td>природоохранный</td>\n",
       "    </tr>\n",
       "    <tr>\n",
       "      <th>2</th>\n",
       "      <td>env</td>\n",
       "      <td>Экология в целом</td>\n",
       "      <td>1</td>\n",
       "      <td>0</td>\n",
       "      <td>экология</td>\n",
       "    </tr>\n",
       "    <tr>\n",
       "      <th>3</th>\n",
       "      <td>env</td>\n",
       "      <td>Экология в целом</td>\n",
       "      <td>5</td>\n",
       "      <td>0</td>\n",
       "      <td>воздействие</td>\n",
       "    </tr>\n",
       "    <tr>\n",
       "      <th>4</th>\n",
       "      <td>env</td>\n",
       "      <td>Экология в целом</td>\n",
       "      <td>5</td>\n",
       "      <td>0</td>\n",
       "      <td>окружающая среда</td>\n",
       "    </tr>\n",
       "  </tbody>\n",
       "</table>\n",
       "</div>"
      ],
      "text/plain": [
       "  meta             topic  weight  type              word\n",
       "0  env  Экология в целом       5     0       экологичный\n",
       "1  env  Экология в целом       5     0   природоохранный\n",
       "2  env  Экология в целом       1     0          экология\n",
       "3  env  Экология в целом       5     0       воздействие\n",
       "4  env  Экология в целом       5     0  окружающая среда"
      ]
     },
     "execution_count": 6,
     "metadata": {},
     "output_type": "execute_result"
    }
   ],
   "source": [
    "df = []\n",
    "print(\"E\")\n",
    "df.extend(process_xlsx(\"data/topics/Environmental.xlsx\", \"env\"))\n",
    "print(\"S\")\n",
    "df.extend(process_xlsx(\"data/topics/Social.xlsx\", \"social\"))\n",
    "print(\"G\")\n",
    "df.extend(process_xlsx(\"data/topics/Governance.xlsx\", \"gov\"))\n",
    "df = pd.DataFrame(df)\n",
    "df.head()"
   ]
  },
  {
   "cell_type": "code",
   "execution_count": 7,
   "id": "915ab787",
   "metadata": {},
   "outputs": [],
   "source": [
    "df = df[~df[\"word\"].str.strip().eq(\"\")]"
   ]
  },
  {
   "cell_type": "code",
   "execution_count": 8,
   "id": "5bff870f-632c-4d8a-affa-c5a2055f6f51",
   "metadata": {},
   "outputs": [],
   "source": [
    "df.to_csv(\"topic_words.csv.zip\", index=False)\n",
    "df.to_csv(\"topic_words.csv\", index=False)"
   ]
  },
  {
   "cell_type": "code",
   "execution_count": null,
   "id": "5e2fd463",
   "metadata": {},
   "outputs": [],
   "source": []
  }
 ],
 "metadata": {
  "kernelspec": {
   "display_name": "Python 3 (ipykernel)",
   "language": "python",
   "name": "python3"
  },
  "language_info": {
   "codemirror_mode": {
    "name": "ipython",
    "version": 3
   },
   "file_extension": ".py",
   "mimetype": "text/x-python",
   "name": "python",
   "nbconvert_exporter": "python",
   "pygments_lexer": "ipython3",
   "version": "3.10.4"
  }
 },
 "nbformat": 4,
 "nbformat_minor": 5
}
