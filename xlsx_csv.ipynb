{
 "cells": [
  {
   "cell_type": "code",
   "execution_count": 1,
   "id": "76a0607b-23bb-472e-be2b-2842dd58c769",
   "metadata": {},
   "outputs": [],
   "source": [
    "import pandas as pd\n",
    "from pymorphy2 import MorphAnalyzer\n",
    "\n",
    "morph = MorphAnalyzer()"
   ]
  },
  {
   "cell_type": "code",
   "execution_count": 2,
   "id": "6bc39d03-1f9a-4bfd-9b45-f8a6382f9aec",
   "metadata": {},
   "outputs": [],
   "source": [
    "def process_xlsx(path: str, meta: str):\n",
    "    excel = pd.ExcelFile(path)\n",
    "    words = []\n",
    "    for sheet_name in excel.sheet_names:\n",
    "        sheet_df = pd.read_excel(excel, sheet_name=sheet_name, skiprows=1, header=None)\n",
    "\n",
    "        for col in sheet_df.columns:\n",
    "            # 0 - base, 1 - advanced\n",
    "            for word in sheet_df.loc[sheet_df[col].notna(), col]:\n",
    "                weight = 1\n",
    "                if word[0] == \"!\":\n",
    "                    weight = 5\n",
    "                    word = word[1:]\n",
    "                words.append(\n",
    "                    {\n",
    "                        \"meta\": meta,\n",
    "                        \"topic\": sheet_name,\n",
    "                        \"weight\": weight,\n",
    "                        \"type\": col,\n",
    "                        \"word\": morph.normal_forms(word)[0],\n",
    "                    }\n",
    "                )\n",
    "    return words"
   ]
  },
  {
   "cell_type": "code",
   "execution_count": 3,
   "id": "c4caabc0-375f-44f9-b2ba-cc8b53a5662c",
   "metadata": {},
   "outputs": [
    {
     "data": {
      "text/html": [
       "<div>\n",
       "<style scoped>\n",
       "    .dataframe tbody tr th:only-of-type {\n",
       "        vertical-align: middle;\n",
       "    }\n",
       "\n",
       "    .dataframe tbody tr th {\n",
       "        vertical-align: top;\n",
       "    }\n",
       "\n",
       "    .dataframe thead th {\n",
       "        text-align: right;\n",
       "    }\n",
       "</style>\n",
       "<table border=\"1\" class=\"dataframe\">\n",
       "  <thead>\n",
       "    <tr style=\"text-align: right;\">\n",
       "      <th></th>\n",
       "      <th>meta</th>\n",
       "      <th>topic</th>\n",
       "      <th>weight</th>\n",
       "      <th>type</th>\n",
       "      <th>word</th>\n",
       "    </tr>\n",
       "  </thead>\n",
       "  <tbody>\n",
       "    <tr>\n",
       "      <th>0</th>\n",
       "      <td>env</td>\n",
       "      <td>Климат</td>\n",
       "      <td>1</td>\n",
       "      <td>0</td>\n",
       "      <td>ch4</td>\n",
       "    </tr>\n",
       "    <tr>\n",
       "      <th>1</th>\n",
       "      <td>env</td>\n",
       "      <td>Климат</td>\n",
       "      <td>1</td>\n",
       "      <td>0</td>\n",
       "      <td>co2</td>\n",
       "    </tr>\n",
       "    <tr>\n",
       "      <th>2</th>\n",
       "      <td>env</td>\n",
       "      <td>Климат</td>\n",
       "      <td>1</td>\n",
       "      <td>0</td>\n",
       "      <td>ghg protocol</td>\n",
       "    </tr>\n",
       "    <tr>\n",
       "      <th>3</th>\n",
       "      <td>env</td>\n",
       "      <td>Климат</td>\n",
       "      <td>1</td>\n",
       "      <td>0</td>\n",
       "      <td>n2o</td>\n",
       "    </tr>\n",
       "    <tr>\n",
       "      <th>4</th>\n",
       "      <td>env</td>\n",
       "      <td>Климат</td>\n",
       "      <td>1</td>\n",
       "      <td>0</td>\n",
       "      <td>scope 1</td>\n",
       "    </tr>\n",
       "  </tbody>\n",
       "</table>\n",
       "</div>"
      ],
      "text/plain": [
       "  meta   topic  weight  type          word\n",
       "0  env  Климат       1     0           ch4\n",
       "1  env  Климат       1     0           co2\n",
       "2  env  Климат       1     0  ghg protocol\n",
       "3  env  Климат       1     0           n2o\n",
       "4  env  Климат       1     0       scope 1"
      ]
     },
     "execution_count": 3,
     "metadata": {},
     "output_type": "execute_result"
    }
   ],
   "source": [
    "df = []\n",
    "df.extend(process_xlsx(\"data/topics/Environmental.xlsx\", \"env\"))\n",
    "df.extend(process_xlsx(\"data/topics/Social.xlsx\", \"social\"))\n",
    "df.extend(process_xlsx(\"data/topics/Governance.xlsx\", \"gov\"))\n",
    "df = pd.DataFrame(df)\n",
    "df.head()"
   ]
  },
  {
   "cell_type": "code",
   "execution_count": 4,
   "id": "13d99a16-0726-4704-95c5-73ef7132f019",
   "metadata": {},
   "outputs": [
    {
     "data": {
      "text/plain": [
       "(3157, 5)"
      ]
     },
     "execution_count": 4,
     "metadata": {},
     "output_type": "execute_result"
    }
   ],
   "source": [
    "df.shape"
   ]
  },
  {
   "cell_type": "code",
   "execution_count": 5,
   "id": "5bff870f-632c-4d8a-affa-c5a2055f6f51",
   "metadata": {},
   "outputs": [],
   "source": [
    "df.to_csv(\"topic_words.csv.zip\", index=False)"
   ]
  },
  {
   "cell_type": "code",
   "execution_count": null,
   "id": "7b1fdda0-9672-4daf-b69f-68bb4997c20c",
   "metadata": {},
   "outputs": [],
   "source": []
  }
 ],
 "metadata": {
  "kernelspec": {
   "display_name": "Python 3 (ipykernel)",
   "language": "python",
   "name": "python3"
  },
  "language_info": {
   "codemirror_mode": {
    "name": "ipython",
    "version": 3
   },
   "file_extension": ".py",
   "mimetype": "text/x-python",
   "name": "python",
   "nbconvert_exporter": "python",
   "pygments_lexer": "ipython3",
   "version": "3.10.4"
  }
 },
 "nbformat": 4,
 "nbformat_minor": 5
}
